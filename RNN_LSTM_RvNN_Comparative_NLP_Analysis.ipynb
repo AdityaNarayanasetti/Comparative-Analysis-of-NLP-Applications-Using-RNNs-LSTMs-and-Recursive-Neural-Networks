{
  "cells": [
    {
      "cell_type": "code",
      "execution_count": null,
      "metadata": {
        "_cell_guid": "b1076dfc-b9ad-4769-8c92-a6c4dae69d19",
        "_uuid": "8f2839f25d086af736a60e9eeb907d3b93b6e0e5",
        "execution": {
          "iopub.execute_input": "2024-03-21T12:08:52.782090Z",
          "iopub.status.busy": "2024-03-21T12:08:52.781732Z",
          "iopub.status.idle": "2024-03-21T12:08:54.024473Z",
          "shell.execute_reply": "2024-03-21T12:08:54.023392Z",
          "shell.execute_reply.started": "2024-03-21T12:08:52.782054Z"
        },
        "id": "gjWdbZAsm5Lf",
        "outputId": "bf7390ab-0e6c-4f2e-ad84-43d92d98c1b6",
        "trusted": true
      },
      "outputs": [
        {
          "name": "stdout",
          "output_type": "stream",
          "text": [
            "/kaggle/input/fake-news-classification/WELFake_Dataset.csv\n"
          ]
        }
      ],
      "source": [
        "\n",
        "\n",
        "import numpy as np # linear algebra\n",
        "import pandas as pd # data processing, CSV file I/O (e.g. pd.read_csv)\n",
        "\n",
        "# Input data files are available in the read-only \"../input/\" directory\n",
        "# For example, running this (by clicking run or pressing Shift+Enter) will list all files under the input directory\n",
        "\n",
        "import os\n",
        "for dirname, _, filenames in os.walk('/kaggle/input'):\n",
        "    for filename in filenames:\n",
        "        print(os.path.join(dirname, filename))\n",
        "\n",
        "# You can write up to 20GB to the current directory (/kaggle/working/) that gets preserved as output when you create a version using \"Save & Run All\"\n",
        "# You can also write temporary files to /kaggle/temp/, but they won't be saved outside of the current session"
      ]
    },
    {
      "cell_type": "markdown",
      "metadata": {
        "id": "9FoVmiIam5Ln"
      },
      "source": [
        "### Imports:"
      ]
    },
    {
      "cell_type": "code",
      "execution_count": null,
      "metadata": {
        "execution": {
          "iopub.execute_input": "2024-03-21T12:09:04.228988Z",
          "iopub.status.busy": "2024-03-21T12:09:04.228365Z",
          "iopub.status.idle": "2024-03-21T12:12:02.492141Z",
          "shell.execute_reply": "2024-03-21T12:12:02.490167Z",
          "shell.execute_reply.started": "2024-03-21T12:09:04.228945Z"
        },
        "id": "TycNzdfqm5Lp",
        "outputId": "fd38d923-a167-46d9-b81b-20b7aefd8cb5",
        "trusted": true
      },
      "outputs": [
        {
          "name": "stdout",
          "output_type": "stream",
          "text": [
            "--2024-03-21 12:09:05--  https://nlp.stanford.edu/software/stanford-corenlp-4.2.2.zip\n",
            "Resolving nlp.stanford.edu (nlp.stanford.edu)... 171.64.67.140\n",
            "Connecting to nlp.stanford.edu (nlp.stanford.edu)|171.64.67.140|:443... connected.\n",
            "HTTP request sent, awaiting response... 302 FOUND\n",
            "Location: https://downloads.cs.stanford.edu/nlp/software/stanford-corenlp-4.2.2.zip [following]\n",
            "--2024-03-21 12:09:05--  https://downloads.cs.stanford.edu/nlp/software/stanford-corenlp-4.2.2.zip\n",
            "Resolving downloads.cs.stanford.edu (downloads.cs.stanford.edu)... 171.64.64.22\n",
            "Connecting to downloads.cs.stanford.edu (downloads.cs.stanford.edu)|171.64.64.22|:443... connected.\n",
            "HTTP request sent, awaiting response... 200 OK\n",
            "Length: 504278711 (481M) [application/zip]\n",
            "Saving to: 'stanford-corenlp-4.2.2.zip'\n",
            "\n",
            "stanford-corenlp-4. 100%[===================>] 480.92M  5.09MB/s    in 91s     \n",
            "\n",
            "2024-03-21 12:10:36 (5.31 MB/s) - 'stanford-corenlp-4.2.2.zip' saved [504278711/504278711]\n",
            "\n",
            "--2024-03-21 12:10:37--  https://nlp.stanford.edu/software/stanford-corenlp-4.2.2-models-english.jar\n",
            "Resolving nlp.stanford.edu (nlp.stanford.edu)... 171.64.67.140\n",
            "Connecting to nlp.stanford.edu (nlp.stanford.edu)|171.64.67.140|:443... connected.\n",
            "HTTP request sent, awaiting response... 302 FOUND\n",
            "Location: https://downloads.cs.stanford.edu/nlp/software/stanford-corenlp-4.2.2-models-english.jar [following]\n",
            "--2024-03-21 12:10:37--  https://downloads.cs.stanford.edu/nlp/software/stanford-corenlp-4.2.2-models-english.jar\n",
            "Resolving downloads.cs.stanford.edu (downloads.cs.stanford.edu)... 171.64.64.22\n",
            "Connecting to downloads.cs.stanford.edu (downloads.cs.stanford.edu)|171.64.64.22|:443... connected.\n",
            "HTTP request sent, awaiting response... 200 OK\n",
            "Length: 444735210 (424M) [application/java-archive]\n",
            "Saving to: 'stanford-corenlp-4.2.2-models-english.jar'\n",
            "\n",
            "stanford-corenlp-4. 100%[===================>] 424.13M  5.12MB/s    in 80s     \n",
            "\n",
            "2024-03-21 12:11:57 (5.31 MB/s) - 'stanford-corenlp-4.2.2-models-english.jar' saved [444735210/444735210]\n",
            "\n",
            "Archive:  /kaggle/working/stanford-corenlp-4.2.2.zip\n",
            "   creating: stanford-corenlp-4.2.2/\n",
            "   creating: stanford-corenlp-4.2.2/patterns/\n",
            "  inflating: stanford-corenlp-4.2.2/patterns/names.txt  \n",
            " extracting: stanford-corenlp-4.2.2/patterns/otherpeople.txt  \n",
            "  inflating: stanford-corenlp-4.2.2/patterns/example.properties  \n",
            "  inflating: stanford-corenlp-4.2.2/patterns/presidents.txt  \n",
            "  inflating: stanford-corenlp-4.2.2/patterns/goldnames.txt  \n",
            " extracting: stanford-corenlp-4.2.2/patterns/places.txt  \n",
            "  inflating: stanford-corenlp-4.2.2/patterns/stopwords.txt  \n",
            " extracting: stanford-corenlp-4.2.2/patterns/goldplaces.txt  \n",
            "  inflating: stanford-corenlp-4.2.2/stanford-corenlp-4.2.2-sources.jar  \n",
            "  inflating: stanford-corenlp-4.2.2/pom-java-11.xml  \n",
            "  inflating: stanford-corenlp-4.2.2/input.txt.out  \n",
            "  inflating: stanford-corenlp-4.2.2/LIBRARY-LICENSES  \n",
            "  inflating: stanford-corenlp-4.2.2/istack-commons-runtime-3.0.7.jar  \n",
            "  inflating: stanford-corenlp-4.2.2/build.xml  \n",
            "  inflating: stanford-corenlp-4.2.2/jollyday.jar  \n",
            "  inflating: stanford-corenlp-4.2.2/StanfordDependenciesManual.pdf  \n",
            "  inflating: stanford-corenlp-4.2.2/javax.activation-api-1.2.0-sources.jar  \n",
            "  inflating: stanford-corenlp-4.2.2/pom.xml  \n",
            "  inflating: stanford-corenlp-4.2.2/javax.activation-api-1.2.0.jar  \n",
            "  inflating: stanford-corenlp-4.2.2/LICENSE.txt  \n",
            "  inflating: stanford-corenlp-4.2.2/jaxb-api-2.4.0-b180830.0359-sources.jar  \n",
            "  inflating: stanford-corenlp-4.2.2/StanfordCoreNlpDemo.java  \n",
            "  inflating: stanford-corenlp-4.2.2/joda-time-2.10.5-sources.jar  \n",
            "  inflating: stanford-corenlp-4.2.2/ejml-simple-0.39-sources.jar  \n",
            "  inflating: stanford-corenlp-4.2.2/ejml-ddense-0.39-sources.jar  \n",
            "   creating: stanford-corenlp-4.2.2/sutime/\n",
            "  inflating: stanford-corenlp-4.2.2/sutime/english.sutime.txt  \n",
            "  inflating: stanford-corenlp-4.2.2/sutime/spanish.sutime.txt  \n",
            "  inflating: stanford-corenlp-4.2.2/sutime/british.sutime.txt  \n",
            "  inflating: stanford-corenlp-4.2.2/sutime/english.holidays.sutime.txt  \n",
            "  inflating: stanford-corenlp-4.2.2/sutime/defs.sutime.txt  \n",
            "  inflating: stanford-corenlp-4.2.2/input.txt  \n",
            "  inflating: stanford-corenlp-4.2.2/slf4j-simple.jar  \n",
            "  inflating: stanford-corenlp-4.2.2/jaxb-impl-2.4.0-b180830.0438-sources.jar  \n",
            "  inflating: stanford-corenlp-4.2.2/README.txt  \n",
            "  inflating: stanford-corenlp-4.2.2/javax.json.jar  \n",
            "  inflating: stanford-corenlp-4.2.2/jollyday-0.4.9-sources.jar  \n",
            "   creating: stanford-corenlp-4.2.2/tokensregex/\n",
            "  inflating: stanford-corenlp-4.2.2/tokensregex/retokenize.txt  \n",
            "  inflating: stanford-corenlp-4.2.2/tokensregex/color.input.txt  \n",
            "  inflating: stanford-corenlp-4.2.2/tokensregex/color.properties  \n",
            "  inflating: stanford-corenlp-4.2.2/tokensregex/color.rules.txt  \n",
            "  inflating: stanford-corenlp-4.2.2/ejml-core-0.39-sources.jar  \n",
            "  inflating: stanford-corenlp-4.2.2/stanford-corenlp-4.2.2.jar  \n",
            "  inflating: stanford-corenlp-4.2.2/joda-time.jar  \n",
            "  inflating: stanford-corenlp-4.2.2/ejml-simple-0.39.jar  \n",
            "  inflating: stanford-corenlp-4.2.2/CoreNLP-to-HTML.xsl  \n",
            "  inflating: stanford-corenlp-4.2.2/xom.jar  \n",
            "  inflating: stanford-corenlp-4.2.2/xom-1.3.2-sources.jar  \n",
            "  inflating: stanford-corenlp-4.2.2/corenlp.sh  \n",
            "  inflating: stanford-corenlp-4.2.2/RESOURCE-LICENSES  \n",
            "  inflating: stanford-corenlp-4.2.2/input.txt.xml  \n",
            "  inflating: stanford-corenlp-4.2.2/protobuf-java-3.11.4.jar  \n",
            "  inflating: stanford-corenlp-4.2.2/Makefile  \n",
            "  inflating: stanford-corenlp-4.2.2/ShiftReduceDemo.java  \n",
            "  inflating: stanford-corenlp-4.2.2/javax.json-api-1.0-sources.jar  \n",
            "  inflating: stanford-corenlp-4.2.2/stanford-corenlp-4.2.2-models.jar  \n",
            "  inflating: stanford-corenlp-4.2.2/stanford-corenlp-4.2.2-javadoc.jar  \n",
            "  inflating: stanford-corenlp-4.2.2/ejml-core-0.39.jar  \n",
            "  inflating: stanford-corenlp-4.2.2/SemgrexDemo.java  \n",
            "  inflating: stanford-corenlp-4.2.2/jaxb-impl-2.4.0-b180830.0438.jar  \n",
            "  inflating: stanford-corenlp-4.2.2/jaxb-api-2.4.0-b180830.0359.jar  \n",
            "  inflating: stanford-corenlp-4.2.2/slf4j-api.jar  \n",
            "  inflating: stanford-corenlp-4.2.2/istack-commons-runtime-3.0.7-sources.jar  \n",
            "  inflating: stanford-corenlp-4.2.2/ejml-ddense-0.39.jar  \n"
          ]
        }
      ],
      "source": [
        "!wget https://nlp.stanford.edu/software/stanford-corenlp-4.2.2.zip\n",
        "!wget https://nlp.stanford.edu/software/stanford-corenlp-4.2.2-models-english.jar\n",
        "!unzip /kaggle/working/stanford-corenlp-4.2.2.zip"
      ]
    },
    {
      "cell_type": "code",
      "execution_count": null,
      "metadata": {
        "execution": {
          "iopub.execute_input": "2024-03-21T12:51:14.989444Z",
          "iopub.status.busy": "2024-03-21T12:51:14.988440Z",
          "iopub.status.idle": "2024-03-21T12:51:14.996087Z",
          "shell.execute_reply": "2024-03-21T12:51:14.994758Z",
          "shell.execute_reply.started": "2024-03-21T12:51:14.989396Z"
        },
        "id": "pPeL-KJom5Lr",
        "trusted": true
      },
      "outputs": [],
      "source": [
        "import networkx\n",
        "import matplotlib.pyplot as pyplot\n",
        "import seaborn\n",
        "from tqdm.notebook import tqdm\n",
        "import re\n",
        "from sklearn.model_selection import train_test_split\n",
        "from sklearn.metrics import confusion_matrix, accuracy_score, classification_report\n",
        "import time"
      ]
    },
    {
      "cell_type": "code",
      "execution_count": null,
      "metadata": {
        "execution": {
          "iopub.execute_input": "2024-03-21T12:40:22.407431Z",
          "iopub.status.busy": "2024-03-21T12:40:22.406990Z",
          "iopub.status.idle": "2024-03-21T12:40:22.413388Z",
          "shell.execute_reply": "2024-03-21T12:40:22.412442Z",
          "shell.execute_reply.started": "2024-03-21T12:40:22.407400Z"
        },
        "id": "QGwyTUw-m5Ls",
        "trusted": true
      },
      "outputs": [],
      "source": [
        "from nltk.parse.stanford import StanfordDependencyParser\n",
        "from graphviz import Source\n",
        "from nltk.stem.porter import PorterStemmer\n",
        "from nltk.corpus import stopwords"
      ]
    },
    {
      "cell_type": "code",
      "execution_count": null,
      "metadata": {
        "execution": {
          "iopub.execute_input": "2024-03-21T12:55:03.402620Z",
          "iopub.status.busy": "2024-03-21T12:55:03.402135Z",
          "iopub.status.idle": "2024-03-21T12:55:03.410091Z",
          "shell.execute_reply": "2024-03-21T12:55:03.409039Z",
          "shell.execute_reply.started": "2024-03-21T12:55:03.402573Z"
        },
        "id": "erAFm-pfm5Ls",
        "trusted": true
      },
      "outputs": [],
      "source": [
        "from tensorflow.keras.layers import Embedding\n",
        "from tensorflow.keras.preprocessing.sequence import pad_sequences\n",
        "from tensorflow.keras.models import Sequential\n",
        "from tensorflow.keras.preprocessing.text import one_hot\n",
        "from tensorflow.keras.layers import LSTM,Bidirectional\n",
        "from tensorflow.keras.layers import Dense, Dropout\n",
        "from tensorflow.keras.preprocessing.text import Tokenizer\n",
        "from tensorflow.keras.layers import SimpleRNN"
      ]
    },
    {
      "cell_type": "markdown",
      "metadata": {
        "id": "48pQcx7mm5Lt"
      },
      "source": [
        "<h1 align=\"center\">Load the Dataset</h1>"
      ]
    },
    {
      "cell_type": "code",
      "execution_count": null,
      "metadata": {
        "execution": {
          "iopub.execute_input": "2024-03-21T12:14:34.324107Z",
          "iopub.status.busy": "2024-03-21T12:14:34.323656Z",
          "iopub.status.idle": "2024-03-21T12:14:37.868547Z",
          "shell.execute_reply": "2024-03-21T12:14:37.867120Z",
          "shell.execute_reply.started": "2024-03-21T12:14:34.324076Z"
        },
        "id": "sLgwVFham5Lu",
        "outputId": "73c0fdb7-f8bb-41a1-ae21-75fb60108221",
        "trusted": true
      },
      "outputs": [
        {
          "data": {
            "text/html": [
              "<div>\n",
              "<style scoped>\n",
              "    .dataframe tbody tr th:only-of-type {\n",
              "        vertical-align: middle;\n",
              "    }\n",
              "\n",
              "    .dataframe tbody tr th {\n",
              "        vertical-align: top;\n",
              "    }\n",
              "\n",
              "    .dataframe thead th {\n",
              "        text-align: right;\n",
              "    }\n",
              "</style>\n",
              "<table border=\"1\" class=\"dataframe\">\n",
              "  <thead>\n",
              "    <tr style=\"text-align: right;\">\n",
              "      <th></th>\n",
              "      <th>title</th>\n",
              "      <th>text</th>\n",
              "      <th>label</th>\n",
              "    </tr>\n",
              "  </thead>\n",
              "  <tbody>\n",
              "    <tr>\n",
              "      <th>0</th>\n",
              "      <td>LAW ENFORCEMENT ON HIGH ALERT Following Threat...</td>\n",
              "      <td>No comment is expected from Barack Obama Membe...</td>\n",
              "      <td>1</td>\n",
              "    </tr>\n",
              "    <tr>\n",
              "      <th>1</th>\n",
              "      <td>NaN</td>\n",
              "      <td>Did they post their votes for Hillary already?</td>\n",
              "      <td>1</td>\n",
              "    </tr>\n",
              "    <tr>\n",
              "      <th>2</th>\n",
              "      <td>UNBELIEVABLE! OBAMA’S ATTORNEY GENERAL SAYS MO...</td>\n",
              "      <td>Now, most of the demonstrators gathered last ...</td>\n",
              "      <td>1</td>\n",
              "    </tr>\n",
              "    <tr>\n",
              "      <th>3</th>\n",
              "      <td>Bobby Jindal, raised Hindu, uses story of Chri...</td>\n",
              "      <td>A dozen politically active pastors came here f...</td>\n",
              "      <td>0</td>\n",
              "    </tr>\n",
              "    <tr>\n",
              "      <th>4</th>\n",
              "      <td>SATAN 2: Russia unvelis an image of its terrif...</td>\n",
              "      <td>The RS-28 Sarmat missile, dubbed Satan 2, will...</td>\n",
              "      <td>1</td>\n",
              "    </tr>\n",
              "    <tr>\n",
              "      <th>...</th>\n",
              "      <td>...</td>\n",
              "      <td>...</td>\n",
              "      <td>...</td>\n",
              "    </tr>\n",
              "    <tr>\n",
              "      <th>72129</th>\n",
              "      <td>Russians steal research on Trump in hack of U....</td>\n",
              "      <td>WASHINGTON (Reuters) - Hackers believed to be ...</td>\n",
              "      <td>0</td>\n",
              "    </tr>\n",
              "    <tr>\n",
              "      <th>72130</th>\n",
              "      <td>WATCH: Giuliani Demands That Democrats Apolog...</td>\n",
              "      <td>You know, because in fantasyland Republicans n...</td>\n",
              "      <td>1</td>\n",
              "    </tr>\n",
              "    <tr>\n",
              "      <th>72131</th>\n",
              "      <td>Migrants Refuse To Leave Train At Refugee Camp...</td>\n",
              "      <td>Migrants Refuse To Leave Train At Refugee Camp...</td>\n",
              "      <td>0</td>\n",
              "    </tr>\n",
              "    <tr>\n",
              "      <th>72132</th>\n",
              "      <td>Trump tussle gives unpopular Mexican leader mu...</td>\n",
              "      <td>MEXICO CITY (Reuters) - Donald Trump’s combati...</td>\n",
              "      <td>0</td>\n",
              "    </tr>\n",
              "    <tr>\n",
              "      <th>72133</th>\n",
              "      <td>Goldman Sachs Endorses Hillary Clinton For Pre...</td>\n",
              "      <td>Goldman Sachs Endorses Hillary Clinton For Pre...</td>\n",
              "      <td>1</td>\n",
              "    </tr>\n",
              "  </tbody>\n",
              "</table>\n",
              "<p>72134 rows × 3 columns</p>\n",
              "</div>"
            ],
            "text/plain": [
              "                                                   title  \\\n",
              "0      LAW ENFORCEMENT ON HIGH ALERT Following Threat...   \n",
              "1                                                    NaN   \n",
              "2      UNBELIEVABLE! OBAMA’S ATTORNEY GENERAL SAYS MO...   \n",
              "3      Bobby Jindal, raised Hindu, uses story of Chri...   \n",
              "4      SATAN 2: Russia unvelis an image of its terrif...   \n",
              "...                                                  ...   \n",
              "72129  Russians steal research on Trump in hack of U....   \n",
              "72130   WATCH: Giuliani Demands That Democrats Apolog...   \n",
              "72131  Migrants Refuse To Leave Train At Refugee Camp...   \n",
              "72132  Trump tussle gives unpopular Mexican leader mu...   \n",
              "72133  Goldman Sachs Endorses Hillary Clinton For Pre...   \n",
              "\n",
              "                                                    text  label  \n",
              "0      No comment is expected from Barack Obama Membe...      1  \n",
              "1         Did they post their votes for Hillary already?      1  \n",
              "2       Now, most of the demonstrators gathered last ...      1  \n",
              "3      A dozen politically active pastors came here f...      0  \n",
              "4      The RS-28 Sarmat missile, dubbed Satan 2, will...      1  \n",
              "...                                                  ...    ...  \n",
              "72129  WASHINGTON (Reuters) - Hackers believed to be ...      0  \n",
              "72130  You know, because in fantasyland Republicans n...      1  \n",
              "72131  Migrants Refuse To Leave Train At Refugee Camp...      0  \n",
              "72132  MEXICO CITY (Reuters) - Donald Trump’s combati...      0  \n",
              "72133  Goldman Sachs Endorses Hillary Clinton For Pre...      1  \n",
              "\n",
              "[72134 rows x 3 columns]"
            ]
          },
          "execution_count": 11,
          "metadata": {},
          "output_type": "execute_result"
        }
      ],
      "source": [
        "data = pd.read_csv(r\"/kaggle/input/fake-news-classification/WELFake_Dataset.csv\")\n",
        "data.drop(columns=[\"Unnamed: 0\"], inplace=True)\n",
        "data"
      ]
    },
    {
      "cell_type": "code",
      "execution_count": null,
      "metadata": {
        "execution": {
          "iopub.execute_input": "2024-03-21T12:14:44.078397Z",
          "iopub.status.busy": "2024-03-21T12:14:44.077971Z",
          "iopub.status.idle": "2024-03-21T12:14:44.113730Z",
          "shell.execute_reply": "2024-03-21T12:14:44.112690Z",
          "shell.execute_reply.started": "2024-03-21T12:14:44.078365Z"
        },
        "id": "AJiw2mKgm5Lu",
        "outputId": "74c991aa-4adb-412b-b8e4-31dfa0c5e362",
        "trusted": true
      },
      "outputs": [
        {
          "data": {
            "text/plain": [
              "title    558\n",
              "text      39\n",
              "label      0\n",
              "dtype: int64"
            ]
          },
          "execution_count": 12,
          "metadata": {},
          "output_type": "execute_result"
        }
      ],
      "source": [
        "data.isna().sum()"
      ]
    },
    {
      "cell_type": "code",
      "execution_count": null,
      "metadata": {
        "execution": {
          "iopub.execute_input": "2024-03-21T12:14:45.126831Z",
          "iopub.status.busy": "2024-03-21T12:14:45.125961Z",
          "iopub.status.idle": "2024-03-21T12:14:45.210833Z",
          "shell.execute_reply": "2024-03-21T12:14:45.209651Z",
          "shell.execute_reply.started": "2024-03-21T12:14:45.126794Z"
        },
        "id": "VzSCxafHm5Lv",
        "outputId": "7715540a-d02b-4959-b2c3-545a0826ac03",
        "trusted": true
      },
      "outputs": [
        {
          "data": {
            "text/plain": [
              "title    0\n",
              "text     0\n",
              "label    0\n",
              "dtype: int64"
            ]
          },
          "execution_count": 13,
          "metadata": {},
          "output_type": "execute_result"
        }
      ],
      "source": [
        "data.dropna(inplace=True)\n",
        "data.isna().sum()"
      ]
    },
    {
      "cell_type": "code",
      "execution_count": null,
      "metadata": {
        "execution": {
          "iopub.execute_input": "2024-03-21T12:14:45.863784Z",
          "iopub.status.busy": "2024-03-21T12:14:45.863038Z",
          "iopub.status.idle": "2024-03-21T12:14:45.886986Z",
          "shell.execute_reply": "2024-03-21T12:14:45.886068Z",
          "shell.execute_reply.started": "2024-03-21T12:14:45.863730Z"
        },
        "id": "eZLUWNI0m5Lw",
        "outputId": "8b7b51ab-3640-4eff-add1-eed753045709",
        "trusted": true
      },
      "outputs": [
        {
          "data": {
            "text/html": [
              "<div>\n",
              "<style scoped>\n",
              "    .dataframe tbody tr th:only-of-type {\n",
              "        vertical-align: middle;\n",
              "    }\n",
              "\n",
              "    .dataframe tbody tr th {\n",
              "        vertical-align: top;\n",
              "    }\n",
              "\n",
              "    .dataframe thead th {\n",
              "        text-align: right;\n",
              "    }\n",
              "</style>\n",
              "<table border=\"1\" class=\"dataframe\">\n",
              "  <thead>\n",
              "    <tr style=\"text-align: right;\">\n",
              "      <th></th>\n",
              "      <th>title</th>\n",
              "      <th>text</th>\n",
              "      <th>label</th>\n",
              "    </tr>\n",
              "  </thead>\n",
              "  <tbody>\n",
              "    <tr>\n",
              "      <th>0</th>\n",
              "      <td>LAW ENFORCEMENT ON HIGH ALERT Following Threat...</td>\n",
              "      <td>No comment is expected from Barack Obama Membe...</td>\n",
              "      <td>1</td>\n",
              "    </tr>\n",
              "    <tr>\n",
              "      <th>1</th>\n",
              "      <td>UNBELIEVABLE! OBAMA’S ATTORNEY GENERAL SAYS MO...</td>\n",
              "      <td>Now, most of the demonstrators gathered last ...</td>\n",
              "      <td>1</td>\n",
              "    </tr>\n",
              "    <tr>\n",
              "      <th>2</th>\n",
              "      <td>Bobby Jindal, raised Hindu, uses story of Chri...</td>\n",
              "      <td>A dozen politically active pastors came here f...</td>\n",
              "      <td>0</td>\n",
              "    </tr>\n",
              "    <tr>\n",
              "      <th>3</th>\n",
              "      <td>SATAN 2: Russia unvelis an image of its terrif...</td>\n",
              "      <td>The RS-28 Sarmat missile, dubbed Satan 2, will...</td>\n",
              "      <td>1</td>\n",
              "    </tr>\n",
              "    <tr>\n",
              "      <th>4</th>\n",
              "      <td>About Time! Christian Group Sues Amazon and SP...</td>\n",
              "      <td>All we can say on this one is it s about time ...</td>\n",
              "      <td>1</td>\n",
              "    </tr>\n",
              "    <tr>\n",
              "      <th>...</th>\n",
              "      <td>...</td>\n",
              "      <td>...</td>\n",
              "      <td>...</td>\n",
              "    </tr>\n",
              "    <tr>\n",
              "      <th>71532</th>\n",
              "      <td>Russians steal research on Trump in hack of U....</td>\n",
              "      <td>WASHINGTON (Reuters) - Hackers believed to be ...</td>\n",
              "      <td>0</td>\n",
              "    </tr>\n",
              "    <tr>\n",
              "      <th>71533</th>\n",
              "      <td>WATCH: Giuliani Demands That Democrats Apolog...</td>\n",
              "      <td>You know, because in fantasyland Republicans n...</td>\n",
              "      <td>1</td>\n",
              "    </tr>\n",
              "    <tr>\n",
              "      <th>71534</th>\n",
              "      <td>Migrants Refuse To Leave Train At Refugee Camp...</td>\n",
              "      <td>Migrants Refuse To Leave Train At Refugee Camp...</td>\n",
              "      <td>0</td>\n",
              "    </tr>\n",
              "    <tr>\n",
              "      <th>71535</th>\n",
              "      <td>Trump tussle gives unpopular Mexican leader mu...</td>\n",
              "      <td>MEXICO CITY (Reuters) - Donald Trump’s combati...</td>\n",
              "      <td>0</td>\n",
              "    </tr>\n",
              "    <tr>\n",
              "      <th>71536</th>\n",
              "      <td>Goldman Sachs Endorses Hillary Clinton For Pre...</td>\n",
              "      <td>Goldman Sachs Endorses Hillary Clinton For Pre...</td>\n",
              "      <td>1</td>\n",
              "    </tr>\n",
              "  </tbody>\n",
              "</table>\n",
              "<p>71537 rows × 3 columns</p>\n",
              "</div>"
            ],
            "text/plain": [
              "                                                   title  \\\n",
              "0      LAW ENFORCEMENT ON HIGH ALERT Following Threat...   \n",
              "1      UNBELIEVABLE! OBAMA’S ATTORNEY GENERAL SAYS MO...   \n",
              "2      Bobby Jindal, raised Hindu, uses story of Chri...   \n",
              "3      SATAN 2: Russia unvelis an image of its terrif...   \n",
              "4      About Time! Christian Group Sues Amazon and SP...   \n",
              "...                                                  ...   \n",
              "71532  Russians steal research on Trump in hack of U....   \n",
              "71533   WATCH: Giuliani Demands That Democrats Apolog...   \n",
              "71534  Migrants Refuse To Leave Train At Refugee Camp...   \n",
              "71535  Trump tussle gives unpopular Mexican leader mu...   \n",
              "71536  Goldman Sachs Endorses Hillary Clinton For Pre...   \n",
              "\n",
              "                                                    text  label  \n",
              "0      No comment is expected from Barack Obama Membe...      1  \n",
              "1       Now, most of the demonstrators gathered last ...      1  \n",
              "2      A dozen politically active pastors came here f...      0  \n",
              "3      The RS-28 Sarmat missile, dubbed Satan 2, will...      1  \n",
              "4      All we can say on this one is it s about time ...      1  \n",
              "...                                                  ...    ...  \n",
              "71532  WASHINGTON (Reuters) - Hackers believed to be ...      0  \n",
              "71533  You know, because in fantasyland Republicans n...      1  \n",
              "71534  Migrants Refuse To Leave Train At Refugee Camp...      0  \n",
              "71535  MEXICO CITY (Reuters) - Donald Trump’s combati...      0  \n",
              "71536  Goldman Sachs Endorses Hillary Clinton For Pre...      1  \n",
              "\n",
              "[71537 rows x 3 columns]"
            ]
          },
          "execution_count": 14,
          "metadata": {},
          "output_type": "execute_result"
        }
      ],
      "source": [
        "data.reset_index(inplace=True)\n",
        "data.drop(columns=[\"index\"], inplace=True)\n",
        "data"
      ]
    },
    {
      "cell_type": "markdown",
      "metadata": {
        "id": "xqEigTlGm5Lw"
      },
      "source": [
        "### Reduce Size of Dataset:"
      ]
    },
    {
      "cell_type": "markdown",
      "metadata": {
        "id": "nqkBpCaDm5Lx"
      },
      "source": [
        "### 100 Size for Testing purposes, will be increased later"
      ]
    },
    {
      "cell_type": "code",
      "execution_count": null,
      "metadata": {
        "execution": {
          "iopub.execute_input": "2024-03-21T12:23:18.040951Z",
          "iopub.status.busy": "2024-03-21T12:23:18.040503Z",
          "iopub.status.idle": "2024-03-21T12:23:18.056964Z",
          "shell.execute_reply": "2024-03-21T12:23:18.055450Z",
          "shell.execute_reply.started": "2024-03-21T12:23:18.040919Z"
        },
        "id": "3Qvv8s93m5Lx",
        "outputId": "9caa95bc-f221-4e82-d2b8-8060f331635e",
        "trusted": true
      },
      "outputs": [
        {
          "data": {
            "text/html": [
              "<div>\n",
              "<style scoped>\n",
              "    .dataframe tbody tr th:only-of-type {\n",
              "        vertical-align: middle;\n",
              "    }\n",
              "\n",
              "    .dataframe tbody tr th {\n",
              "        vertical-align: top;\n",
              "    }\n",
              "\n",
              "    .dataframe thead th {\n",
              "        text-align: right;\n",
              "    }\n",
              "</style>\n",
              "<table border=\"1\" class=\"dataframe\">\n",
              "  <thead>\n",
              "    <tr style=\"text-align: right;\">\n",
              "      <th></th>\n",
              "      <th>title</th>\n",
              "      <th>text</th>\n",
              "      <th>label</th>\n",
              "    </tr>\n",
              "  </thead>\n",
              "  <tbody>\n",
              "    <tr>\n",
              "      <th>0</th>\n",
              "      <td>law enforcement on high alert following threat...</td>\n",
              "      <td>no comment is expected from barack obama membe...</td>\n",
              "      <td>1</td>\n",
              "    </tr>\n",
              "    <tr>\n",
              "      <th>1</th>\n",
              "      <td>unbelievable obamas attorney general says most...</td>\n",
              "      <td>now most of the demonstrators gathered last n...</td>\n",
              "      <td>1</td>\n",
              "    </tr>\n",
              "    <tr>\n",
              "      <th>2</th>\n",
              "      <td>bobby jindal raised hindu uses story of christ...</td>\n",
              "      <td>a dozen politically active pastors came here f...</td>\n",
              "      <td>0</td>\n",
              "    </tr>\n",
              "    <tr>\n",
              "      <th>3</th>\n",
              "      <td>satan  russia unvelis an image of its terrifyi...</td>\n",
              "      <td>the rs sarmat missile dubbed satan  will repla...</td>\n",
              "      <td>1</td>\n",
              "    </tr>\n",
              "    <tr>\n",
              "      <th>4</th>\n",
              "      <td>about time christian group sues amazon and spl...</td>\n",
              "      <td>all we can say on this one is it s about time ...</td>\n",
              "      <td>1</td>\n",
              "    </tr>\n",
              "    <tr>\n",
              "      <th>...</th>\n",
              "      <td>...</td>\n",
              "      <td>...</td>\n",
              "      <td>...</td>\n",
              "    </tr>\n",
              "    <tr>\n",
              "      <th>95</th>\n",
              "      <td>boiler room ep   weather warfare  cnn goblin pits</td>\n",
              "      <td>tune in to the alternate current radio network...</td>\n",
              "      <td>1</td>\n",
              "    </tr>\n",
              "    <tr>\n",
              "      <th>96</th>\n",
              "      <td>college republicans president attacked by anti...</td>\n",
              "      <td>so much for trying to come together like the l...</td>\n",
              "      <td>1</td>\n",
              "    </tr>\n",
              "    <tr>\n",
              "      <th>97</th>\n",
              "      <td>beyonce doubles downdebuts lemonade another ra...</td>\n",
              "      <td>most of the world will be obsessed with beyonc...</td>\n",
              "      <td>1</td>\n",
              "    </tr>\n",
              "    <tr>\n",
              "      <th>98</th>\n",
              "      <td>one person shot in portland as antitrump prote...</td>\n",
              "      <td>reuters  one person was shot at an antitrump d...</td>\n",
              "      <td>0</td>\n",
              "    </tr>\n",
              "    <tr>\n",
              "      <th>99</th>\n",
              "      <td>for helping immigrants chobanis founder draws ...</td>\n",
              "      <td>by many measures chobani embodies the classic ...</td>\n",
              "      <td>0</td>\n",
              "    </tr>\n",
              "  </tbody>\n",
              "</table>\n",
              "<p>100 rows × 3 columns</p>\n",
              "</div>"
            ],
            "text/plain": [
              "                                                title  \\\n",
              "0   law enforcement on high alert following threat...   \n",
              "1   unbelievable obamas attorney general says most...   \n",
              "2   bobby jindal raised hindu uses story of christ...   \n",
              "3   satan  russia unvelis an image of its terrifyi...   \n",
              "4   about time christian group sues amazon and spl...   \n",
              "..                                                ...   \n",
              "95  boiler room ep   weather warfare  cnn goblin pits   \n",
              "96  college republicans president attacked by anti...   \n",
              "97  beyonce doubles downdebuts lemonade another ra...   \n",
              "98  one person shot in portland as antitrump prote...   \n",
              "99  for helping immigrants chobanis founder draws ...   \n",
              "\n",
              "                                                 text  label  \n",
              "0   no comment is expected from barack obama membe...      1  \n",
              "1    now most of the demonstrators gathered last n...      1  \n",
              "2   a dozen politically active pastors came here f...      0  \n",
              "3   the rs sarmat missile dubbed satan  will repla...      1  \n",
              "4   all we can say on this one is it s about time ...      1  \n",
              "..                                                ...    ...  \n",
              "95  tune in to the alternate current radio network...      1  \n",
              "96  so much for trying to come together like the l...      1  \n",
              "97  most of the world will be obsessed with beyonc...      1  \n",
              "98  reuters  one person was shot at an antitrump d...      0  \n",
              "99  by many measures chobani embodies the classic ...      0  \n",
              "\n",
              "[100 rows x 3 columns]"
            ]
          },
          "execution_count": 35,
          "metadata": {},
          "output_type": "execute_result"
        }
      ],
      "source": [
        "data = data[:100]\n",
        "data"
      ]
    },
    {
      "cell_type": "markdown",
      "metadata": {
        "id": "Bdy42iE8m5Lx"
      },
      "source": [
        "<h1 align=\"center\">Dependency Parsing</h1>"
      ]
    },
    {
      "cell_type": "code",
      "execution_count": null,
      "metadata": {
        "execution": {
          "iopub.execute_input": "2024-03-21T12:14:50.066335Z",
          "iopub.status.busy": "2024-03-21T12:14:50.065580Z",
          "iopub.status.idle": "2024-03-21T12:14:50.071849Z",
          "shell.execute_reply": "2024-03-21T12:14:50.070124Z",
          "shell.execute_reply.started": "2024-03-21T12:14:50.066292Z"
        },
        "id": "OQ8pzOUZm5Ly",
        "trusted": true
      },
      "outputs": [],
      "source": [
        "jar_path = \"/kaggle/working/stanford-corenlp-4.2.2/stanford-corenlp-4.2.2.jar\"\n",
        "models_jar_path = \"/kaggle/working/stanford-corenlp-4.2.2-models-english.jar\""
      ]
    },
    {
      "cell_type": "code",
      "execution_count": null,
      "metadata": {
        "execution": {
          "iopub.execute_input": "2024-03-21T12:14:51.175321Z",
          "iopub.status.busy": "2024-03-21T12:14:51.174928Z",
          "iopub.status.idle": "2024-03-21T12:14:51.183016Z",
          "shell.execute_reply": "2024-03-21T12:14:51.181473Z",
          "shell.execute_reply.started": "2024-03-21T12:14:51.175292Z"
        },
        "id": "sg5G_fkwm5Ly",
        "outputId": "d0612e7f-8360-4e17-87a3-2bdc6f8e6804",
        "trusted": true
      },
      "outputs": [
        {
          "data": {
            "text/plain": [
              "'The food is really horrible at this restaurent.'"
            ]
          },
          "execution_count": 16,
          "metadata": {},
          "output_type": "execute_result"
        }
      ],
      "source": [
        "sample_sentence = \"The food is really horrible at this restaurent.\"\n",
        "sample_sentence"
      ]
    },
    {
      "cell_type": "code",
      "execution_count": null,
      "metadata": {
        "execution": {
          "iopub.execute_input": "2024-03-21T12:14:51.511494Z",
          "iopub.status.busy": "2024-03-21T12:14:51.511126Z",
          "iopub.status.idle": "2024-03-21T12:14:54.524485Z",
          "shell.execute_reply": "2024-03-21T12:14:54.523201Z",
          "shell.execute_reply.started": "2024-03-21T12:14:51.511465Z"
        },
        "id": "RON9lnRWm5Ly",
        "outputId": "0770b6da-fb3c-4be0-a274-41478af7b802",
        "trusted": true
      },
      "outputs": [
        {
          "name": "stdout",
          "output_type": "stream",
          "text": [
            "Head                 | Head POS   | Relation   | Dependent            | Dependent POS\n",
            "-------------------------------------------------------------------------------------\n",
            "horrible             | JJ         | nsubj      | food                 | NN        \n",
            "food                 | NN         | det        | The                  | DT        \n",
            "horrible             | JJ         | cop        | is                   | VBZ       \n",
            "horrible             | JJ         | advmod     | really               | RB        \n",
            "horrible             | JJ         | obl        | restaurent           | NN        \n",
            "restaurent           | NN         | case       | at                   | IN        \n",
            "restaurent           | NN         | det        | this                 | DT        \n"
          ]
        }
      ],
      "source": [
        "# Initializing the Parser:\n",
        "parser = StanfordDependencyParser(path_to_jar=jar_path, path_to_models_jar=models_jar_path)\n",
        "\n",
        "# Parse the Sentence:\n",
        "result = parser.raw_parse(sample_sentence)\n",
        "dependency = result.__next__()\n",
        "\n",
        "print (\"{:<20} | {:<10} | {:<10} | {:<20} | {:<10}\".format('Head', 'Head POS','Relation','Dependent', 'Dependent POS'))\n",
        "print (\"-\" * 85)\n",
        "\n",
        "# Use dependency.triples() to extract the dependency triples in the form\n",
        "# ((head word, head POS), relation, (dependent word, dependent POS))\n",
        "for dep in list(dependency.triples()):\n",
        "    print (\"{:<20} | {:<10} | {:<10} | {:<20} | {:<10}\".format(str(dep[0][0]),str(dep[0][1]), str(dep[1]), str(dep[2][0]),str(dep[2][1])))"
      ]
    },
    {
      "cell_type": "code",
      "execution_count": null,
      "metadata": {
        "execution": {
          "iopub.execute_input": "2024-03-21T12:14:54.673513Z",
          "iopub.status.busy": "2024-03-21T12:14:54.673155Z",
          "iopub.status.idle": "2024-03-21T12:14:55.060881Z",
          "shell.execute_reply": "2024-03-21T12:14:55.059562Z",
          "shell.execute_reply.started": "2024-03-21T12:14:54.673485Z"
        },
        "id": "qrkoh3Ucm5Ly",
        "outputId": "47473d3b-d622-4c8d-cd99-cd492f63ae22",
        "trusted": true
      },
      "outputs": [
        {
          "data": {
            "image/png": "[encoded data removed]",
            "text/plain": [
              "<Figure size 640x480 with 1 Axes>"
            ]
          },
          "metadata": {},
          "output_type": "display_data"
        }
      ],
      "source": [
        "# Using reverse() to reverse the direction of edges as nx_graph() returns inverted edges:\n",
        "G = dependency.nx_graph().reverse()\n",
        "\n",
        "# nx_graph() returns numeric node labels starting from 1\n",
        "# Create a dictionary to map numeric nodes and words in the sentence\n",
        "words = sample_sentence.split(\" \")\n",
        "labels = {index + 1: words[index] for index in range(len(words))}\n",
        "networkx.draw(G, with_labels=True, labels=labels, node_size=2500, node_color='#B5EAD7', font_size=10)"
      ]
    },
    {
      "cell_type": "code",
      "execution_count": null,
      "metadata": {
        "execution": {
          "iopub.execute_input": "2024-03-21T12:14:55.822614Z",
          "iopub.status.busy": "2024-03-21T12:14:55.821426Z",
          "iopub.status.idle": "2024-03-21T12:14:56.017635Z",
          "shell.execute_reply": "2024-03-21T12:14:56.016748Z",
          "shell.execute_reply.started": "2024-03-21T12:14:55.822546Z"
        },
        "id": "78ABZmDcm5Lz",
        "outputId": "d869d7f4-da30-4595-c2df-e28c9916799a",
        "trusted": true
      },
      "outputs": [
        {
          "data": {
            "image/svg+xml": [
              "<?xml version=\"1.0\" encoding=\"UTF-8\" standalone=\"no\"?>\n",
              "<!DOCTYPE svg PUBLIC \"-//W3C//DTD SVG 1.1//EN\"\n",
              " \"http://www.w3.org/Graphics/SVG/1.1/DTD/svg11.dtd\">\n",
              "<!-- Generated by graphviz version 9.0.0 (20231125.0833)\n",
              " -->\n",
              "<!-- Title: G Pages: 1 -->\n",
              "<svg width=\"397pt\" height=\"312pt\"\n",
              " viewBox=\"0.00 0.00 396.88 311.75\" xmlns=\"http://www.w3.org/2000/svg\" xmlns:xlink=\"http://www.w3.org/1999/xlink\">\n",
              "<g id=\"graph0\" class=\"graph\" transform=\"scale(1 1) rotate(0) translate(4 307.75)\">\n",
              "<title>G</title>\n",
              "<polygon fill=\"white\" stroke=\"none\" points=\"-4,4 -4,-307.75 392.88,-307.75 392.88,4 -4,4\"/>\n",
              "<!-- 0 -->\n",
              "<g id=\"node1\" class=\"node\">\n",
              "<title>0</title>\n",
              "<text text-anchor=\"middle\" x=\"157.38\" y=\"-281.07\" font-family=\"Times,serif\" font-size=\"14.00\">0 (None)</text>\n",
              "</g>\n",
              "<!-- 5 -->\n",
              "<g id=\"node2\" class=\"node\">\n",
              "<title>5</title>\n",
              "<text text-anchor=\"middle\" x=\"157.38\" y=\"-191.82\" font-family=\"Times,serif\" font-size=\"14.00\">5 (horrible)</text>\n",
              "</g>\n",
              "<!-- 0&#45;&gt;5 -->\n",
              "<g id=\"edge1\" class=\"edge\">\n",
              "<title>0&#45;&gt;5</title>\n",
              "<path fill=\"none\" stroke=\"black\" d=\"M157.38,-267.93C157.38,-255.98 157.38,-239.65 157.38,-225.72\"/>\n",
              "<polygon fill=\"black\" stroke=\"black\" points=\"160.88,-225.78 157.38,-215.78 153.88,-225.78 160.88,-225.78\"/>\n",
              "<text text-anchor=\"middle\" x=\"172\" y=\"-236.45\" font-family=\"Times,serif\" font-size=\"14.00\">root</text>\n",
              "</g>\n",
              "<!-- 2 -->\n",
              "<g id=\"node4\" class=\"node\">\n",
              "<title>2</title>\n",
              "<text text-anchor=\"middle\" x=\"35.38\" y=\"-102.58\" font-family=\"Times,serif\" font-size=\"14.00\">2 (food)</text>\n",
              "</g>\n",
              "<!-- 5&#45;&gt;2 -->\n",
              "<g id=\"edge3\" class=\"edge\">\n",
              "<title>5&#45;&gt;2</title>\n",
              "<path fill=\"none\" stroke=\"black\" d=\"M120.47,-178.56C110.38,-173.31 99.66,-167.14 90.38,-160.5 79.22,-152.53 68.04,-142.39 58.7,-133.18\"/>\n",
              "<polygon fill=\"black\" stroke=\"black\" points=\"61.27,-130.8 51.76,-126.14 56.29,-135.72 61.27,-130.8\"/>\n",
              "<text text-anchor=\"middle\" x=\"109.88\" y=\"-147.2\" font-family=\"Times,serif\" font-size=\"14.00\">nsubj</text>\n",
              "</g>\n",
              "<!-- 3 -->\n",
              "<g id=\"node5\" class=\"node\">\n",
              "<title>3</title>\n",
              "<text text-anchor=\"middle\" x=\"115.38\" y=\"-102.58\" font-family=\"Times,serif\" font-size=\"14.00\">3 (is)</text>\n",
              "</g>\n",
              "<!-- 5&#45;&gt;3 -->\n",
              "<g id=\"edge4\" class=\"edge\">\n",
              "<title>5&#45;&gt;3</title>\n",
              "<path fill=\"none\" stroke=\"black\" d=\"M149.28,-178.68C143.35,-166.37 135.19,-149.4 128.35,-135.21\"/>\n",
              "<polygon fill=\"black\" stroke=\"black\" points=\"131.6,-133.88 124.1,-126.38 125.29,-136.91 131.6,-133.88\"/>\n",
              "<text text-anchor=\"middle\" x=\"152.75\" y=\"-147.2\" font-family=\"Times,serif\" font-size=\"14.00\">cop</text>\n",
              "</g>\n",
              "<!-- 4 -->\n",
              "<g id=\"node6\" class=\"node\">\n",
              "<title>4</title>\n",
              "<text text-anchor=\"middle\" x=\"200.38\" y=\"-102.58\" font-family=\"Times,serif\" font-size=\"14.00\">4 (really)</text>\n",
              "</g>\n",
              "<!-- 5&#45;&gt;4 -->\n",
              "<g id=\"edge5\" class=\"edge\">\n",
              "<title>5&#45;&gt;4</title>\n",
              "<path fill=\"none\" stroke=\"black\" d=\"M165.67,-178.68C171.73,-166.37 180.09,-149.4 187.09,-135.21\"/>\n",
              "<polygon fill=\"black\" stroke=\"black\" points=\"190.16,-136.9 191.44,-126.38 183.88,-133.8 190.16,-136.9\"/>\n",
              "<text text-anchor=\"middle\" x=\"211.5\" y=\"-147.2\" font-family=\"Times,serif\" font-size=\"14.00\">advmod</text>\n",
              "</g>\n",
              "<!-- 8 -->\n",
              "<g id=\"node7\" class=\"node\">\n",
              "<title>8</title>\n",
              "<text text-anchor=\"middle\" x=\"316.38\" y=\"-102.58\" font-family=\"Times,serif\" font-size=\"14.00\">8 (restaurent)</text>\n",
              "</g>\n",
              "<!-- 5&#45;&gt;8 -->\n",
              "<g id=\"edge6\" class=\"edge\">\n",
              "<title>5&#45;&gt;8</title>\n",
              "<path fill=\"none\" stroke=\"black\" d=\"M204.72,-178.55C217.55,-173.34 231.23,-167.19 243.38,-160.5 258.31,-152.26 273.82,-141.52 286.68,-131.92\"/>\n",
              "<polygon fill=\"black\" stroke=\"black\" points=\"288.49,-134.94 294.32,-126.1 284.25,-129.37 288.49,-134.94\"/>\n",
              "<text text-anchor=\"middle\" x=\"282.25\" y=\"-147.2\" font-family=\"Times,serif\" font-size=\"14.00\">obl</text>\n",
              "</g>\n",
              "<!-- 1 -->\n",
              "<g id=\"node3\" class=\"node\">\n",
              "<title>1</title>\n",
              "<text text-anchor=\"middle\" x=\"35.38\" y=\"-13.32\" font-family=\"Times,serif\" font-size=\"14.00\">1 (The)</text>\n",
              "</g>\n",
              "<!-- 2&#45;&gt;1 -->\n",
              "<g id=\"edge2\" class=\"edge\">\n",
              "<title>2&#45;&gt;1</title>\n",
              "<path fill=\"none\" stroke=\"black\" d=\"M35.38,-89.43C35.38,-77.48 35.38,-61.15 35.38,-47.22\"/>\n",
              "<polygon fill=\"black\" stroke=\"black\" points=\"38.88,-47.28 35.38,-37.28 31.88,-47.28 38.88,-47.28\"/>\n",
              "<text text-anchor=\"middle\" x=\"47\" y=\"-57.95\" font-family=\"Times,serif\" font-size=\"14.00\">det</text>\n",
              "</g>\n",
              "<!-- 6 -->\n",
              "<g id=\"node8\" class=\"node\">\n",
              "<title>6</title>\n",
              "<text text-anchor=\"middle\" x=\"276.38\" y=\"-13.32\" font-family=\"Times,serif\" font-size=\"14.00\">6 (at)</text>\n",
              "</g>\n",
              "<!-- 8&#45;&gt;6 -->\n",
              "<g id=\"edge7\" class=\"edge\">\n",
              "<title>8&#45;&gt;6</title>\n",
              "<path fill=\"none\" stroke=\"black\" d=\"M306.39,-89.4C303.18,-83.72 299.73,-77.29 296.88,-71.25 293.1,-63.25 289.42,-54.36 286.25,-46.21\"/>\n",
              "<polygon fill=\"black\" stroke=\"black\" points=\"289.63,-45.24 282.82,-37.13 283.08,-47.72 289.63,-45.24\"/>\n",
              "<text text-anchor=\"middle\" x=\"313.12\" y=\"-57.95\" font-family=\"Times,serif\" font-size=\"14.00\">case</text>\n",
              "</g>\n",
              "<!-- 7 -->\n",
              "<g id=\"node9\" class=\"node\">\n",
              "<title>7</title>\n",
              "<text text-anchor=\"middle\" x=\"355.38\" y=\"-13.32\" font-family=\"Times,serif\" font-size=\"14.00\">7 (this)</text>\n",
              "</g>\n",
              "<!-- 8&#45;&gt;7 -->\n",
              "<g id=\"edge8\" class=\"edge\">\n",
              "<title>8&#45;&gt;7</title>\n",
              "<path fill=\"none\" stroke=\"black\" d=\"M323.89,-89.43C329.4,-77.12 336.98,-60.15 343.32,-45.96\"/>\n",
              "<polygon fill=\"black\" stroke=\"black\" points=\"346.38,-47.71 347.26,-37.15 339.98,-44.85 346.38,-47.71\"/>\n",
              "<text text-anchor=\"middle\" x=\"350\" y=\"-57.95\" font-family=\"Times,serif\" font-size=\"14.00\">det</text>\n",
              "</g>\n",
              "</g>\n",
              "</svg>\n"
            ],
            "text/plain": [
              "<DependencyGraph with 9 nodes>"
            ]
          },
          "execution_count": 23,
          "metadata": {},
          "output_type": "execute_result"
        }
      ],
      "source": [
        "dependency"
      ]
    },
    {
      "cell_type": "markdown",
      "metadata": {
        "id": "netoNTUbm5Lz"
      },
      "source": [
        "### Performing Dependency Parsing on the Dataset:"
      ]
    },
    {
      "cell_type": "code",
      "execution_count": null,
      "metadata": {
        "execution": {
          "iopub.execute_input": "2024-03-21T12:31:03.557054Z",
          "iopub.status.busy": "2024-03-21T12:31:03.556662Z",
          "iopub.status.idle": "2024-03-21T12:31:03.572193Z",
          "shell.execute_reply": "2024-03-21T12:31:03.570629Z",
          "shell.execute_reply.started": "2024-03-21T12:31:03.557025Z"
        },
        "id": "xZ7--aw5m5L0",
        "outputId": "07644af5-92f2-4afd-d945-38e5b5149d2c",
        "trusted": true
      },
      "outputs": [
        {
          "data": {
            "text/html": [
              "<div>\n",
              "<style scoped>\n",
              "    .dataframe tbody tr th:only-of-type {\n",
              "        vertical-align: middle;\n",
              "    }\n",
              "\n",
              "    .dataframe tbody tr th {\n",
              "        vertical-align: top;\n",
              "    }\n",
              "\n",
              "    .dataframe thead th {\n",
              "        text-align: right;\n",
              "    }\n",
              "</style>\n",
              "<table border=\"1\" class=\"dataframe\">\n",
              "  <thead>\n",
              "    <tr style=\"text-align: right;\">\n",
              "      <th></th>\n",
              "      <th>title</th>\n",
              "      <th>text</th>\n",
              "      <th>label</th>\n",
              "    </tr>\n",
              "  </thead>\n",
              "  <tbody>\n",
              "    <tr>\n",
              "      <th>0</th>\n",
              "      <td>law enforcement on high alert following threat...</td>\n",
              "      <td>no comment is expected from barack obama membe...</td>\n",
              "      <td>1</td>\n",
              "    </tr>\n",
              "    <tr>\n",
              "      <th>1</th>\n",
              "      <td>unbelievable obamas attorney general says most...</td>\n",
              "      <td>now most of the demonstrators gathered last n...</td>\n",
              "      <td>1</td>\n",
              "    </tr>\n",
              "    <tr>\n",
              "      <th>2</th>\n",
              "      <td>bobby jindal raised hindu uses story of christ...</td>\n",
              "      <td>a dozen politically active pastors came here f...</td>\n",
              "      <td>0</td>\n",
              "    </tr>\n",
              "    <tr>\n",
              "      <th>3</th>\n",
              "      <td>satan  russia unvelis an image of its terrifyi...</td>\n",
              "      <td>the rs sarmat missile dubbed satan  will repla...</td>\n",
              "      <td>1</td>\n",
              "    </tr>\n",
              "    <tr>\n",
              "      <th>4</th>\n",
              "      <td>about time christian group sues amazon and spl...</td>\n",
              "      <td>all we can say on this one is it s about time ...</td>\n",
              "      <td>1</td>\n",
              "    </tr>\n",
              "    <tr>\n",
              "      <th>...</th>\n",
              "      <td>...</td>\n",
              "      <td>...</td>\n",
              "      <td>...</td>\n",
              "    </tr>\n",
              "    <tr>\n",
              "      <th>95</th>\n",
              "      <td>boiler room ep   weather warfare  cnn goblin pits</td>\n",
              "      <td>tune in to the alternate current radio network...</td>\n",
              "      <td>1</td>\n",
              "    </tr>\n",
              "    <tr>\n",
              "      <th>96</th>\n",
              "      <td>college republicans president attacked by anti...</td>\n",
              "      <td>so much for trying to come together like the l...</td>\n",
              "      <td>1</td>\n",
              "    </tr>\n",
              "    <tr>\n",
              "      <th>97</th>\n",
              "      <td>beyonce doubles downdebuts lemonade another ra...</td>\n",
              "      <td>most of the world will be obsessed with beyonc...</td>\n",
              "      <td>1</td>\n",
              "    </tr>\n",
              "    <tr>\n",
              "      <th>98</th>\n",
              "      <td>one person shot in portland as antitrump prote...</td>\n",
              "      <td>reuters  one person was shot at an antitrump d...</td>\n",
              "      <td>0</td>\n",
              "    </tr>\n",
              "    <tr>\n",
              "      <th>99</th>\n",
              "      <td>for helping immigrants chobanis founder draws ...</td>\n",
              "      <td>by many measures chobani embodies the classic ...</td>\n",
              "      <td>0</td>\n",
              "    </tr>\n",
              "  </tbody>\n",
              "</table>\n",
              "<p>100 rows × 3 columns</p>\n",
              "</div>"
            ],
            "text/plain": [
              "                                                title  \\\n",
              "0   law enforcement on high alert following threat...   \n",
              "1   unbelievable obamas attorney general says most...   \n",
              "2   bobby jindal raised hindu uses story of christ...   \n",
              "3   satan  russia unvelis an image of its terrifyi...   \n",
              "4   about time christian group sues amazon and spl...   \n",
              "..                                                ...   \n",
              "95  boiler room ep   weather warfare  cnn goblin pits   \n",
              "96  college republicans president attacked by anti...   \n",
              "97  beyonce doubles downdebuts lemonade another ra...   \n",
              "98  one person shot in portland as antitrump prote...   \n",
              "99  for helping immigrants chobanis founder draws ...   \n",
              "\n",
              "                                                 text  label  \n",
              "0   no comment is expected from barack obama membe...      1  \n",
              "1    now most of the demonstrators gathered last n...      1  \n",
              "2   a dozen politically active pastors came here f...      0  \n",
              "3   the rs sarmat missile dubbed satan  will repla...      1  \n",
              "4   all we can say on this one is it s about time ...      1  \n",
              "..                                                ...    ...  \n",
              "95  tune in to the alternate current radio network...      1  \n",
              "96  so much for trying to come together like the l...      1  \n",
              "97  most of the world will be obsessed with beyonc...      1  \n",
              "98  reuters  one person was shot at an antitrump d...      0  \n",
              "99  by many measures chobani embodies the classic ...      0  \n",
              "\n",
              "[100 rows x 3 columns]"
            ]
          },
          "execution_count": 45,
          "metadata": {},
          "output_type": "execute_result"
        }
      ],
      "source": [
        "data"
      ]
    },
    {
      "cell_type": "code",
      "execution_count": null,
      "metadata": {
        "execution": {
          "iopub.execute_input": "2024-03-21T12:31:05.483107Z",
          "iopub.status.busy": "2024-03-21T12:31:05.482698Z",
          "iopub.status.idle": "2024-03-21T12:31:05.489475Z",
          "shell.execute_reply": "2024-03-21T12:31:05.488261Z",
          "shell.execute_reply.started": "2024-03-21T12:31:05.483074Z"
        },
        "id": "p-z0BrF7m5L0",
        "trusted": true
      },
      "outputs": [],
      "source": [
        "# Initialize the Parser:\n",
        "parser = StanfordDependencyParser(path_to_jar=jar_path, path_to_models_jar=models_jar_path)\n",
        "parsed_list = []"
      ]
    },
    {
      "cell_type": "code",
      "execution_count": null,
      "metadata": {
        "execution": {
          "iopub.execute_input": "2024-03-21T12:31:09.362732Z",
          "iopub.status.busy": "2024-03-21T12:31:09.362274Z",
          "iopub.status.idle": "2024-03-21T12:31:09.368773Z",
          "shell.execute_reply": "2024-03-21T12:31:09.367098Z",
          "shell.execute_reply.started": "2024-03-21T12:31:09.362699Z"
        },
        "id": "A5c2YfNam5L0",
        "trusted": true
      },
      "outputs": [],
      "source": [
        "MAX_LEN = 20"
      ]
    },
    {
      "cell_type": "code",
      "execution_count": null,
      "metadata": {
        "colab": {
          "referenced_widgets": [
            "a0f3a9d82285481b97a0a6e7bb0339c0"
          ]
        },
        "execution": {
          "iopub.execute_input": "2024-03-21T12:31:10.683487Z",
          "iopub.status.busy": "2024-03-21T12:31:10.682797Z",
          "iopub.status.idle": "2024-03-21T12:35:10.732229Z",
          "shell.execute_reply": "2024-03-21T12:35:10.730910Z",
          "shell.execute_reply.started": "2024-03-21T12:31:10.683450Z"
        },
        "id": "TGLcKqPbm5L0",
        "outputId": "ddd5c6c6-f39c-4384-d338-8096a4a23a8d",
        "trusted": true
      },
      "outputs": [
        {
          "data": {
            "application/vnd.jupyter.widget-view+json": {
              "model_id": "a0f3a9d82285481b97a0a6e7bb0339c0",
              "version_major": 2,
              "version_minor": 0
            },
            "text/plain": [
              "  0%|          | 0/100 [00:00<?, ?it/s]"
            ]
          },
          "metadata": {},
          "output_type": "display_data"
        }
      ],
      "source": [
        "for i in tqdm(range(len(data[\"title\"]))):\n",
        "    temp_text = data[\"title\"][i]\n",
        "\n",
        "    # Set MAX length of Input Text:\n",
        "    if len(str(temp_text)) > MAX_LEN:\n",
        "        temp_text = temp_text[:MAX_LEN]\n",
        "\n",
        "    # Parse the Sentence:\n",
        "    result = parser.raw_parse(temp_text)\n",
        "    dependency = result.__next__()\n",
        "\n",
        "    # Get the list of Parsed Tokens:\n",
        "    dependency_list = list(dependency.triples())\n",
        "\n",
        "    # Get extracted HEAD Tokens and add to parsed_sentence:\n",
        "    parsed_sentence = \"\"\n",
        "    for tpl in dependency_list:\n",
        "        token = tpl[0][0]\n",
        "        if token not in parsed_sentence:\n",
        "            parsed_sentence += token\n",
        "            parsed_sentence += \" \"\n",
        "\n",
        "    # Add Parsed Sentence to the final Dataframe:\n",
        "    parsed_list.append(parsed_sentence)"
      ]
    },
    {
      "cell_type": "code",
      "execution_count": null,
      "metadata": {
        "execution": {
          "iopub.execute_input": "2024-03-21T12:35:17.218520Z",
          "iopub.status.busy": "2024-03-21T12:35:17.218120Z",
          "iopub.status.idle": "2024-03-21T12:35:17.226761Z",
          "shell.execute_reply": "2024-03-21T12:35:17.225361Z",
          "shell.execute_reply.started": "2024-03-21T12:35:17.218489Z"
        },
        "id": "mmlP4-lZm5L1",
        "outputId": "01c01c1b-72a3-4ff4-980e-05d290933ece",
        "trusted": true
      },
      "outputs": [
        {
          "data": {
            "text/plain": [
              "['enforcement h ', 'obamas ', 'raised ', 'satan unveli ', 'christian time ']"
            ]
          },
          "execution_count": 49,
          "metadata": {},
          "output_type": "execute_result"
        }
      ],
      "source": [
        "parsed_list[:5]"
      ]
    },
    {
      "cell_type": "code",
      "execution_count": null,
      "metadata": {
        "execution": {
          "iopub.execute_input": "2024-03-21T12:35:21.545049Z",
          "iopub.status.busy": "2024-03-21T12:35:21.544677Z",
          "iopub.status.idle": "2024-03-21T12:35:21.553484Z",
          "shell.execute_reply": "2024-03-21T12:35:21.552015Z",
          "shell.execute_reply.started": "2024-03-21T12:35:21.545020Z"
        },
        "id": "4jJ6GQA6m5L1",
        "outputId": "50603e86-831f-4ea7-f8d7-0e8e25c4fad7",
        "trusted": true
      },
      "outputs": [
        {
          "data": {
            "text/plain": [
              "100"
            ]
          },
          "execution_count": 50,
          "metadata": {},
          "output_type": "execute_result"
        }
      ],
      "source": [
        "len(parsed_list)"
      ]
    },
    {
      "cell_type": "code",
      "execution_count": null,
      "metadata": {
        "execution": {
          "iopub.execute_input": "2024-03-21T12:35:32.598023Z",
          "iopub.status.busy": "2024-03-21T12:35:32.597574Z",
          "iopub.status.idle": "2024-03-21T12:35:32.617323Z",
          "shell.execute_reply": "2024-03-21T12:35:32.616332Z",
          "shell.execute_reply.started": "2024-03-21T12:35:32.597992Z"
        },
        "id": "Iok_LWgIm5L2",
        "outputId": "ebc07e7c-a1fc-4046-87fc-2ac99acc0163",
        "trusted": true
      },
      "outputs": [
        {
          "name": "stderr",
          "output_type": "stream",
          "text": [
            "/tmp/ipykernel_33/2167325365.py:1: SettingWithCopyWarning: \n",
            "A value is trying to be set on a copy of a slice from a DataFrame.\n",
            "Try using .loc[row_indexer,col_indexer] = value instead\n",
            "\n",
            "See the caveats in the documentation: https://pandas.pydata.org/pandas-docs/stable/user_guide/indexing.html#returning-a-view-versus-a-copy\n",
            "  data[\"Parsed\"] = parsed_list\n"
          ]
        },
        {
          "data": {
            "text/html": [
              "<div>\n",
              "<style scoped>\n",
              "    .dataframe tbody tr th:only-of-type {\n",
              "        vertical-align: middle;\n",
              "    }\n",
              "\n",
              "    .dataframe tbody tr th {\n",
              "        vertical-align: top;\n",
              "    }\n",
              "\n",
              "    .dataframe thead th {\n",
              "        text-align: right;\n",
              "    }\n",
              "</style>\n",
              "<table border=\"1\" class=\"dataframe\">\n",
              "  <thead>\n",
              "    <tr style=\"text-align: right;\">\n",
              "      <th></th>\n",
              "      <th>title</th>\n",
              "      <th>text</th>\n",
              "      <th>label</th>\n",
              "      <th>Parsed</th>\n",
              "    </tr>\n",
              "  </thead>\n",
              "  <tbody>\n",
              "    <tr>\n",
              "      <th>0</th>\n",
              "      <td>law enforcement on high alert following threat...</td>\n",
              "      <td>no comment is expected from barack obama membe...</td>\n",
              "      <td>1</td>\n",
              "      <td>enforcement h</td>\n",
              "    </tr>\n",
              "    <tr>\n",
              "      <th>1</th>\n",
              "      <td>unbelievable obamas attorney general says most...</td>\n",
              "      <td>now most of the demonstrators gathered last n...</td>\n",
              "      <td>1</td>\n",
              "      <td>obamas</td>\n",
              "    </tr>\n",
              "    <tr>\n",
              "      <th>2</th>\n",
              "      <td>bobby jindal raised hindu uses story of christ...</td>\n",
              "      <td>a dozen politically active pastors came here f...</td>\n",
              "      <td>0</td>\n",
              "      <td>raised</td>\n",
              "    </tr>\n",
              "    <tr>\n",
              "      <th>3</th>\n",
              "      <td>satan  russia unvelis an image of its terrifyi...</td>\n",
              "      <td>the rs sarmat missile dubbed satan  will repla...</td>\n",
              "      <td>1</td>\n",
              "      <td>satan unveli</td>\n",
              "    </tr>\n",
              "    <tr>\n",
              "      <th>4</th>\n",
              "      <td>about time christian group sues amazon and spl...</td>\n",
              "      <td>all we can say on this one is it s about time ...</td>\n",
              "      <td>1</td>\n",
              "      <td>christian time</td>\n",
              "    </tr>\n",
              "    <tr>\n",
              "      <th>...</th>\n",
              "      <td>...</td>\n",
              "      <td>...</td>\n",
              "      <td>...</td>\n",
              "      <td>...</td>\n",
              "    </tr>\n",
              "    <tr>\n",
              "      <th>95</th>\n",
              "      <td>boiler room ep   weather warfare  cnn goblin pits</td>\n",
              "      <td>tune in to the alternate current radio network...</td>\n",
              "      <td>1</td>\n",
              "      <td>wea room</td>\n",
              "    </tr>\n",
              "    <tr>\n",
              "      <th>96</th>\n",
              "      <td>college republicans president attacked by anti...</td>\n",
              "      <td>so much for trying to come together like the l...</td>\n",
              "      <td>1</td>\n",
              "      <td>college</td>\n",
              "    </tr>\n",
              "    <tr>\n",
              "      <th>97</th>\n",
              "      <td>beyonce doubles downdebuts lemonade another ra...</td>\n",
              "      <td>most of the world will be obsessed with beyonc...</td>\n",
              "      <td>1</td>\n",
              "      <td>doubles</td>\n",
              "    </tr>\n",
              "    <tr>\n",
              "      <th>98</th>\n",
              "      <td>one person shot in portland as antitrump prote...</td>\n",
              "      <td>reuters  one person was shot at an antitrump d...</td>\n",
              "      <td>0</td>\n",
              "      <td>person shot</td>\n",
              "    </tr>\n",
              "    <tr>\n",
              "      <th>99</th>\n",
              "      <td>for helping immigrants chobanis founder draws ...</td>\n",
              "      <td>by many measures chobani embodies the classic ...</td>\n",
              "      <td>0</td>\n",
              "      <td>helping</td>\n",
              "    </tr>\n",
              "  </tbody>\n",
              "</table>\n",
              "<p>100 rows × 4 columns</p>\n",
              "</div>"
            ],
            "text/plain": [
              "                                                title  \\\n",
              "0   law enforcement on high alert following threat...   \n",
              "1   unbelievable obamas attorney general says most...   \n",
              "2   bobby jindal raised hindu uses story of christ...   \n",
              "3   satan  russia unvelis an image of its terrifyi...   \n",
              "4   about time christian group sues amazon and spl...   \n",
              "..                                                ...   \n",
              "95  boiler room ep   weather warfare  cnn goblin pits   \n",
              "96  college republicans president attacked by anti...   \n",
              "97  beyonce doubles downdebuts lemonade another ra...   \n",
              "98  one person shot in portland as antitrump prote...   \n",
              "99  for helping immigrants chobanis founder draws ...   \n",
              "\n",
              "                                                 text  label           Parsed  \n",
              "0   no comment is expected from barack obama membe...      1   enforcement h   \n",
              "1    now most of the demonstrators gathered last n...      1          obamas   \n",
              "2   a dozen politically active pastors came here f...      0          raised   \n",
              "3   the rs sarmat missile dubbed satan  will repla...      1    satan unveli   \n",
              "4   all we can say on this one is it s about time ...      1  christian time   \n",
              "..                                                ...    ...              ...  \n",
              "95  tune in to the alternate current radio network...      1        wea room   \n",
              "96  so much for trying to come together like the l...      1         college   \n",
              "97  most of the world will be obsessed with beyonc...      1         doubles   \n",
              "98  reuters  one person was shot at an antitrump d...      0     person shot   \n",
              "99  by many measures chobani embodies the classic ...      0         helping   \n",
              "\n",
              "[100 rows x 4 columns]"
            ]
          },
          "execution_count": 51,
          "metadata": {},
          "output_type": "execute_result"
        }
      ],
      "source": [
        "data[\"Parsed\"] = parsed_list\n",
        "data"
      ]
    },
    {
      "cell_type": "markdown",
      "metadata": {
        "id": "z5Km7UTFm5L2"
      },
      "source": [
        "<h1 align=\"center\">Pre-Processing the Dataset</h1>"
      ]
    },
    {
      "cell_type": "markdown",
      "metadata": {
        "id": "HYeubUXGm5L3"
      },
      "source": [
        "### Convert to Lowercase:"
      ]
    },
    {
      "cell_type": "code",
      "execution_count": null,
      "metadata": {
        "execution": {
          "iopub.execute_input": "2024-03-21T12:35:46.123007Z",
          "iopub.status.busy": "2024-03-21T12:35:46.122478Z",
          "iopub.status.idle": "2024-03-21T12:35:46.148731Z",
          "shell.execute_reply": "2024-03-21T12:35:46.147142Z",
          "shell.execute_reply.started": "2024-03-21T12:35:46.122971Z"
        },
        "id": "Q7ttkE9gm5L3",
        "outputId": "c5b300b4-f7b2-439e-94de-47e6ec825618",
        "trusted": true
      },
      "outputs": [
        {
          "name": "stderr",
          "output_type": "stream",
          "text": [
            "/tmp/ipykernel_33/3375798826.py:1: FutureWarning: DataFrame.applymap has been deprecated. Use DataFrame.map instead.\n",
            "  data = data.applymap(lambda x: x.lower() if isinstance(x, str) else x)\n"
          ]
        },
        {
          "data": {
            "text/html": [
              "<div>\n",
              "<style scoped>\n",
              "    .dataframe tbody tr th:only-of-type {\n",
              "        vertical-align: middle;\n",
              "    }\n",
              "\n",
              "    .dataframe tbody tr th {\n",
              "        vertical-align: top;\n",
              "    }\n",
              "\n",
              "    .dataframe thead th {\n",
              "        text-align: right;\n",
              "    }\n",
              "</style>\n",
              "<table border=\"1\" class=\"dataframe\">\n",
              "  <thead>\n",
              "    <tr style=\"text-align: right;\">\n",
              "      <th></th>\n",
              "      <th>title</th>\n",
              "      <th>text</th>\n",
              "      <th>label</th>\n",
              "      <th>Parsed</th>\n",
              "    </tr>\n",
              "  </thead>\n",
              "  <tbody>\n",
              "    <tr>\n",
              "      <th>0</th>\n",
              "      <td>law enforcement on high alert following threat...</td>\n",
              "      <td>no comment is expected from barack obama membe...</td>\n",
              "      <td>1</td>\n",
              "      <td>enforcement h</td>\n",
              "    </tr>\n",
              "    <tr>\n",
              "      <th>1</th>\n",
              "      <td>unbelievable obamas attorney general says most...</td>\n",
              "      <td>now most of the demonstrators gathered last n...</td>\n",
              "      <td>1</td>\n",
              "      <td>obamas</td>\n",
              "    </tr>\n",
              "    <tr>\n",
              "      <th>2</th>\n",
              "      <td>bobby jindal raised hindu uses story of christ...</td>\n",
              "      <td>a dozen politically active pastors came here f...</td>\n",
              "      <td>0</td>\n",
              "      <td>raised</td>\n",
              "    </tr>\n",
              "    <tr>\n",
              "      <th>3</th>\n",
              "      <td>satan  russia unvelis an image of its terrifyi...</td>\n",
              "      <td>the rs sarmat missile dubbed satan  will repla...</td>\n",
              "      <td>1</td>\n",
              "      <td>satan unveli</td>\n",
              "    </tr>\n",
              "    <tr>\n",
              "      <th>4</th>\n",
              "      <td>about time christian group sues amazon and spl...</td>\n",
              "      <td>all we can say on this one is it s about time ...</td>\n",
              "      <td>1</td>\n",
              "      <td>christian time</td>\n",
              "    </tr>\n",
              "    <tr>\n",
              "      <th>...</th>\n",
              "      <td>...</td>\n",
              "      <td>...</td>\n",
              "      <td>...</td>\n",
              "      <td>...</td>\n",
              "    </tr>\n",
              "    <tr>\n",
              "      <th>95</th>\n",
              "      <td>boiler room ep   weather warfare  cnn goblin pits</td>\n",
              "      <td>tune in to the alternate current radio network...</td>\n",
              "      <td>1</td>\n",
              "      <td>wea room</td>\n",
              "    </tr>\n",
              "    <tr>\n",
              "      <th>96</th>\n",
              "      <td>college republicans president attacked by anti...</td>\n",
              "      <td>so much for trying to come together like the l...</td>\n",
              "      <td>1</td>\n",
              "      <td>college</td>\n",
              "    </tr>\n",
              "    <tr>\n",
              "      <th>97</th>\n",
              "      <td>beyonce doubles downdebuts lemonade another ra...</td>\n",
              "      <td>most of the world will be obsessed with beyonc...</td>\n",
              "      <td>1</td>\n",
              "      <td>doubles</td>\n",
              "    </tr>\n",
              "    <tr>\n",
              "      <th>98</th>\n",
              "      <td>one person shot in portland as antitrump prote...</td>\n",
              "      <td>reuters  one person was shot at an antitrump d...</td>\n",
              "      <td>0</td>\n",
              "      <td>person shot</td>\n",
              "    </tr>\n",
              "    <tr>\n",
              "      <th>99</th>\n",
              "      <td>for helping immigrants chobanis founder draws ...</td>\n",
              "      <td>by many measures chobani embodies the classic ...</td>\n",
              "      <td>0</td>\n",
              "      <td>helping</td>\n",
              "    </tr>\n",
              "  </tbody>\n",
              "</table>\n",
              "<p>100 rows × 4 columns</p>\n",
              "</div>"
            ],
            "text/plain": [
              "                                                title  \\\n",
              "0   law enforcement on high alert following threat...   \n",
              "1   unbelievable obamas attorney general says most...   \n",
              "2   bobby jindal raised hindu uses story of christ...   \n",
              "3   satan  russia unvelis an image of its terrifyi...   \n",
              "4   about time christian group sues amazon and spl...   \n",
              "..                                                ...   \n",
              "95  boiler room ep   weather warfare  cnn goblin pits   \n",
              "96  college republicans president attacked by anti...   \n",
              "97  beyonce doubles downdebuts lemonade another ra...   \n",
              "98  one person shot in portland as antitrump prote...   \n",
              "99  for helping immigrants chobanis founder draws ...   \n",
              "\n",
              "                                                 text  label           Parsed  \n",
              "0   no comment is expected from barack obama membe...      1   enforcement h   \n",
              "1    now most of the demonstrators gathered last n...      1          obamas   \n",
              "2   a dozen politically active pastors came here f...      0          raised   \n",
              "3   the rs sarmat missile dubbed satan  will repla...      1    satan unveli   \n",
              "4   all we can say on this one is it s about time ...      1  christian time   \n",
              "..                                                ...    ...              ...  \n",
              "95  tune in to the alternate current radio network...      1        wea room   \n",
              "96  so much for trying to come together like the l...      1         college   \n",
              "97  most of the world will be obsessed with beyonc...      1         doubles   \n",
              "98  reuters  one person was shot at an antitrump d...      0     person shot   \n",
              "99  by many measures chobani embodies the classic ...      0         helping   \n",
              "\n",
              "[100 rows x 4 columns]"
            ]
          },
          "execution_count": 52,
          "metadata": {},
          "output_type": "execute_result"
        }
      ],
      "source": [
        "data = data.applymap(lambda x: x.lower() if isinstance(x, str) else x)\n",
        "data"
      ]
    },
    {
      "cell_type": "markdown",
      "metadata": {
        "id": "1CU7qVlbm5L4"
      },
      "source": [
        "### Remove Special Charactors:"
      ]
    },
    {
      "cell_type": "code",
      "execution_count": null,
      "metadata": {
        "execution": {
          "iopub.execute_input": "2024-03-21T12:35:48.611132Z",
          "iopub.status.busy": "2024-03-21T12:35:48.610713Z",
          "iopub.status.idle": "2024-03-21T12:35:48.646465Z",
          "shell.execute_reply": "2024-03-21T12:35:48.644805Z",
          "shell.execute_reply.started": "2024-03-21T12:35:48.611101Z"
        },
        "id": "es0dI2cSm5L4",
        "outputId": "eb24f6ce-2be2-4dcf-9fa9-9af79ce030ef",
        "trusted": true
      },
      "outputs": [
        {
          "data": {
            "text/html": [
              "<div>\n",
              "<style scoped>\n",
              "    .dataframe tbody tr th:only-of-type {\n",
              "        vertical-align: middle;\n",
              "    }\n",
              "\n",
              "    .dataframe tbody tr th {\n",
              "        vertical-align: top;\n",
              "    }\n",
              "\n",
              "    .dataframe thead th {\n",
              "        text-align: right;\n",
              "    }\n",
              "</style>\n",
              "<table border=\"1\" class=\"dataframe\">\n",
              "  <thead>\n",
              "    <tr style=\"text-align: right;\">\n",
              "      <th></th>\n",
              "      <th>title</th>\n",
              "      <th>text</th>\n",
              "      <th>label</th>\n",
              "      <th>Parsed</th>\n",
              "    </tr>\n",
              "  </thead>\n",
              "  <tbody>\n",
              "    <tr>\n",
              "      <th>0</th>\n",
              "      <td>law enforcement on high alert following threat...</td>\n",
              "      <td>no comment is expected from barack obama membe...</td>\n",
              "      <td>1</td>\n",
              "      <td>enforcement h</td>\n",
              "    </tr>\n",
              "    <tr>\n",
              "      <th>1</th>\n",
              "      <td>unbelievable obamas attorney general says most...</td>\n",
              "      <td>now most of the demonstrators gathered last n...</td>\n",
              "      <td>1</td>\n",
              "      <td>obamas</td>\n",
              "    </tr>\n",
              "    <tr>\n",
              "      <th>2</th>\n",
              "      <td>bobby jindal raised hindu uses story of christ...</td>\n",
              "      <td>a dozen politically active pastors came here f...</td>\n",
              "      <td>0</td>\n",
              "      <td>raised</td>\n",
              "    </tr>\n",
              "    <tr>\n",
              "      <th>3</th>\n",
              "      <td>satan  russia unvelis an image of its terrifyi...</td>\n",
              "      <td>the rs sarmat missile dubbed satan  will repla...</td>\n",
              "      <td>1</td>\n",
              "      <td>satan unveli</td>\n",
              "    </tr>\n",
              "    <tr>\n",
              "      <th>4</th>\n",
              "      <td>about time christian group sues amazon and spl...</td>\n",
              "      <td>all we can say on this one is it s about time ...</td>\n",
              "      <td>1</td>\n",
              "      <td>christian time</td>\n",
              "    </tr>\n",
              "    <tr>\n",
              "      <th>...</th>\n",
              "      <td>...</td>\n",
              "      <td>...</td>\n",
              "      <td>...</td>\n",
              "      <td>...</td>\n",
              "    </tr>\n",
              "    <tr>\n",
              "      <th>95</th>\n",
              "      <td>boiler room ep   weather warfare  cnn goblin pits</td>\n",
              "      <td>tune in to the alternate current radio network...</td>\n",
              "      <td>1</td>\n",
              "      <td>wea room</td>\n",
              "    </tr>\n",
              "    <tr>\n",
              "      <th>96</th>\n",
              "      <td>college republicans president attacked by anti...</td>\n",
              "      <td>so much for trying to come together like the l...</td>\n",
              "      <td>1</td>\n",
              "      <td>college</td>\n",
              "    </tr>\n",
              "    <tr>\n",
              "      <th>97</th>\n",
              "      <td>beyonce doubles downdebuts lemonade another ra...</td>\n",
              "      <td>most of the world will be obsessed with beyonc...</td>\n",
              "      <td>1</td>\n",
              "      <td>doubles</td>\n",
              "    </tr>\n",
              "    <tr>\n",
              "      <th>98</th>\n",
              "      <td>one person shot in portland as antitrump prote...</td>\n",
              "      <td>reuters  one person was shot at an antitrump d...</td>\n",
              "      <td>0</td>\n",
              "      <td>person shot</td>\n",
              "    </tr>\n",
              "    <tr>\n",
              "      <th>99</th>\n",
              "      <td>for helping immigrants chobanis founder draws ...</td>\n",
              "      <td>by many measures chobani embodies the classic ...</td>\n",
              "      <td>0</td>\n",
              "      <td>helping</td>\n",
              "    </tr>\n",
              "  </tbody>\n",
              "</table>\n",
              "<p>100 rows × 4 columns</p>\n",
              "</div>"
            ],
            "text/plain": [
              "                                                title  \\\n",
              "0   law enforcement on high alert following threat...   \n",
              "1   unbelievable obamas attorney general says most...   \n",
              "2   bobby jindal raised hindu uses story of christ...   \n",
              "3   satan  russia unvelis an image of its terrifyi...   \n",
              "4   about time christian group sues amazon and spl...   \n",
              "..                                                ...   \n",
              "95  boiler room ep   weather warfare  cnn goblin pits   \n",
              "96  college republicans president attacked by anti...   \n",
              "97  beyonce doubles downdebuts lemonade another ra...   \n",
              "98  one person shot in portland as antitrump prote...   \n",
              "99  for helping immigrants chobanis founder draws ...   \n",
              "\n",
              "                                                 text  label           Parsed  \n",
              "0   no comment is expected from barack obama membe...      1   enforcement h   \n",
              "1    now most of the demonstrators gathered last n...      1          obamas   \n",
              "2   a dozen politically active pastors came here f...      0          raised   \n",
              "3   the rs sarmat missile dubbed satan  will repla...      1    satan unveli   \n",
              "4   all we can say on this one is it s about time ...      1  christian time   \n",
              "..                                                ...    ...              ...  \n",
              "95  tune in to the alternate current radio network...      1        wea room   \n",
              "96  so much for trying to come together like the l...      1         college   \n",
              "97  most of the world will be obsessed with beyonc...      1         doubles   \n",
              "98  reuters  one person was shot at an antitrump d...      0     person shot   \n",
              "99  by many measures chobani embodies the classic ...      0         helping   \n",
              "\n",
              "[100 rows x 4 columns]"
            ]
          },
          "execution_count": 53,
          "metadata": {},
          "output_type": "execute_result"
        }
      ],
      "source": [
        "data = data.replace(to_replace=r'[^\\w\\s]', value='', regex=True)\n",
        "data"
      ]
    },
    {
      "cell_type": "markdown",
      "metadata": {
        "id": "p9t1robEm5L5"
      },
      "source": [
        "### Removing Digits:"
      ]
    },
    {
      "cell_type": "code",
      "execution_count": null,
      "metadata": {
        "execution": {
          "iopub.execute_input": "2024-03-21T12:35:50.692725Z",
          "iopub.status.busy": "2024-03-21T12:35:50.692220Z",
          "iopub.status.idle": "2024-03-21T12:35:50.719137Z",
          "shell.execute_reply": "2024-03-21T12:35:50.717384Z",
          "shell.execute_reply.started": "2024-03-21T12:35:50.692690Z"
        },
        "id": "tFHv8WLWm5L5",
        "outputId": "c28840b7-233a-4185-ab48-b3b35524ff10",
        "trusted": true
      },
      "outputs": [
        {
          "data": {
            "text/html": [
              "<div>\n",
              "<style scoped>\n",
              "    .dataframe tbody tr th:only-of-type {\n",
              "        vertical-align: middle;\n",
              "    }\n",
              "\n",
              "    .dataframe tbody tr th {\n",
              "        vertical-align: top;\n",
              "    }\n",
              "\n",
              "    .dataframe thead th {\n",
              "        text-align: right;\n",
              "    }\n",
              "</style>\n",
              "<table border=\"1\" class=\"dataframe\">\n",
              "  <thead>\n",
              "    <tr style=\"text-align: right;\">\n",
              "      <th></th>\n",
              "      <th>title</th>\n",
              "      <th>text</th>\n",
              "      <th>label</th>\n",
              "      <th>Parsed</th>\n",
              "    </tr>\n",
              "  </thead>\n",
              "  <tbody>\n",
              "    <tr>\n",
              "      <th>0</th>\n",
              "      <td>law enforcement on high alert following threat...</td>\n",
              "      <td>no comment is expected from barack obama membe...</td>\n",
              "      <td>1</td>\n",
              "      <td>enforcement h</td>\n",
              "    </tr>\n",
              "    <tr>\n",
              "      <th>1</th>\n",
              "      <td>unbelievable obamas attorney general says most...</td>\n",
              "      <td>now most of the demonstrators gathered last n...</td>\n",
              "      <td>1</td>\n",
              "      <td>obamas</td>\n",
              "    </tr>\n",
              "    <tr>\n",
              "      <th>2</th>\n",
              "      <td>bobby jindal raised hindu uses story of christ...</td>\n",
              "      <td>a dozen politically active pastors came here f...</td>\n",
              "      <td>0</td>\n",
              "      <td>raised</td>\n",
              "    </tr>\n",
              "    <tr>\n",
              "      <th>3</th>\n",
              "      <td>satan  russia unvelis an image of its terrifyi...</td>\n",
              "      <td>the rs sarmat missile dubbed satan  will repla...</td>\n",
              "      <td>1</td>\n",
              "      <td>satan unveli</td>\n",
              "    </tr>\n",
              "    <tr>\n",
              "      <th>4</th>\n",
              "      <td>about time christian group sues amazon and spl...</td>\n",
              "      <td>all we can say on this one is it s about time ...</td>\n",
              "      <td>1</td>\n",
              "      <td>christian time</td>\n",
              "    </tr>\n",
              "    <tr>\n",
              "      <th>...</th>\n",
              "      <td>...</td>\n",
              "      <td>...</td>\n",
              "      <td>...</td>\n",
              "      <td>...</td>\n",
              "    </tr>\n",
              "    <tr>\n",
              "      <th>95</th>\n",
              "      <td>boiler room ep   weather warfare  cnn goblin pits</td>\n",
              "      <td>tune in to the alternate current radio network...</td>\n",
              "      <td>1</td>\n",
              "      <td>wea room</td>\n",
              "    </tr>\n",
              "    <tr>\n",
              "      <th>96</th>\n",
              "      <td>college republicans president attacked by anti...</td>\n",
              "      <td>so much for trying to come together like the l...</td>\n",
              "      <td>1</td>\n",
              "      <td>college</td>\n",
              "    </tr>\n",
              "    <tr>\n",
              "      <th>97</th>\n",
              "      <td>beyonce doubles downdebuts lemonade another ra...</td>\n",
              "      <td>most of the world will be obsessed with beyonc...</td>\n",
              "      <td>1</td>\n",
              "      <td>doubles</td>\n",
              "    </tr>\n",
              "    <tr>\n",
              "      <th>98</th>\n",
              "      <td>one person shot in portland as antitrump prote...</td>\n",
              "      <td>reuters  one person was shot at an antitrump d...</td>\n",
              "      <td>0</td>\n",
              "      <td>person shot</td>\n",
              "    </tr>\n",
              "    <tr>\n",
              "      <th>99</th>\n",
              "      <td>for helping immigrants chobanis founder draws ...</td>\n",
              "      <td>by many measures chobani embodies the classic ...</td>\n",
              "      <td>0</td>\n",
              "      <td>helping</td>\n",
              "    </tr>\n",
              "  </tbody>\n",
              "</table>\n",
              "<p>100 rows × 4 columns</p>\n",
              "</div>"
            ],
            "text/plain": [
              "                                                title  \\\n",
              "0   law enforcement on high alert following threat...   \n",
              "1   unbelievable obamas attorney general says most...   \n",
              "2   bobby jindal raised hindu uses story of christ...   \n",
              "3   satan  russia unvelis an image of its terrifyi...   \n",
              "4   about time christian group sues amazon and spl...   \n",
              "..                                                ...   \n",
              "95  boiler room ep   weather warfare  cnn goblin pits   \n",
              "96  college republicans president attacked by anti...   \n",
              "97  beyonce doubles downdebuts lemonade another ra...   \n",
              "98  one person shot in portland as antitrump prote...   \n",
              "99  for helping immigrants chobanis founder draws ...   \n",
              "\n",
              "                                                 text  label           Parsed  \n",
              "0   no comment is expected from barack obama membe...      1   enforcement h   \n",
              "1    now most of the demonstrators gathered last n...      1          obamas   \n",
              "2   a dozen politically active pastors came here f...      0          raised   \n",
              "3   the rs sarmat missile dubbed satan  will repla...      1    satan unveli   \n",
              "4   all we can say on this one is it s about time ...      1  christian time   \n",
              "..                                                ...    ...              ...  \n",
              "95  tune in to the alternate current radio network...      1        wea room   \n",
              "96  so much for trying to come together like the l...      1         college   \n",
              "97  most of the world will be obsessed with beyonc...      1         doubles   \n",
              "98  reuters  one person was shot at an antitrump d...      0     person shot   \n",
              "99  by many measures chobani embodies the classic ...      0         helping   \n",
              "\n",
              "[100 rows x 4 columns]"
            ]
          },
          "execution_count": 54,
          "metadata": {},
          "output_type": "execute_result"
        }
      ],
      "source": [
        "data = data.replace(to_replace=r'\\d', value='', regex=True)\n",
        "data"
      ]
    },
    {
      "cell_type": "code",
      "execution_count": null,
      "metadata": {
        "execution": {
          "iopub.execute_input": "2024-03-21T13:09:38.781490Z",
          "iopub.status.busy": "2024-03-21T13:09:38.780567Z",
          "iopub.status.idle": "2024-03-21T13:09:38.808802Z",
          "shell.execute_reply": "2024-03-21T13:09:38.807691Z",
          "shell.execute_reply.started": "2024-03-21T13:09:38.781453Z"
        },
        "id": "9UP95DKqm5L5",
        "trusted": true
      },
      "outputs": [],
      "source": [
        "data.to_csv(\"Parsed.csv\")"
      ]
    },
    {
      "cell_type": "markdown",
      "metadata": {
        "id": "YQaSIHs2m5MC"
      },
      "source": [
        "<h1 align=\"center\">LSTM</h1>"
      ]
    },
    {
      "cell_type": "code",
      "execution_count": null,
      "metadata": {
        "execution": {
          "iopub.execute_input": "2024-03-21T12:37:24.434525Z",
          "iopub.status.busy": "2024-03-21T12:37:24.434049Z",
          "iopub.status.idle": "2024-03-21T12:37:24.452373Z",
          "shell.execute_reply": "2024-03-21T12:37:24.451367Z",
          "shell.execute_reply.started": "2024-03-21T12:37:24.434491Z"
        },
        "id": "d6Hn_86Am5MC",
        "outputId": "f9be0723-bcdc-43b5-9249-47b7a415ca55",
        "trusted": true
      },
      "outputs": [
        {
          "data": {
            "text/html": [
              "<div>\n",
              "<style scoped>\n",
              "    .dataframe tbody tr th:only-of-type {\n",
              "        vertical-align: middle;\n",
              "    }\n",
              "\n",
              "    .dataframe tbody tr th {\n",
              "        vertical-align: top;\n",
              "    }\n",
              "\n",
              "    .dataframe thead th {\n",
              "        text-align: right;\n",
              "    }\n",
              "</style>\n",
              "<table border=\"1\" class=\"dataframe\">\n",
              "  <thead>\n",
              "    <tr style=\"text-align: right;\">\n",
              "      <th></th>\n",
              "      <th>title</th>\n",
              "      <th>text</th>\n",
              "      <th>label</th>\n",
              "      <th>Parsed</th>\n",
              "    </tr>\n",
              "  </thead>\n",
              "  <tbody>\n",
              "    <tr>\n",
              "      <th>0</th>\n",
              "      <td>law enforcement on high alert following threat...</td>\n",
              "      <td>no comment is expected from barack obama membe...</td>\n",
              "      <td>1</td>\n",
              "      <td>enforcement h</td>\n",
              "    </tr>\n",
              "    <tr>\n",
              "      <th>1</th>\n",
              "      <td>unbelievable obamas attorney general says most...</td>\n",
              "      <td>now most of the demonstrators gathered last n...</td>\n",
              "      <td>1</td>\n",
              "      <td>obamas</td>\n",
              "    </tr>\n",
              "    <tr>\n",
              "      <th>2</th>\n",
              "      <td>bobby jindal raised hindu uses story of christ...</td>\n",
              "      <td>a dozen politically active pastors came here f...</td>\n",
              "      <td>0</td>\n",
              "      <td>raised</td>\n",
              "    </tr>\n",
              "    <tr>\n",
              "      <th>3</th>\n",
              "      <td>satan  russia unvelis an image of its terrifyi...</td>\n",
              "      <td>the rs sarmat missile dubbed satan  will repla...</td>\n",
              "      <td>1</td>\n",
              "      <td>satan unveli</td>\n",
              "    </tr>\n",
              "    <tr>\n",
              "      <th>4</th>\n",
              "      <td>about time christian group sues amazon and spl...</td>\n",
              "      <td>all we can say on this one is it s about time ...</td>\n",
              "      <td>1</td>\n",
              "      <td>christian time</td>\n",
              "    </tr>\n",
              "    <tr>\n",
              "      <th>...</th>\n",
              "      <td>...</td>\n",
              "      <td>...</td>\n",
              "      <td>...</td>\n",
              "      <td>...</td>\n",
              "    </tr>\n",
              "    <tr>\n",
              "      <th>95</th>\n",
              "      <td>boiler room ep   weather warfare  cnn goblin pits</td>\n",
              "      <td>tune in to the alternate current radio network...</td>\n",
              "      <td>1</td>\n",
              "      <td>wea room</td>\n",
              "    </tr>\n",
              "    <tr>\n",
              "      <th>96</th>\n",
              "      <td>college republicans president attacked by anti...</td>\n",
              "      <td>so much for trying to come together like the l...</td>\n",
              "      <td>1</td>\n",
              "      <td>college</td>\n",
              "    </tr>\n",
              "    <tr>\n",
              "      <th>97</th>\n",
              "      <td>beyonce doubles downdebuts lemonade another ra...</td>\n",
              "      <td>most of the world will be obsessed with beyonc...</td>\n",
              "      <td>1</td>\n",
              "      <td>doubles</td>\n",
              "    </tr>\n",
              "    <tr>\n",
              "      <th>98</th>\n",
              "      <td>one person shot in portland as antitrump prote...</td>\n",
              "      <td>reuters  one person was shot at an antitrump d...</td>\n",
              "      <td>0</td>\n",
              "      <td>person shot</td>\n",
              "    </tr>\n",
              "    <tr>\n",
              "      <th>99</th>\n",
              "      <td>for helping immigrants chobanis founder draws ...</td>\n",
              "      <td>by many measures chobani embodies the classic ...</td>\n",
              "      <td>0</td>\n",
              "      <td>helping</td>\n",
              "    </tr>\n",
              "  </tbody>\n",
              "</table>\n",
              "<p>100 rows × 4 columns</p>\n",
              "</div>"
            ],
            "text/plain": [
              "                                                title  \\\n",
              "0   law enforcement on high alert following threat...   \n",
              "1   unbelievable obamas attorney general says most...   \n",
              "2   bobby jindal raised hindu uses story of christ...   \n",
              "3   satan  russia unvelis an image of its terrifyi...   \n",
              "4   about time christian group sues amazon and spl...   \n",
              "..                                                ...   \n",
              "95  boiler room ep   weather warfare  cnn goblin pits   \n",
              "96  college republicans president attacked by anti...   \n",
              "97  beyonce doubles downdebuts lemonade another ra...   \n",
              "98  one person shot in portland as antitrump prote...   \n",
              "99  for helping immigrants chobanis founder draws ...   \n",
              "\n",
              "                                                 text  label           Parsed  \n",
              "0   no comment is expected from barack obama membe...      1   enforcement h   \n",
              "1    now most of the demonstrators gathered last n...      1          obamas   \n",
              "2   a dozen politically active pastors came here f...      0          raised   \n",
              "3   the rs sarmat missile dubbed satan  will repla...      1    satan unveli   \n",
              "4   all we can say on this one is it s about time ...      1  christian time   \n",
              "..                                                ...    ...              ...  \n",
              "95  tune in to the alternate current radio network...      1        wea room   \n",
              "96  so much for trying to come together like the l...      1         college   \n",
              "97  most of the world will be obsessed with beyonc...      1         doubles   \n",
              "98  reuters  one person was shot at an antitrump d...      0     person shot   \n",
              "99  by many measures chobani embodies the classic ...      0         helping   \n",
              "\n",
              "[100 rows x 4 columns]"
            ]
          },
          "execution_count": 55,
          "metadata": {},
          "output_type": "execute_result"
        }
      ],
      "source": [
        "data_lstm = data.copy()\n",
        "data_lstm"
      ]
    },
    {
      "cell_type": "code",
      "execution_count": null,
      "metadata": {
        "execution": {
          "iopub.execute_input": "2024-03-21T12:37:55.505394Z",
          "iopub.status.busy": "2024-03-21T12:37:55.504982Z",
          "iopub.status.idle": "2024-03-21T12:37:55.516916Z",
          "shell.execute_reply": "2024-03-21T12:37:55.515572Z",
          "shell.execute_reply.started": "2024-03-21T12:37:55.505363Z"
        },
        "id": "XW-gNPlXm5MC",
        "outputId": "04d4d6ed-c062-4d8c-f67b-e19c66a45230",
        "trusted": true
      },
      "outputs": [
        {
          "data": {
            "text/plain": [
              "((100, 3), (100,))"
            ]
          },
          "execution_count": 56,
          "metadata": {},
          "output_type": "execute_result"
        }
      ],
      "source": [
        "X = data_lstm.drop(columns=[\"label\"])\n",
        "y = data_lstm[\"label\"]\n",
        "\n",
        "X.shape, y.shape"
      ]
    },
    {
      "cell_type": "code",
      "execution_count": null,
      "metadata": {
        "execution": {
          "iopub.execute_input": "2024-03-21T12:37:57.528169Z",
          "iopub.status.busy": "2024-03-21T12:37:57.527385Z",
          "iopub.status.idle": "2024-03-21T12:37:57.546070Z",
          "shell.execute_reply": "2024-03-21T12:37:57.544397Z",
          "shell.execute_reply.started": "2024-03-21T12:37:57.528125Z"
        },
        "id": "FrwZqk3Tm5MN",
        "outputId": "03443184-743d-4389-b4ba-1c5b5df6f0de",
        "trusted": true
      },
      "outputs": [
        {
          "data": {
            "text/html": [
              "<div>\n",
              "<style scoped>\n",
              "    .dataframe tbody tr th:only-of-type {\n",
              "        vertical-align: middle;\n",
              "    }\n",
              "\n",
              "    .dataframe tbody tr th {\n",
              "        vertical-align: top;\n",
              "    }\n",
              "\n",
              "    .dataframe thead th {\n",
              "        text-align: right;\n",
              "    }\n",
              "</style>\n",
              "<table border=\"1\" class=\"dataframe\">\n",
              "  <thead>\n",
              "    <tr style=\"text-align: right;\">\n",
              "      <th></th>\n",
              "      <th>title</th>\n",
              "      <th>text</th>\n",
              "      <th>Parsed</th>\n",
              "    </tr>\n",
              "  </thead>\n",
              "  <tbody>\n",
              "    <tr>\n",
              "      <th>0</th>\n",
              "      <td>law enforcement on high alert following threat...</td>\n",
              "      <td>no comment is expected from barack obama membe...</td>\n",
              "      <td>enforcement h</td>\n",
              "    </tr>\n",
              "    <tr>\n",
              "      <th>1</th>\n",
              "      <td>unbelievable obamas attorney general says most...</td>\n",
              "      <td>now most of the demonstrators gathered last n...</td>\n",
              "      <td>obamas</td>\n",
              "    </tr>\n",
              "    <tr>\n",
              "      <th>2</th>\n",
              "      <td>bobby jindal raised hindu uses story of christ...</td>\n",
              "      <td>a dozen politically active pastors came here f...</td>\n",
              "      <td>raised</td>\n",
              "    </tr>\n",
              "    <tr>\n",
              "      <th>3</th>\n",
              "      <td>satan  russia unvelis an image of its terrifyi...</td>\n",
              "      <td>the rs sarmat missile dubbed satan  will repla...</td>\n",
              "      <td>satan unveli</td>\n",
              "    </tr>\n",
              "    <tr>\n",
              "      <th>4</th>\n",
              "      <td>about time christian group sues amazon and spl...</td>\n",
              "      <td>all we can say on this one is it s about time ...</td>\n",
              "      <td>christian time</td>\n",
              "    </tr>\n",
              "    <tr>\n",
              "      <th>...</th>\n",
              "      <td>...</td>\n",
              "      <td>...</td>\n",
              "      <td>...</td>\n",
              "    </tr>\n",
              "    <tr>\n",
              "      <th>95</th>\n",
              "      <td>boiler room ep   weather warfare  cnn goblin pits</td>\n",
              "      <td>tune in to the alternate current radio network...</td>\n",
              "      <td>wea room</td>\n",
              "    </tr>\n",
              "    <tr>\n",
              "      <th>96</th>\n",
              "      <td>college republicans president attacked by anti...</td>\n",
              "      <td>so much for trying to come together like the l...</td>\n",
              "      <td>college</td>\n",
              "    </tr>\n",
              "    <tr>\n",
              "      <th>97</th>\n",
              "      <td>beyonce doubles downdebuts lemonade another ra...</td>\n",
              "      <td>most of the world will be obsessed with beyonc...</td>\n",
              "      <td>doubles</td>\n",
              "    </tr>\n",
              "    <tr>\n",
              "      <th>98</th>\n",
              "      <td>one person shot in portland as antitrump prote...</td>\n",
              "      <td>reuters  one person was shot at an antitrump d...</td>\n",
              "      <td>person shot</td>\n",
              "    </tr>\n",
              "    <tr>\n",
              "      <th>99</th>\n",
              "      <td>for helping immigrants chobanis founder draws ...</td>\n",
              "      <td>by many measures chobani embodies the classic ...</td>\n",
              "      <td>helping</td>\n",
              "    </tr>\n",
              "  </tbody>\n",
              "</table>\n",
              "<p>100 rows × 3 columns</p>\n",
              "</div>"
            ],
            "text/plain": [
              "                                                title  \\\n",
              "0   law enforcement on high alert following threat...   \n",
              "1   unbelievable obamas attorney general says most...   \n",
              "2   bobby jindal raised hindu uses story of christ...   \n",
              "3   satan  russia unvelis an image of its terrifyi...   \n",
              "4   about time christian group sues amazon and spl...   \n",
              "..                                                ...   \n",
              "95  boiler room ep   weather warfare  cnn goblin pits   \n",
              "96  college republicans president attacked by anti...   \n",
              "97  beyonce doubles downdebuts lemonade another ra...   \n",
              "98  one person shot in portland as antitrump prote...   \n",
              "99  for helping immigrants chobanis founder draws ...   \n",
              "\n",
              "                                                 text           Parsed  \n",
              "0   no comment is expected from barack obama membe...   enforcement h   \n",
              "1    now most of the demonstrators gathered last n...          obamas   \n",
              "2   a dozen politically active pastors came here f...          raised   \n",
              "3   the rs sarmat missile dubbed satan  will repla...    satan unveli   \n",
              "4   all we can say on this one is it s about time ...  christian time   \n",
              "..                                                ...              ...  \n",
              "95  tune in to the alternate current radio network...        wea room   \n",
              "96  so much for trying to come together like the l...         college   \n",
              "97  most of the world will be obsessed with beyonc...         doubles   \n",
              "98  reuters  one person was shot at an antitrump d...     person shot   \n",
              "99  by many measures chobani embodies the classic ...         helping   \n",
              "\n",
              "[100 rows x 3 columns]"
            ]
          },
          "execution_count": 57,
          "metadata": {},
          "output_type": "execute_result"
        }
      ],
      "source": [
        "X"
      ]
    },
    {
      "cell_type": "code",
      "execution_count": null,
      "metadata": {
        "execution": {
          "iopub.execute_input": "2024-03-21T12:38:00.508669Z",
          "iopub.status.busy": "2024-03-21T12:38:00.508243Z",
          "iopub.status.idle": "2024-03-21T12:38:00.519839Z",
          "shell.execute_reply": "2024-03-21T12:38:00.518675Z",
          "shell.execute_reply.started": "2024-03-21T12:38:00.508635Z"
        },
        "id": "QS7urNNEm5MN",
        "outputId": "f97feb96-edd7-4439-b7c2-9a894540a133",
        "trusted": true
      },
      "outputs": [
        {
          "data": {
            "text/plain": [
              "0     1\n",
              "1     1\n",
              "2     0\n",
              "3     1\n",
              "4     1\n",
              "     ..\n",
              "95    1\n",
              "96    1\n",
              "97    1\n",
              "98    0\n",
              "99    0\n",
              "Name: label, Length: 100, dtype: int64"
            ]
          },
          "execution_count": 58,
          "metadata": {},
          "output_type": "execute_result"
        }
      ],
      "source": [
        "y"
      ]
    },
    {
      "cell_type": "code",
      "execution_count": null,
      "metadata": {
        "execution": {
          "iopub.execute_input": "2024-03-21T12:38:58.665781Z",
          "iopub.status.busy": "2024-03-21T12:38:58.665293Z",
          "iopub.status.idle": "2024-03-21T12:38:58.672076Z",
          "shell.execute_reply": "2024-03-21T12:38:58.670679Z",
          "shell.execute_reply.started": "2024-03-21T12:38:58.665747Z"
        },
        "id": "HXvWZ5dvm5MN",
        "trusted": true
      },
      "outputs": [],
      "source": [
        "ps = PorterStemmer()\n",
        "corpus = []"
      ]
    },
    {
      "cell_type": "code",
      "execution_count": null,
      "metadata": {
        "execution": {
          "iopub.execute_input": "2024-03-21T12:40:30.630123Z",
          "iopub.status.busy": "2024-03-21T12:40:30.628392Z",
          "iopub.status.idle": "2024-03-21T12:40:30.678369Z",
          "shell.execute_reply": "2024-03-21T12:40:30.676993Z",
          "shell.execute_reply.started": "2024-03-21T12:40:30.630075Z"
        },
        "id": "Lmy6uNymm5MO",
        "trusted": true
      },
      "outputs": [],
      "source": [
        "for i in range(0, len(data_lstm)):\n",
        "\n",
        "    # We are substituting everything apart from (a-z, A-Z) with a \" \" (space)\n",
        "    review = re.sub('[^a-zA-Z]', ' ', data_lstm['Parsed'][i])\n",
        "\n",
        "    review = review.lower()\n",
        "    review = review.split()\n",
        "\n",
        "    # if a word is not in Stop Words,then only we will add it to review (list/array)\n",
        "    review = [ps.stem(word) for word in review if not word in stopwords.words('english')]\n",
        "    review = ' '.join(review)\n",
        "    corpus.append(review)"
      ]
    },
    {
      "cell_type": "code",
      "execution_count": null,
      "metadata": {
        "execution": {
          "iopub.execute_input": "2024-03-21T12:40:37.630736Z",
          "iopub.status.busy": "2024-03-21T12:40:37.630272Z",
          "iopub.status.idle": "2024-03-21T12:40:37.639914Z",
          "shell.execute_reply": "2024-03-21T12:40:37.638522Z",
          "shell.execute_reply.started": "2024-03-21T12:40:37.630704Z"
        },
        "id": "_hnqYSnYm5MO",
        "outputId": "248b6242-4759-434d-d877-86f94fc2cd50",
        "trusted": true
      },
      "outputs": [
        {
          "data": {
            "text/plain": [
              "['enforc h',\n",
              " 'obama',\n",
              " 'rais',\n",
              " 'satan unv',\n",
              " 'christian time',\n",
              " 'ben target',\n",
              " 'chair',\n",
              " 'ban bar',\n",
              " 'leak pipelin',\n",
              " 'sm senat',\n",
              " 'brexit wou',\n",
              " 'call tru',\n",
              " 'watch',\n",
              " 'chang f',\n",
              " 'odebrech',\n",
              " 'lose woman',\n",
              " 'seek',\n",
              " 'rag',\n",
              " 'say judg',\n",
              " 'give',\n",
              " 'famil',\n",
              " 'baffl spicer',\n",
              " 'hill',\n",
              " 'trump fr',\n",
              " 'governm']"
            ]
          },
          "execution_count": 65,
          "metadata": {},
          "output_type": "execute_result"
        }
      ],
      "source": [
        "corpus[:25]"
      ]
    },
    {
      "cell_type": "code",
      "execution_count": null,
      "metadata": {
        "execution": {
          "iopub.execute_input": "2024-03-21T12:41:06.745468Z",
          "iopub.status.busy": "2024-03-21T12:41:06.745031Z",
          "iopub.status.idle": "2024-03-21T12:41:06.752412Z",
          "shell.execute_reply": "2024-03-21T12:41:06.750980Z",
          "shell.execute_reply.started": "2024-03-21T12:41:06.745438Z"
        },
        "id": "7tamBKyNm5MO",
        "trusted": true
      },
      "outputs": [],
      "source": [
        "VOCAB_SIZE = 10000"
      ]
    },
    {
      "cell_type": "code",
      "execution_count": null,
      "metadata": {
        "execution": {
          "iopub.execute_input": "2024-03-21T12:41:48.329978Z",
          "iopub.status.busy": "2024-03-21T12:41:48.328740Z",
          "iopub.status.idle": "2024-03-21T12:41:48.340891Z",
          "shell.execute_reply": "2024-03-21T12:41:48.339182Z",
          "shell.execute_reply.started": "2024-03-21T12:41:48.329928Z"
        },
        "id": "31IUobEJm5MO",
        "trusted": true
      },
      "outputs": [],
      "source": [
        "# Here, we are converting the text (Corpus) into One Hot Representation for the given vocabulary size (i.e. 10000)\n",
        "onehot_repr = [one_hot(words, VOCAB_SIZE) for words in corpus]"
      ]
    },
    {
      "cell_type": "code",
      "execution_count": null,
      "metadata": {
        "execution": {
          "iopub.execute_input": "2024-03-21T12:42:10.915756Z",
          "iopub.status.busy": "2024-03-21T12:42:10.915360Z",
          "iopub.status.idle": "2024-03-21T12:42:10.924465Z",
          "shell.execute_reply": "2024-03-21T12:42:10.922703Z",
          "shell.execute_reply.started": "2024-03-21T12:42:10.915727Z"
        },
        "id": "LR1lMVbBm5MO",
        "outputId": "4e884c8b-1123-4ca0-d52f-567d406893cb",
        "trusted": true
      },
      "outputs": [
        {
          "data": {
            "text/plain": [
              "[[637, 6936], [7984], [2064], [7680, 827], [1329, 158]]"
            ]
          },
          "execution_count": 70,
          "metadata": {},
          "output_type": "execute_result"
        }
      ],
      "source": [
        "onehot_repr[:5]"
      ]
    },
    {
      "cell_type": "markdown",
      "metadata": {
        "id": "DTzrxDfQm5MO"
      },
      "source": [
        "### Embedding:"
      ]
    },
    {
      "cell_type": "code",
      "execution_count": null,
      "metadata": {
        "execution": {
          "iopub.execute_input": "2024-03-21T12:42:28.909533Z",
          "iopub.status.busy": "2024-03-21T12:42:28.908363Z",
          "iopub.status.idle": "2024-03-21T12:42:28.918304Z",
          "shell.execute_reply": "2024-03-21T12:42:28.916808Z",
          "shell.execute_reply.started": "2024-03-21T12:42:28.909479Z"
        },
        "id": "l9guEk33m5MP",
        "outputId": "a3e16c13-7b61-4253-f1cc-2d8b153551d5",
        "trusted": true
      },
      "outputs": [
        {
          "name": "stdout",
          "output_type": "stream",
          "text": [
            "[[   0    0    0 ...    0  637 6936]\n",
            " [   0    0    0 ...    0    0 7984]\n",
            " [   0    0    0 ...    0    0 2064]\n",
            " ...\n",
            " [   0    0    0 ...    0    0 5293]\n",
            " [   0    0    0 ...    0 3750 2996]\n",
            " [   0    0    0 ...    0    0 4789]]\n"
          ]
        }
      ],
      "source": [
        "sentence_length = 50\n",
        "\n",
        "# Adding padding to sentences so that all sentences are of same length i.e 50, to avoid varying input sizes\n",
        "embedded_docs = pad_sequences(onehot_repr, padding='pre', maxlen=sentence_length)\n",
        "print(embedded_docs)"
      ]
    },
    {
      "cell_type": "code",
      "execution_count": null,
      "metadata": {
        "execution": {
          "iopub.execute_input": "2024-03-21T12:42:40.492710Z",
          "iopub.status.busy": "2024-03-21T12:42:40.492209Z",
          "iopub.status.idle": "2024-03-21T12:42:40.501685Z",
          "shell.execute_reply": "2024-03-21T12:42:40.500133Z",
          "shell.execute_reply.started": "2024-03-21T12:42:40.492673Z"
        },
        "id": "T656-2nwm5MP",
        "outputId": "5311ab37-5078-4d69-a03b-9ca6432b596d",
        "trusted": true
      },
      "outputs": [
        {
          "data": {
            "text/plain": [
              "(array([   0,    0,    0,    0,    0,    0,    0,    0,    0,    0,    0,\n",
              "           0,    0,    0,    0,    0,    0,    0,    0,    0,    0,    0,\n",
              "           0,    0,    0,    0,    0,    0,    0,    0,    0,    0,    0,\n",
              "           0,    0,    0,    0,    0,    0,    0,    0,    0,    0,    0,\n",
              "           0,    0,    0,    0,  637, 6936], dtype=int32),\n",
              " numpy.ndarray)"
            ]
          },
          "execution_count": 72,
          "metadata": {},
          "output_type": "execute_result"
        }
      ],
      "source": [
        "embedded_docs[0], type(embedded_docs[0])"
      ]
    },
    {
      "cell_type": "markdown",
      "metadata": {
        "id": "y3VkNY4Gm5MP"
      },
      "source": [
        "### Modelling the LSTM Model:"
      ]
    },
    {
      "cell_type": "code",
      "execution_count": null,
      "metadata": {
        "execution": {
          "iopub.execute_input": "2024-03-21T12:43:00.876881Z",
          "iopub.status.busy": "2024-03-21T12:43:00.875542Z",
          "iopub.status.idle": "2024-03-21T12:43:01.061699Z",
          "shell.execute_reply": "2024-03-21T12:43:01.060109Z",
          "shell.execute_reply.started": "2024-03-21T12:43:00.876840Z"
        },
        "id": "gpItaCkCm5MP",
        "outputId": "2bb6157b-0851-4ee8-ae1f-bd92237a6201",
        "trusted": true
      },
      "outputs": [
        {
          "name": "stderr",
          "output_type": "stream",
          "text": [
            "/opt/conda/lib/python3.10/site-packages/keras/src/layers/core/embedding.py:81: UserWarning: Do not pass an `input_shape`/`input_dim` argument to a layer. When using Sequential models, prefer using an `Input(shape)` object as the first layer in the model instead.\n",
            "  super().__init__(**kwargs)\n"
          ]
        },
        {
          "data": {
            "text/html": [
              "<pre style=\"white-space:pre;overflow-x:auto;line-height:normal;font-family:Menlo,'DejaVu Sans Mono',consolas,'Courier New',monospace\"><span style=\"font-weight: bold\">Model: \"sequential\"</span>\n",
              "</pre>\n"
            ],
            "text/plain": [
              "\u001b[1mModel: \"sequential\"\u001b[0m\n"
            ]
          },
          "metadata": {},
          "output_type": "display_data"
        },
        {
          "data": {
            "text/html": [
              "<pre style=\"white-space:pre;overflow-x:auto;line-height:normal;font-family:Menlo,'DejaVu Sans Mono',consolas,'Courier New',monospace\">┏━━━━━━━━━━━━━━━━━━━━━━━━━━━━━━━━━┳━━━━━━━━━━━━━━━━━━━━━━━━┳━━━━━━━━━━━━━━━┓\n",
              "┃<span style=\"font-weight: bold\"> Layer (type)                    </span>┃<span style=\"font-weight: bold\"> Output Shape           </span>┃<span style=\"font-weight: bold\">       Param # </span>┃\n",
              "┡━━━━━━━━━━━━━━━━━━━━━━━━━━━━━━━━━╇━━━━━━━━━━━━━━━━━━━━━━━━╇━━━━━━━━━━━━━━━┩\n",
              "│ embedding (<span style=\"color: #0087ff; text-decoration-color: #0087ff\">Embedding</span>)           │ (<span style=\"color: #00d7ff; text-decoration-color: #00d7ff\">None</span>, <span style=\"color: #00af00; text-decoration-color: #00af00\">50</span>, <span style=\"color: #00af00; text-decoration-color: #00af00\">100</span>)        │     <span style=\"color: #00af00; text-decoration-color: #00af00\">1,000,000</span> │\n",
              "├─────────────────────────────────┼────────────────────────┼───────────────┤\n",
              "│ lstm (<span style=\"color: #0087ff; text-decoration-color: #0087ff\">LSTM</span>)                     │ (<span style=\"color: #00d7ff; text-decoration-color: #00d7ff\">None</span>, <span style=\"color: #00af00; text-decoration-color: #00af00\">100</span>)            │        <span style=\"color: #00af00; text-decoration-color: #00af00\">80,400</span> │\n",
              "├─────────────────────────────────┼────────────────────────┼───────────────┤\n",
              "│ dropout (<span style=\"color: #0087ff; text-decoration-color: #0087ff\">Dropout</span>)               │ (<span style=\"color: #00d7ff; text-decoration-color: #00d7ff\">None</span>, <span style=\"color: #00af00; text-decoration-color: #00af00\">100</span>)            │             <span style=\"color: #00af00; text-decoration-color: #00af00\">0</span> │\n",
              "├─────────────────────────────────┼────────────────────────┼───────────────┤\n",
              "│ dense (<span style=\"color: #0087ff; text-decoration-color: #0087ff\">Dense</span>)                   │ (<span style=\"color: #00d7ff; text-decoration-color: #00d7ff\">None</span>, <span style=\"color: #00af00; text-decoration-color: #00af00\">1</span>)              │           <span style=\"color: #00af00; text-decoration-color: #00af00\">101</span> │\n",
              "└─────────────────────────────────┴────────────────────────┴───────────────┘\n",
              "</pre>\n"
            ],
            "text/plain": [
              "┏━━━━━━━━━━━━━━━━━━━━━━━━━━━━━━━━━┳━━━━━━━━━━━━━━━━━━━━━━━━┳━━━━━━━━━━━━━━━┓\n",
              "┃\u001b[1m \u001b[0m\u001b[1mLayer (type)                   \u001b[0m\u001b[1m \u001b[0m┃\u001b[1m \u001b[0m\u001b[1mOutput Shape          \u001b[0m\u001b[1m \u001b[0m┃\u001b[1m \u001b[0m\u001b[1m      Param #\u001b[0m\u001b[1m \u001b[0m┃\n",
              "┡━━━━━━━━━━━━━━━━━━━━━━━━━━━━━━━━━╇━━━━━━━━━━━━━━━━━━━━━━━━╇━━━━━━━━━━━━━━━┩\n",
              "│ embedding (\u001b[38;5;33mEmbedding\u001b[0m)           │ (\u001b[38;5;45mNone\u001b[0m, \u001b[38;5;34m50\u001b[0m, \u001b[38;5;34m100\u001b[0m)        │     \u001b[38;5;34m1,000,000\u001b[0m │\n",
              "├─────────────────────────────────┼────────────────────────┼───────────────┤\n",
              "│ lstm (\u001b[38;5;33mLSTM\u001b[0m)                     │ (\u001b[38;5;45mNone\u001b[0m, \u001b[38;5;34m100\u001b[0m)            │        \u001b[38;5;34m80,400\u001b[0m │\n",
              "├─────────────────────────────────┼────────────────────────┼───────────────┤\n",
              "│ dropout (\u001b[38;5;33mDropout\u001b[0m)               │ (\u001b[38;5;45mNone\u001b[0m, \u001b[38;5;34m100\u001b[0m)            │             \u001b[38;5;34m0\u001b[0m │\n",
              "├─────────────────────────────────┼────────────────────────┼───────────────┤\n",
              "│ dense (\u001b[38;5;33mDense\u001b[0m)                   │ (\u001b[38;5;45mNone\u001b[0m, \u001b[38;5;34m1\u001b[0m)              │           \u001b[38;5;34m101\u001b[0m │\n",
              "└─────────────────────────────────┴────────────────────────┴───────────────┘\n"
            ]
          },
          "metadata": {},
          "output_type": "display_data"
        },
        {
          "data": {
            "text/html": [
              "<pre style=\"white-space:pre;overflow-x:auto;line-height:normal;font-family:Menlo,'DejaVu Sans Mono',consolas,'Courier New',monospace\"><span style=\"font-weight: bold\"> Total params: </span><span style=\"color: #00af00; text-decoration-color: #00af00\">1,080,501</span> (4.12 MB)\n",
              "</pre>\n"
            ],
            "text/plain": [
              "\u001b[1m Total params: \u001b[0m\u001b[38;5;34m1,080,501\u001b[0m (4.12 MB)\n"
            ]
          },
          "metadata": {},
          "output_type": "display_data"
        },
        {
          "data": {
            "text/html": [
              "<pre style=\"white-space:pre;overflow-x:auto;line-height:normal;font-family:Menlo,'DejaVu Sans Mono',consolas,'Courier New',monospace\"><span style=\"font-weight: bold\"> Trainable params: </span><span style=\"color: #00af00; text-decoration-color: #00af00\">1,080,501</span> (4.12 MB)\n",
              "</pre>\n"
            ],
            "text/plain": [
              "\u001b[1m Trainable params: \u001b[0m\u001b[38;5;34m1,080,501\u001b[0m (4.12 MB)\n"
            ]
          },
          "metadata": {},
          "output_type": "display_data"
        },
        {
          "data": {
            "text/html": [
              "<pre style=\"white-space:pre;overflow-x:auto;line-height:normal;font-family:Menlo,'DejaVu Sans Mono',consolas,'Courier New',monospace\"><span style=\"font-weight: bold\"> Non-trainable params: </span><span style=\"color: #00af00; text-decoration-color: #00af00\">0</span> (0.00 B)\n",
              "</pre>\n"
            ],
            "text/plain": [
              "\u001b[1m Non-trainable params: \u001b[0m\u001b[38;5;34m0\u001b[0m (0.00 B)\n"
            ]
          },
          "metadata": {},
          "output_type": "display_data"
        },
        {
          "name": "stdout",
          "output_type": "stream",
          "text": [
            "None\n"
          ]
        }
      ],
      "source": [
        "embedding_vector_features = 100 # We will have a vector representation to text with only 100 features\n",
        "\n",
        "model = Sequential()\n",
        "model.add(Embedding(VOCAB_SIZE, embedding_vector_features, input_shape=(sentence_length,)))\n",
        "model.add(LSTM(100))\n",
        "model.add(Dropout(0.2))\n",
        "\n",
        "# LSTM layer (output) is fully connected to the Dense layer\n",
        "model.add(Dense(1, activation='sigmoid'))\n",
        "model.compile(loss='binary_crossentropy', optimizer='adam', metrics=['accuracy'])\n",
        "print(model.summary())"
      ]
    },
    {
      "cell_type": "code",
      "execution_count": null,
      "metadata": {
        "execution": {
          "iopub.execute_input": "2024-03-21T12:43:09.229014Z",
          "iopub.status.busy": "2024-03-21T12:43:09.228609Z",
          "iopub.status.idle": "2024-03-21T12:43:09.238748Z",
          "shell.execute_reply": "2024-03-21T12:43:09.237256Z",
          "shell.execute_reply.started": "2024-03-21T12:43:09.228985Z"
        },
        "id": "s0tBgJcmm5MP",
        "outputId": "6d135f1b-8b05-4ad1-88f8-0ff2191ce4ee",
        "trusted": true
      },
      "outputs": [
        {
          "data": {
            "text/plain": [
              "((100, 50), (100,))"
            ]
          },
          "execution_count": 74,
          "metadata": {},
          "output_type": "execute_result"
        }
      ],
      "source": [
        "X_final = np.array(embedded_docs)\n",
        "y_final = np.array(y)\n",
        "\n",
        "X_final.shape, y_final.shape"
      ]
    },
    {
      "cell_type": "code",
      "execution_count": null,
      "metadata": {
        "execution": {
          "iopub.execute_input": "2024-03-21T12:43:43.269298Z",
          "iopub.status.busy": "2024-03-21T12:43:43.268852Z",
          "iopub.status.idle": "2024-03-21T12:43:43.277709Z",
          "shell.execute_reply": "2024-03-21T12:43:43.276667Z",
          "shell.execute_reply.started": "2024-03-21T12:43:43.269265Z"
        },
        "id": "igxtxqWMm5MQ",
        "trusted": true
      },
      "outputs": [],
      "source": [
        "X_train, X_test, y_train, y_test = train_test_split(X_final, y_final, test_size=0.2, random_state=42)"
      ]
    },
    {
      "cell_type": "markdown",
      "metadata": {
        "id": "sTp3ZiBwm5MQ"
      },
      "source": [
        "### Training the LSTM Model:"
      ]
    },
    {
      "cell_type": "code",
      "execution_count": null,
      "metadata": {
        "execution": {
          "iopub.execute_input": "2024-03-21T12:43:58.364275Z",
          "iopub.status.busy": "2024-03-21T12:43:58.363768Z",
          "iopub.status.idle": "2024-03-21T12:44:05.792512Z",
          "shell.execute_reply": "2024-03-21T12:44:05.791154Z",
          "shell.execute_reply.started": "2024-03-21T12:43:58.364237Z"
        },
        "id": "EU4EA1fjm5MQ",
        "outputId": "db27f452-44e6-479c-902e-85f1caaa6f5a",
        "trusted": true
      },
      "outputs": [
        {
          "name": "stdout",
          "output_type": "stream",
          "text": [
            "Epoch 1/20\n",
            "\u001b[1m3/3\u001b[0m \u001b[32m━━━━━━━━━━━━━━━━━━━━\u001b[0m\u001b[37m\u001b[0m \u001b[1m3s\u001b[0m 217ms/step - accuracy: 0.5859 - loss: 0.6913 - val_accuracy: 0.4000 - val_loss: 0.7095\n",
            "Epoch 2/20\n",
            "\u001b[1m3/3\u001b[0m \u001b[32m━━━━━━━━━━━━━━━━━━━━\u001b[0m\u001b[37m\u001b[0m \u001b[1m0s\u001b[0m 54ms/step - accuracy: 0.5367 - loss: 0.6871 - val_accuracy: 0.4000 - val_loss: 0.7087\n",
            "Epoch 3/20\n",
            "\u001b[1m3/3\u001b[0m \u001b[32m━━━━━━━━━━━━━━━━━━━━\u001b[0m\u001b[37m\u001b[0m \u001b[1m0s\u001b[0m 67ms/step - accuracy: 0.5484 - loss: 0.6835 - val_accuracy: 0.4000 - val_loss: 0.7152\n",
            "Epoch 4/20\n",
            "\u001b[1m3/3\u001b[0m \u001b[32m━━━━━━━━━━━━━━━━━━━━\u001b[0m\u001b[37m\u001b[0m \u001b[1m0s\u001b[0m 64ms/step - accuracy: 0.5484 - loss: 0.6828 - val_accuracy: 0.4000 - val_loss: 0.7202\n",
            "Epoch 5/20\n",
            "\u001b[1m3/3\u001b[0m \u001b[32m━━━━━━━━━━━━━━━━━━━━\u001b[0m\u001b[37m\u001b[0m \u001b[1m0s\u001b[0m 63ms/step - accuracy: 0.5289 - loss: 0.6827 - val_accuracy: 0.4000 - val_loss: 0.7168\n",
            "Epoch 6/20\n",
            "\u001b[1m3/3\u001b[0m \u001b[32m━━━━━━━━━━━━━━━━━━━━\u001b[0m\u001b[37m\u001b[0m \u001b[1m0s\u001b[0m 66ms/step - accuracy: 0.5406 - loss: 0.6738 - val_accuracy: 0.4000 - val_loss: 0.7159\n",
            "Epoch 7/20\n",
            "\u001b[1m3/3\u001b[0m \u001b[32m━━━━━━━━━━━━━━━━━━━━\u001b[0m\u001b[37m\u001b[0m \u001b[1m0s\u001b[0m 65ms/step - accuracy: 0.5211 - loss: 0.6707 - val_accuracy: 0.4000 - val_loss: 0.7161\n",
            "Epoch 8/20\n",
            "\u001b[1m3/3\u001b[0m \u001b[32m━━━━━━━━━━━━━━━━━━━━\u001b[0m\u001b[37m\u001b[0m \u001b[1m0s\u001b[0m 65ms/step - accuracy: 0.5172 - loss: 0.6687 - val_accuracy: 0.4000 - val_loss: 0.7189\n",
            "Epoch 9/20\n",
            "\u001b[1m3/3\u001b[0m \u001b[32m━━━━━━━━━━━━━━━━━━━━\u001b[0m\u001b[37m\u001b[0m \u001b[1m0s\u001b[0m 68ms/step - accuracy: 0.5367 - loss: 0.6560 - val_accuracy: 0.4000 - val_loss: 0.7242\n",
            "Epoch 10/20\n",
            "\u001b[1m3/3\u001b[0m \u001b[32m━━━━━━━━━━━━━━━━━━━━\u001b[0m\u001b[37m\u001b[0m \u001b[1m0s\u001b[0m 62ms/step - accuracy: 0.5742 - loss: 0.6408 - val_accuracy: 0.4000 - val_loss: 0.7290\n",
            "Epoch 11/20\n",
            "\u001b[1m3/3\u001b[0m \u001b[32m━━━━━━━━━━━━━━━━━━━━\u001b[0m\u001b[37m\u001b[0m \u001b[1m0s\u001b[0m 65ms/step - accuracy: 0.5781 - loss: 0.6314 - val_accuracy: 0.4000 - val_loss: 0.7246\n",
            "Epoch 12/20\n",
            "\u001b[1m3/3\u001b[0m \u001b[32m━━━━━━━━━━━━━━━━━━━━\u001b[0m\u001b[37m\u001b[0m \u001b[1m0s\u001b[0m 69ms/step - accuracy: 0.6406 - loss: 0.6076 - val_accuracy: 0.4000 - val_loss: 0.7158\n",
            "Epoch 13/20\n",
            "\u001b[1m3/3\u001b[0m \u001b[32m━━━━━━━━━━━━━━━━━━━━\u001b[0m\u001b[37m\u001b[0m \u001b[1m0s\u001b[0m 71ms/step - accuracy: 0.7703 - loss: 0.5976 - val_accuracy: 0.4000 - val_loss: 0.7098\n",
            "Epoch 14/20\n",
            "\u001b[1m3/3\u001b[0m \u001b[32m━━━━━━━━━━━━━━━━━━━━\u001b[0m\u001b[37m\u001b[0m \u001b[1m0s\u001b[0m 67ms/step - accuracy: 0.9156 - loss: 0.5749 - val_accuracy: 0.4500 - val_loss: 0.7074\n",
            "Epoch 15/20\n",
            "\u001b[1m3/3\u001b[0m \u001b[32m━━━━━━━━━━━━━━━━━━━━\u001b[0m\u001b[37m\u001b[0m \u001b[1m0s\u001b[0m 64ms/step - accuracy: 0.9250 - loss: 0.5238 - val_accuracy: 0.4000 - val_loss: 0.7609\n",
            "Epoch 16/20\n",
            "\u001b[1m3/3\u001b[0m \u001b[32m━━━━━━━━━━━━━━━━━━━━\u001b[0m\u001b[37m\u001b[0m \u001b[1m0s\u001b[0m 60ms/step - accuracy: 0.8438 - loss: 0.4969 - val_accuracy: 0.5000 - val_loss: 0.6961\n",
            "Epoch 17/20\n",
            "\u001b[1m3/3\u001b[0m \u001b[32m━━━━━━━━━━━━━━━━━━━━\u001b[0m\u001b[37m\u001b[0m \u001b[1m0s\u001b[0m 57ms/step - accuracy: 0.9820 - loss: 0.4477 - val_accuracy: 0.4500 - val_loss: 0.7245\n",
            "Epoch 18/20\n",
            "\u001b[1m3/3\u001b[0m \u001b[32m━━━━━━━━━━━━━━━━━━━━\u001b[0m\u001b[37m\u001b[0m \u001b[1m0s\u001b[0m 55ms/step - accuracy: 0.9937 - loss: 0.3935 - val_accuracy: 0.4500 - val_loss: 0.7623\n",
            "Epoch 19/20\n",
            "\u001b[1m3/3\u001b[0m \u001b[32m━━━━━━━━━━━━━━━━━━━━\u001b[0m\u001b[37m\u001b[0m \u001b[1m0s\u001b[0m 57ms/step - accuracy: 0.9719 - loss: 0.3458 - val_accuracy: 0.5000 - val_loss: 0.7185\n",
            "Epoch 20/20\n",
            "\u001b[1m3/3\u001b[0m \u001b[32m━━━━━━━━━━━━━━━━━━━━\u001b[0m\u001b[37m\u001b[0m \u001b[1m0s\u001b[0m 54ms/step - accuracy: 1.0000 - loss: 0.2633 - val_accuracy: 0.5000 - val_loss: 0.7509\n"
          ]
        },
        {
          "data": {
            "text/plain": [
              "<keras.src.callbacks.history.History at 0x78e4da6a3100>"
            ]
          },
          "execution_count": 77,
          "metadata": {},
          "output_type": "execute_result"
        }
      ],
      "source": [
        "model.fit(X_train,y_train, validation_data=(X_test, y_test), epochs=20)"
      ]
    },
    {
      "cell_type": "code",
      "execution_count": null,
      "metadata": {
        "execution": {
          "iopub.execute_input": "2024-03-21T12:44:39.666462Z",
          "iopub.status.busy": "2024-03-21T12:44:39.664414Z",
          "iopub.status.idle": "2024-03-21T12:44:39.778866Z",
          "shell.execute_reply": "2024-03-21T12:44:39.777367Z",
          "shell.execute_reply.started": "2024-03-21T12:44:39.666405Z"
        },
        "id": "rC0DiF-Im5MQ",
        "outputId": "33cae1c0-bad5-4bce-f6f6-c377c5a92b19",
        "trusted": true
      },
      "outputs": [
        {
          "name": "stdout",
          "output_type": "stream",
          "text": [
            "\u001b[1m1/1\u001b[0m \u001b[32m━━━━━━━━━━━━━━━━━━━━\u001b[0m\u001b[37m\u001b[0m \u001b[1m0s\u001b[0m 33ms/step\n",
            "[[3 9]\n",
            " [1 7]]\n"
          ]
        }
      ],
      "source": [
        "y_log = model.predict(X_test)\n",
        "y_pred = np.where(y_log>0.5,1,0)\n",
        "\n",
        "acc = accuracy_score(y_test, y_pred)\n",
        "\n",
        "confusion_mat = confusion_matrix(y_test, y_pred)\n",
        "print(confusion_mat)"
      ]
    },
    {
      "cell_type": "code",
      "execution_count": null,
      "metadata": {
        "execution": {
          "iopub.execute_input": "2024-03-21T12:44:50.087533Z",
          "iopub.status.busy": "2024-03-21T12:44:50.086729Z",
          "iopub.status.idle": "2024-03-21T12:44:50.096478Z",
          "shell.execute_reply": "2024-03-21T12:44:50.094986Z",
          "shell.execute_reply.started": "2024-03-21T12:44:50.087501Z"
        },
        "id": "tUDAFAMSm5MQ",
        "outputId": "c084bbc8-84ff-413c-9334-9bf8954dc8bf",
        "trusted": true
      },
      "outputs": [
        {
          "data": {
            "text/plain": [
              "0.5"
            ]
          },
          "execution_count": 81,
          "metadata": {},
          "output_type": "execute_result"
        }
      ],
      "source": [
        "acc"
      ]
    },
    {
      "cell_type": "code",
      "execution_count": null,
      "metadata": {
        "execution": {
          "iopub.execute_input": "2024-03-21T12:45:45.714447Z",
          "iopub.status.busy": "2024-03-21T12:45:45.713984Z",
          "iopub.status.idle": "2024-03-21T12:45:46.052071Z",
          "shell.execute_reply": "2024-03-21T12:45:46.050899Z",
          "shell.execute_reply.started": "2024-03-21T12:45:45.714411Z"
        },
        "id": "U-Ipcumjm5MR",
        "outputId": "18651f20-d01e-40d8-e473-e577e4a0f430",
        "trusted": true
      },
      "outputs": [
        {
          "data": {
            "image/png": "[encoded data removed]",
            "text/plain": [
              "<Figure size 800x600 with 2 Axes>"
            ]
          },
          "metadata": {},
          "output_type": "display_data"
        }
      ],
      "source": [
        "# Define labels for the matrix\n",
        "labels = ['True Negative', 'False Positive', 'False Negative', 'True Positive']\n",
        "\n",
        "# Plotting the confusion matrix\n",
        "pyplot.figure(figsize=(8, 6))\n",
        "seaborn.heatmap(confusion_mat, annot=True, fmt='d', cmap='Blues', xticklabels=['Predicted 0', 'Predicted 1'], yticklabels=['Actual 0', 'Actual 1'])\n",
        "pyplot.xlabel('Predicted label')\n",
        "pyplot.ylabel('True label')\n",
        "pyplot.title('Confusion Matrix')\n",
        "pyplot.xticks(ticks=np.arange(2) + 0.5, labels=['Predicted 0', 'Predicted 1'])\n",
        "pyplot.yticks(ticks=np.arange(2) + 0.5, labels=['Actual 0', 'Actual 1'])\n",
        "pyplot.show()"
      ]
    },
    {
      "cell_type": "code",
      "execution_count": null,
      "metadata": {
        "execution": {
          "iopub.execute_input": "2024-03-21T12:45:53.789444Z",
          "iopub.status.busy": "2024-03-21T12:45:53.789047Z",
          "iopub.status.idle": "2024-03-21T12:45:53.807848Z",
          "shell.execute_reply": "2024-03-21T12:45:53.806203Z",
          "shell.execute_reply.started": "2024-03-21T12:45:53.789414Z"
        },
        "id": "KOUYUdKmm5MR",
        "outputId": "500146aa-9306-4289-ce51-16702881243d",
        "trusted": true
      },
      "outputs": [
        {
          "name": "stdout",
          "output_type": "stream",
          "text": [
            "              precision    recall  f1-score   support\n",
            "\n",
            "     Class 0       0.75      0.25      0.38        12\n",
            "     Class 1       0.44      0.88      0.58         8\n",
            "\n",
            "    accuracy                           0.50        20\n",
            "   macro avg       0.59      0.56      0.48        20\n",
            "weighted avg       0.62      0.50      0.46        20\n",
            "\n"
          ]
        }
      ],
      "source": [
        "target_names = [\"Class 0\", \"Class 1\"]\n",
        "\n",
        "print(classification_report(y_test, y_pred, target_names=target_names))"
      ]
    },
    {
      "cell_type": "markdown",
      "metadata": {
        "id": "FMvE_AV6m5MR"
      },
      "source": [
        "<h1 align=\"center\">Bi-LSTM</h1>"
      ]
    },
    {
      "cell_type": "code",
      "execution_count": null,
      "metadata": {
        "execution": {
          "iopub.execute_input": "2024-03-21T12:46:24.223423Z",
          "iopub.status.busy": "2024-03-21T12:46:24.222229Z",
          "iopub.status.idle": "2024-03-21T12:46:24.378349Z",
          "shell.execute_reply": "2024-03-21T12:46:24.377530Z",
          "shell.execute_reply.started": "2024-03-21T12:46:24.223378Z"
        },
        "id": "vfA7UExZm5MR",
        "outputId": "3ccdaad5-8d4b-46b1-b0ec-d76b51daa245",
        "trusted": true
      },
      "outputs": [
        {
          "name": "stderr",
          "output_type": "stream",
          "text": [
            "/opt/conda/lib/python3.10/site-packages/keras/src/layers/core/embedding.py:81: UserWarning: Do not pass an `input_shape`/`input_dim` argument to a layer. When using Sequential models, prefer using an `Input(shape)` object as the first layer in the model instead.\n",
            "  super().__init__(**kwargs)\n"
          ]
        },
        {
          "data": {
            "text/html": [
              "<pre style=\"white-space:pre;overflow-x:auto;line-height:normal;font-family:Menlo,'DejaVu Sans Mono',consolas,'Courier New',monospace\"><span style=\"font-weight: bold\">Model: \"sequential_1\"</span>\n",
              "</pre>\n"
            ],
            "text/plain": [
              "\u001b[1mModel: \"sequential_1\"\u001b[0m\n"
            ]
          },
          "metadata": {},
          "output_type": "display_data"
        },
        {
          "data": {
            "text/html": [
              "<pre style=\"white-space:pre;overflow-x:auto;line-height:normal;font-family:Menlo,'DejaVu Sans Mono',consolas,'Courier New',monospace\">┏━━━━━━━━━━━━━━━━━━━━━━━━━━━━━━━━━┳━━━━━━━━━━━━━━━━━━━━━━━━┳━━━━━━━━━━━━━━━┓\n",
              "┃<span style=\"font-weight: bold\"> Layer (type)                    </span>┃<span style=\"font-weight: bold\"> Output Shape           </span>┃<span style=\"font-weight: bold\">       Param # </span>┃\n",
              "┡━━━━━━━━━━━━━━━━━━━━━━━━━━━━━━━━━╇━━━━━━━━━━━━━━━━━━━━━━━━╇━━━━━━━━━━━━━━━┩\n",
              "│ embedding_1 (<span style=\"color: #0087ff; text-decoration-color: #0087ff\">Embedding</span>)         │ (<span style=\"color: #00d7ff; text-decoration-color: #00d7ff\">None</span>, <span style=\"color: #00af00; text-decoration-color: #00af00\">50</span>, <span style=\"color: #00af00; text-decoration-color: #00af00\">150</span>)        │     <span style=\"color: #00af00; text-decoration-color: #00af00\">1,500,000</span> │\n",
              "├─────────────────────────────────┼────────────────────────┼───────────────┤\n",
              "│ bidirectional (<span style=\"color: #0087ff; text-decoration-color: #0087ff\">Bidirectional</span>)   │ (<span style=\"color: #00d7ff; text-decoration-color: #00d7ff\">None</span>, <span style=\"color: #00af00; text-decoration-color: #00af00\">400</span>)            │       <span style=\"color: #00af00; text-decoration-color: #00af00\">561,600</span> │\n",
              "├─────────────────────────────────┼────────────────────────┼───────────────┤\n",
              "│ dropout_1 (<span style=\"color: #0087ff; text-decoration-color: #0087ff\">Dropout</span>)             │ (<span style=\"color: #00d7ff; text-decoration-color: #00d7ff\">None</span>, <span style=\"color: #00af00; text-decoration-color: #00af00\">400</span>)            │             <span style=\"color: #00af00; text-decoration-color: #00af00\">0</span> │\n",
              "├─────────────────────────────────┼────────────────────────┼───────────────┤\n",
              "│ dense_1 (<span style=\"color: #0087ff; text-decoration-color: #0087ff\">Dense</span>)                 │ (<span style=\"color: #00d7ff; text-decoration-color: #00d7ff\">None</span>, <span style=\"color: #00af00; text-decoration-color: #00af00\">1</span>)              │           <span style=\"color: #00af00; text-decoration-color: #00af00\">401</span> │\n",
              "└─────────────────────────────────┴────────────────────────┴───────────────┘\n",
              "</pre>\n"
            ],
            "text/plain": [
              "┏━━━━━━━━━━━━━━━━━━━━━━━━━━━━━━━━━┳━━━━━━━━━━━━━━━━━━━━━━━━┳━━━━━━━━━━━━━━━┓\n",
              "┃\u001b[1m \u001b[0m\u001b[1mLayer (type)                   \u001b[0m\u001b[1m \u001b[0m┃\u001b[1m \u001b[0m\u001b[1mOutput Shape          \u001b[0m\u001b[1m \u001b[0m┃\u001b[1m \u001b[0m\u001b[1m      Param #\u001b[0m\u001b[1m \u001b[0m┃\n",
              "┡━━━━━━━━━━━━━━━━━━━━━━━━━━━━━━━━━╇━━━━━━━━━━━━━━━━━━━━━━━━╇━━━━━━━━━━━━━━━┩\n",
              "│ embedding_1 (\u001b[38;5;33mEmbedding\u001b[0m)         │ (\u001b[38;5;45mNone\u001b[0m, \u001b[38;5;34m50\u001b[0m, \u001b[38;5;34m150\u001b[0m)        │     \u001b[38;5;34m1,500,000\u001b[0m │\n",
              "├─────────────────────────────────┼────────────────────────┼───────────────┤\n",
              "│ bidirectional (\u001b[38;5;33mBidirectional\u001b[0m)   │ (\u001b[38;5;45mNone\u001b[0m, \u001b[38;5;34m400\u001b[0m)            │       \u001b[38;5;34m561,600\u001b[0m │\n",
              "├─────────────────────────────────┼────────────────────────┼───────────────┤\n",
              "│ dropout_1 (\u001b[38;5;33mDropout\u001b[0m)             │ (\u001b[38;5;45mNone\u001b[0m, \u001b[38;5;34m400\u001b[0m)            │             \u001b[38;5;34m0\u001b[0m │\n",
              "├─────────────────────────────────┼────────────────────────┼───────────────┤\n",
              "│ dense_1 (\u001b[38;5;33mDense\u001b[0m)                 │ (\u001b[38;5;45mNone\u001b[0m, \u001b[38;5;34m1\u001b[0m)              │           \u001b[38;5;34m401\u001b[0m │\n",
              "└─────────────────────────────────┴────────────────────────┴───────────────┘\n"
            ]
          },
          "metadata": {},
          "output_type": "display_data"
        },
        {
          "data": {
            "text/html": [
              "<pre style=\"white-space:pre;overflow-x:auto;line-height:normal;font-family:Menlo,'DejaVu Sans Mono',consolas,'Courier New',monospace\"><span style=\"font-weight: bold\"> Total params: </span><span style=\"color: #00af00; text-decoration-color: #00af00\">2,062,001</span> (7.87 MB)\n",
              "</pre>\n"
            ],
            "text/plain": [
              "\u001b[1m Total params: \u001b[0m\u001b[38;5;34m2,062,001\u001b[0m (7.87 MB)\n"
            ]
          },
          "metadata": {},
          "output_type": "display_data"
        },
        {
          "data": {
            "text/html": [
              "<pre style=\"white-space:pre;overflow-x:auto;line-height:normal;font-family:Menlo,'DejaVu Sans Mono',consolas,'Courier New',monospace\"><span style=\"font-weight: bold\"> Trainable params: </span><span style=\"color: #00af00; text-decoration-color: #00af00\">2,062,001</span> (7.87 MB)\n",
              "</pre>\n"
            ],
            "text/plain": [
              "\u001b[1m Trainable params: \u001b[0m\u001b[38;5;34m2,062,001\u001b[0m (7.87 MB)\n"
            ]
          },
          "metadata": {},
          "output_type": "display_data"
        },
        {
          "data": {
            "text/html": [
              "<pre style=\"white-space:pre;overflow-x:auto;line-height:normal;font-family:Menlo,'DejaVu Sans Mono',consolas,'Courier New',monospace\"><span style=\"font-weight: bold\"> Non-trainable params: </span><span style=\"color: #00af00; text-decoration-color: #00af00\">0</span> (0.00 B)\n",
              "</pre>\n"
            ],
            "text/plain": [
              "\u001b[1m Non-trainable params: \u001b[0m\u001b[38;5;34m0\u001b[0m (0.00 B)\n"
            ]
          },
          "metadata": {},
          "output_type": "display_data"
        },
        {
          "name": "stdout",
          "output_type": "stream",
          "text": [
            "None\n"
          ]
        }
      ],
      "source": [
        "embedding_vector_features=150\n",
        "\n",
        "model2 = Sequential()\n",
        "model2.add(Embedding(VOCAB_SIZE, embedding_vector_features, input_shape=(sentence_length,)))\n",
        "model2.add(Bidirectional(LSTM(200)))\n",
        "model2.add(Dropout(0.2))\n",
        "model2.add(Dense(1,activation='sigmoid'))\n",
        "model2.compile(loss='binary_crossentropy',optimizer='adam',metrics=['accuracy'])\n",
        "\n",
        "print(model2.summary())"
      ]
    },
    {
      "cell_type": "code",
      "execution_count": null,
      "metadata": {
        "execution": {
          "iopub.execute_input": "2024-03-21T12:46:32.566837Z",
          "iopub.status.busy": "2024-03-21T12:46:32.566385Z",
          "iopub.status.idle": "2024-03-21T12:46:46.812032Z",
          "shell.execute_reply": "2024-03-21T12:46:46.810986Z",
          "shell.execute_reply.started": "2024-03-21T12:46:32.566804Z"
        },
        "id": "_EWKoxFRm5MS",
        "outputId": "e1993b1e-8495-4bb3-8527-e81e0cd5359b",
        "trusted": true
      },
      "outputs": [
        {
          "name": "stdout",
          "output_type": "stream",
          "text": [
            "Epoch 1/20\n",
            "\u001b[1m1/1\u001b[0m \u001b[32m━━━━━━━━━━━━━━━━━━━━\u001b[0m\u001b[37m\u001b[0m \u001b[1m5s\u001b[0m 5s/step - accuracy: 0.4875 - loss: 0.6926 - val_accuracy: 0.4000 - val_loss: 0.7132\n",
            "Epoch 2/20\n",
            "\u001b[1m1/1\u001b[0m \u001b[32m━━━━━━━━━━━━━━━━━━━━\u001b[0m\u001b[37m\u001b[0m \u001b[1m1s\u001b[0m 838ms/step - accuracy: 0.5500 - loss: 0.6877 - val_accuracy: 0.4000 - val_loss: 0.7305\n",
            "Epoch 3/20\n",
            "\u001b[1m1/1\u001b[0m \u001b[32m━━━━━━━━━━━━━━━━━━━━\u001b[0m\u001b[37m\u001b[0m \u001b[1m1s\u001b[0m 624ms/step - accuracy: 0.5500 - loss: 0.6880 - val_accuracy: 0.4000 - val_loss: 0.7323\n",
            "Epoch 4/20\n",
            "\u001b[1m1/1\u001b[0m \u001b[32m━━━━━━━━━━━━━━━━━━━━\u001b[0m\u001b[37m\u001b[0m \u001b[1m1s\u001b[0m 562ms/step - accuracy: 0.5500 - loss: 0.6852 - val_accuracy: 0.4000 - val_loss: 0.7262\n",
            "Epoch 5/20\n",
            "\u001b[1m1/1\u001b[0m \u001b[32m━━━━━━━━━━━━━━━━━━━━\u001b[0m\u001b[37m\u001b[0m \u001b[1m1s\u001b[0m 684ms/step - accuracy: 0.5500 - loss: 0.6837 - val_accuracy: 0.4000 - val_loss: 0.7194\n",
            "Epoch 6/20\n",
            "\u001b[1m1/1\u001b[0m \u001b[32m━━━━━━━━━━━━━━━━━━━━\u001b[0m\u001b[37m\u001b[0m \u001b[1m1s\u001b[0m 626ms/step - accuracy: 0.5500 - loss: 0.6811 - val_accuracy: 0.4000 - val_loss: 0.7141\n",
            "Epoch 7/20\n",
            "\u001b[1m1/1\u001b[0m \u001b[32m━━━━━━━━━━━━━━━━━━━━\u001b[0m\u001b[37m\u001b[0m \u001b[1m0s\u001b[0m 366ms/step - accuracy: 0.5500 - loss: 0.6787 - val_accuracy: 0.4000 - val_loss: 0.7108\n",
            "Epoch 8/20\n",
            "\u001b[1m1/1\u001b[0m \u001b[32m━━━━━━━━━━━━━━━━━━━━\u001b[0m\u001b[37m\u001b[0m \u001b[1m1s\u001b[0m 619ms/step - accuracy: 0.5500 - loss: 0.6784 - val_accuracy: 0.4000 - val_loss: 0.7094\n",
            "Epoch 9/20\n",
            "\u001b[1m1/1\u001b[0m \u001b[32m━━━━━━━━━━━━━━━━━━━━\u001b[0m\u001b[37m\u001b[0m \u001b[1m1s\u001b[0m 610ms/step - accuracy: 0.5500 - loss: 0.6747 - val_accuracy: 0.4000 - val_loss: 0.7100\n",
            "Epoch 10/20\n",
            "\u001b[1m1/1\u001b[0m \u001b[32m━━━━━━━━━━━━━━━━━━━━\u001b[0m\u001b[37m\u001b[0m \u001b[1m0s\u001b[0m 363ms/step - accuracy: 0.5500 - loss: 0.6729 - val_accuracy: 0.4000 - val_loss: 0.7124\n",
            "Epoch 11/20\n",
            "\u001b[1m1/1\u001b[0m \u001b[32m━━━━━━━━━━━━━━━━━━━━\u001b[0m\u001b[37m\u001b[0m \u001b[1m1s\u001b[0m 610ms/step - accuracy: 0.5500 - loss: 0.6681 - val_accuracy: 0.4000 - val_loss: 0.7159\n",
            "Epoch 12/20\n",
            "\u001b[1m1/1\u001b[0m \u001b[32m━━━━━━━━━━━━━━━━━━━━\u001b[0m\u001b[37m\u001b[0m \u001b[1m0s\u001b[0m 366ms/step - accuracy: 0.5500 - loss: 0.6630 - val_accuracy: 0.4000 - val_loss: 0.7202\n",
            "Epoch 13/20\n",
            "\u001b[1m1/1\u001b[0m \u001b[32m━━━━━━━━━━━━━━━━━━━━\u001b[0m\u001b[37m\u001b[0m \u001b[1m0s\u001b[0m 364ms/step - accuracy: 0.5500 - loss: 0.6599 - val_accuracy: 0.4000 - val_loss: 0.7239\n",
            "Epoch 14/20\n",
            "\u001b[1m1/1\u001b[0m \u001b[32m━━━━━━━━━━━━━━━━━━━━\u001b[0m\u001b[37m\u001b[0m \u001b[1m0s\u001b[0m 363ms/step - accuracy: 0.5500 - loss: 0.6536 - val_accuracy: 0.4000 - val_loss: 0.7252\n",
            "Epoch 15/20\n",
            "\u001b[1m1/1\u001b[0m \u001b[32m━━━━━━━━━━━━━━━━━━━━\u001b[0m\u001b[37m\u001b[0m \u001b[1m0s\u001b[0m 402ms/step - accuracy: 0.5500 - loss: 0.6471 - val_accuracy: 0.4000 - val_loss: 0.7237\n",
            "Epoch 16/20\n",
            "\u001b[1m1/1\u001b[0m \u001b[32m━━━━━━━━━━━━━━━━━━━━\u001b[0m\u001b[37m\u001b[0m \u001b[1m0s\u001b[0m 384ms/step - accuracy: 0.5500 - loss: 0.6402 - val_accuracy: 0.4000 - val_loss: 0.7204\n",
            "Epoch 17/20\n",
            "\u001b[1m1/1\u001b[0m \u001b[32m━━━━━━━━━━━━━━━━━━━━\u001b[0m\u001b[37m\u001b[0m \u001b[1m1s\u001b[0m 587ms/step - accuracy: 0.5625 - loss: 0.6313 - val_accuracy: 0.4000 - val_loss: 0.7166\n",
            "Epoch 18/20\n",
            "\u001b[1m1/1\u001b[0m \u001b[32m━━━━━━━━━━━━━━━━━━━━\u001b[0m\u001b[37m\u001b[0m \u001b[1m1s\u001b[0m 589ms/step - accuracy: 0.6750 - loss: 0.6217 - val_accuracy: 0.3500 - val_loss: 0.7133\n",
            "Epoch 19/20\n",
            "\u001b[1m1/1\u001b[0m \u001b[32m━━━━━━━━━━━━━━━━━━━━\u001b[0m\u001b[37m\u001b[0m \u001b[1m0s\u001b[0m 288ms/step - accuracy: 0.7250 - loss: 0.6108 - val_accuracy: 0.4000 - val_loss: 0.7114\n",
            "Epoch 20/20\n",
            "\u001b[1m1/1\u001b[0m \u001b[32m━━━━━━━━━━━━━━━━━━━━\u001b[0m\u001b[37m\u001b[0m \u001b[1m0s\u001b[0m 297ms/step - accuracy: 0.8250 - loss: 0.5960 - val_accuracy: 0.4500 - val_loss: 0.7121\n"
          ]
        },
        {
          "data": {
            "text/plain": [
              "<keras.src.callbacks.history.History at 0x78e4cc9172e0>"
            ]
          },
          "execution_count": 89,
          "metadata": {},
          "output_type": "execute_result"
        }
      ],
      "source": [
        "model2.fit(X_train, y_train, validation_data=(X_test, y_test), epochs=20, batch_size=120)"
      ]
    },
    {
      "cell_type": "code",
      "execution_count": null,
      "metadata": {
        "execution": {
          "iopub.execute_input": "2024-03-21T12:46:52.156449Z",
          "iopub.status.busy": "2024-03-21T12:46:52.156055Z",
          "iopub.status.idle": "2024-03-21T12:46:52.861806Z",
          "shell.execute_reply": "2024-03-21T12:46:52.860534Z",
          "shell.execute_reply.started": "2024-03-21T12:46:52.156418Z"
        },
        "id": "7jr-OxR3m5MS",
        "outputId": "442a8759-76aa-4685-f59f-244dcb1b8710",
        "trusted": true
      },
      "outputs": [
        {
          "name": "stdout",
          "output_type": "stream",
          "text": [
            "\u001b[1m1/1\u001b[0m \u001b[32m━━━━━━━━━━━━━━━━━━━━\u001b[0m\u001b[37m\u001b[0m \u001b[1m0s\u001b[0m 377ms/step\n",
            "0.45\n"
          ]
        }
      ],
      "source": [
        "y_log_2 = model2.predict(X_test)\n",
        "y_pred_2 = np.where(y_log_2>0.5, 1, 0)\n",
        "\n",
        "acc_2 = accuracy_score(y_test, y_pred_2)\n",
        "print(acc_2)"
      ]
    },
    {
      "cell_type": "code",
      "execution_count": null,
      "metadata": {
        "execution": {
          "iopub.execute_input": "2024-03-21T12:47:15.255741Z",
          "iopub.status.busy": "2024-03-21T12:47:15.255235Z",
          "iopub.status.idle": "2024-03-21T12:47:15.611073Z",
          "shell.execute_reply": "2024-03-21T12:47:15.609506Z",
          "shell.execute_reply.started": "2024-03-21T12:47:15.255704Z"
        },
        "id": "c8Kq_bv0m5MS",
        "outputId": "fe457923-e978-46aa-9df3-7822a2d010ff",
        "trusted": true
      },
      "outputs": [
        {
          "data": {
            "image/png": "[encoded data removed]",
            "text/plain": [
              "<Figure size 800x600 with 2 Axes>"
            ]
          },
          "metadata": {},
          "output_type": "display_data"
        }
      ],
      "source": [
        "confusion_mat_2 = confusion_matrix(y_test, y_pred_2)\n",
        "\n",
        "# Define labels for the matrix\n",
        "labels = ['True Negative', 'False Positive', 'False Negative', 'True Positive']\n",
        "\n",
        "# Plotting the confusion matrix\n",
        "pyplot.figure(figsize=(8, 6))\n",
        "seaborn.heatmap(confusion_mat_2, annot=True, fmt='d', cmap='Blues', xticklabels=['Predicted 0', 'Predicted 1'], yticklabels=['Actual 0', 'Actual 1'])\n",
        "pyplot.xlabel('Predicted label')\n",
        "pyplot.ylabel('True label')\n",
        "pyplot.title('Confusion Matrix')\n",
        "pyplot.xticks(ticks=np.arange(2) + 0.5, labels=['Predicted 0', 'Predicted 1'])\n",
        "pyplot.yticks(ticks=np.arange(2) + 0.5, labels=['Actual 0', 'Actual 1'])\n",
        "pyplot.show()"
      ]
    },
    {
      "cell_type": "code",
      "execution_count": null,
      "metadata": {
        "execution": {
          "iopub.execute_input": "2024-03-21T12:47:22.721199Z",
          "iopub.status.busy": "2024-03-21T12:47:22.720757Z",
          "iopub.status.idle": "2024-03-21T12:47:22.739130Z",
          "shell.execute_reply": "2024-03-21T12:47:22.737216Z",
          "shell.execute_reply.started": "2024-03-21T12:47:22.721164Z"
        },
        "id": "ep6n5OxQm5MS",
        "outputId": "4a01fe68-1894-411b-e590-f9eaf246982e",
        "trusted": true
      },
      "outputs": [
        {
          "name": "stdout",
          "output_type": "stream",
          "text": [
            "              precision    recall  f1-score   support\n",
            "\n",
            "     Class 0       0.67      0.17      0.27        12\n",
            "     Class 1       0.41      0.88      0.56         8\n",
            "\n",
            "    accuracy                           0.45        20\n",
            "   macro avg       0.54      0.52      0.41        20\n",
            "weighted avg       0.56      0.45      0.38        20\n",
            "\n"
          ]
        }
      ],
      "source": [
        "target_names = [\"Class 0\", \"Class 1\"]\n",
        "\n",
        "print(classification_report(y_test, y_pred_2, target_names=target_names))"
      ]
    },
    {
      "cell_type": "markdown",
      "metadata": {
        "id": "TRD3sNo8m5MS"
      },
      "source": [
        "<h1 align=\"center\">RNN</h1>"
      ]
    },
    {
      "cell_type": "code",
      "execution_count": null,
      "metadata": {
        "execution": {
          "iopub.execute_input": "2024-03-21T12:48:32.921982Z",
          "iopub.status.busy": "2024-03-21T12:48:32.921530Z",
          "iopub.status.idle": "2024-03-21T12:48:32.938351Z",
          "shell.execute_reply": "2024-03-21T12:48:32.936841Z",
          "shell.execute_reply.started": "2024-03-21T12:48:32.921950Z"
        },
        "id": "2Wxaa6Z-m5MS",
        "outputId": "d6b882f8-4f8b-45a0-aaab-be084163702c",
        "trusted": true
      },
      "outputs": [
        {
          "data": {
            "text/html": [
              "<div>\n",
              "<style scoped>\n",
              "    .dataframe tbody tr th:only-of-type {\n",
              "        vertical-align: middle;\n",
              "    }\n",
              "\n",
              "    .dataframe tbody tr th {\n",
              "        vertical-align: top;\n",
              "    }\n",
              "\n",
              "    .dataframe thead th {\n",
              "        text-align: right;\n",
              "    }\n",
              "</style>\n",
              "<table border=\"1\" class=\"dataframe\">\n",
              "  <thead>\n",
              "    <tr style=\"text-align: right;\">\n",
              "      <th></th>\n",
              "      <th>title</th>\n",
              "      <th>text</th>\n",
              "      <th>label</th>\n",
              "      <th>Parsed</th>\n",
              "    </tr>\n",
              "  </thead>\n",
              "  <tbody>\n",
              "    <tr>\n",
              "      <th>0</th>\n",
              "      <td>law enforcement on high alert following threat...</td>\n",
              "      <td>no comment is expected from barack obama membe...</td>\n",
              "      <td>1</td>\n",
              "      <td>enforcement h</td>\n",
              "    </tr>\n",
              "    <tr>\n",
              "      <th>1</th>\n",
              "      <td>unbelievable obamas attorney general says most...</td>\n",
              "      <td>now most of the demonstrators gathered last n...</td>\n",
              "      <td>1</td>\n",
              "      <td>obamas</td>\n",
              "    </tr>\n",
              "    <tr>\n",
              "      <th>2</th>\n",
              "      <td>bobby jindal raised hindu uses story of christ...</td>\n",
              "      <td>a dozen politically active pastors came here f...</td>\n",
              "      <td>0</td>\n",
              "      <td>raised</td>\n",
              "    </tr>\n",
              "    <tr>\n",
              "      <th>3</th>\n",
              "      <td>satan  russia unvelis an image of its terrifyi...</td>\n",
              "      <td>the rs sarmat missile dubbed satan  will repla...</td>\n",
              "      <td>1</td>\n",
              "      <td>satan unveli</td>\n",
              "    </tr>\n",
              "    <tr>\n",
              "      <th>4</th>\n",
              "      <td>about time christian group sues amazon and spl...</td>\n",
              "      <td>all we can say on this one is it s about time ...</td>\n",
              "      <td>1</td>\n",
              "      <td>christian time</td>\n",
              "    </tr>\n",
              "    <tr>\n",
              "      <th>...</th>\n",
              "      <td>...</td>\n",
              "      <td>...</td>\n",
              "      <td>...</td>\n",
              "      <td>...</td>\n",
              "    </tr>\n",
              "    <tr>\n",
              "      <th>95</th>\n",
              "      <td>boiler room ep   weather warfare  cnn goblin pits</td>\n",
              "      <td>tune in to the alternate current radio network...</td>\n",
              "      <td>1</td>\n",
              "      <td>wea room</td>\n",
              "    </tr>\n",
              "    <tr>\n",
              "      <th>96</th>\n",
              "      <td>college republicans president attacked by anti...</td>\n",
              "      <td>so much for trying to come together like the l...</td>\n",
              "      <td>1</td>\n",
              "      <td>college</td>\n",
              "    </tr>\n",
              "    <tr>\n",
              "      <th>97</th>\n",
              "      <td>beyonce doubles downdebuts lemonade another ra...</td>\n",
              "      <td>most of the world will be obsessed with beyonc...</td>\n",
              "      <td>1</td>\n",
              "      <td>doubles</td>\n",
              "    </tr>\n",
              "    <tr>\n",
              "      <th>98</th>\n",
              "      <td>one person shot in portland as antitrump prote...</td>\n",
              "      <td>reuters  one person was shot at an antitrump d...</td>\n",
              "      <td>0</td>\n",
              "      <td>person shot</td>\n",
              "    </tr>\n",
              "    <tr>\n",
              "      <th>99</th>\n",
              "      <td>for helping immigrants chobanis founder draws ...</td>\n",
              "      <td>by many measures chobani embodies the classic ...</td>\n",
              "      <td>0</td>\n",
              "      <td>helping</td>\n",
              "    </tr>\n",
              "  </tbody>\n",
              "</table>\n",
              "<p>100 rows × 4 columns</p>\n",
              "</div>"
            ],
            "text/plain": [
              "                                                title  \\\n",
              "0   law enforcement on high alert following threat...   \n",
              "1   unbelievable obamas attorney general says most...   \n",
              "2   bobby jindal raised hindu uses story of christ...   \n",
              "3   satan  russia unvelis an image of its terrifyi...   \n",
              "4   about time christian group sues amazon and spl...   \n",
              "..                                                ...   \n",
              "95  boiler room ep   weather warfare  cnn goblin pits   \n",
              "96  college republicans president attacked by anti...   \n",
              "97  beyonce doubles downdebuts lemonade another ra...   \n",
              "98  one person shot in portland as antitrump prote...   \n",
              "99  for helping immigrants chobanis founder draws ...   \n",
              "\n",
              "                                                 text  label           Parsed  \n",
              "0   no comment is expected from barack obama membe...      1   enforcement h   \n",
              "1    now most of the demonstrators gathered last n...      1          obamas   \n",
              "2   a dozen politically active pastors came here f...      0          raised   \n",
              "3   the rs sarmat missile dubbed satan  will repla...      1    satan unveli   \n",
              "4   all we can say on this one is it s about time ...      1  christian time   \n",
              "..                                                ...    ...              ...  \n",
              "95  tune in to the alternate current radio network...      1        wea room   \n",
              "96  so much for trying to come together like the l...      1         college   \n",
              "97  most of the world will be obsessed with beyonc...      1         doubles   \n",
              "98  reuters  one person was shot at an antitrump d...      0     person shot   \n",
              "99  by many measures chobani embodies the classic ...      0         helping   \n",
              "\n",
              "[100 rows x 4 columns]"
            ]
          },
          "execution_count": 94,
          "metadata": {},
          "output_type": "execute_result"
        }
      ],
      "source": [
        "data"
      ]
    },
    {
      "cell_type": "code",
      "execution_count": null,
      "metadata": {
        "execution": {
          "iopub.execute_input": "2024-03-21T12:49:38.298034Z",
          "iopub.status.busy": "2024-03-21T12:49:38.297201Z",
          "iopub.status.idle": "2024-03-21T12:49:38.318177Z",
          "shell.execute_reply": "2024-03-21T12:49:38.316703Z",
          "shell.execute_reply.started": "2024-03-21T12:49:38.297992Z"
        },
        "id": "97qof94-m5MT",
        "outputId": "aa5b4364-12a9-413a-f7ac-9e8c82a5b580",
        "trusted": true
      },
      "outputs": [
        {
          "data": {
            "text/html": [
              "<div>\n",
              "<style scoped>\n",
              "    .dataframe tbody tr th:only-of-type {\n",
              "        vertical-align: middle;\n",
              "    }\n",
              "\n",
              "    .dataframe tbody tr th {\n",
              "        vertical-align: top;\n",
              "    }\n",
              "\n",
              "    .dataframe thead th {\n",
              "        text-align: right;\n",
              "    }\n",
              "</style>\n",
              "<table border=\"1\" class=\"dataframe\">\n",
              "  <thead>\n",
              "    <tr style=\"text-align: right;\">\n",
              "      <th></th>\n",
              "      <th>title</th>\n",
              "      <th>text</th>\n",
              "      <th>label</th>\n",
              "      <th>Parsed</th>\n",
              "    </tr>\n",
              "  </thead>\n",
              "  <tbody>\n",
              "    <tr>\n",
              "      <th>0</th>\n",
              "      <td>law enforcement on high alert following threat...</td>\n",
              "      <td>no comment is expected from barack obama membe...</td>\n",
              "      <td>1</td>\n",
              "      <td>enforcement h</td>\n",
              "    </tr>\n",
              "    <tr>\n",
              "      <th>1</th>\n",
              "      <td>unbelievable obamas attorney general says most...</td>\n",
              "      <td>now most of the demonstrators gathered last n...</td>\n",
              "      <td>1</td>\n",
              "      <td>obamas</td>\n",
              "    </tr>\n",
              "    <tr>\n",
              "      <th>2</th>\n",
              "      <td>bobby jindal raised hindu uses story of christ...</td>\n",
              "      <td>a dozen politically active pastors came here f...</td>\n",
              "      <td>0</td>\n",
              "      <td>raised</td>\n",
              "    </tr>\n",
              "    <tr>\n",
              "      <th>3</th>\n",
              "      <td>satan  russia unvelis an image of its terrifyi...</td>\n",
              "      <td>the rs sarmat missile dubbed satan  will repla...</td>\n",
              "      <td>1</td>\n",
              "      <td>satan unveli</td>\n",
              "    </tr>\n",
              "    <tr>\n",
              "      <th>4</th>\n",
              "      <td>about time christian group sues amazon and spl...</td>\n",
              "      <td>all we can say on this one is it s about time ...</td>\n",
              "      <td>1</td>\n",
              "      <td>christian time</td>\n",
              "    </tr>\n",
              "    <tr>\n",
              "      <th>...</th>\n",
              "      <td>...</td>\n",
              "      <td>...</td>\n",
              "      <td>...</td>\n",
              "      <td>...</td>\n",
              "    </tr>\n",
              "    <tr>\n",
              "      <th>95</th>\n",
              "      <td>boiler room ep   weather warfare  cnn goblin pits</td>\n",
              "      <td>tune in to the alternate current radio network...</td>\n",
              "      <td>1</td>\n",
              "      <td>wea room</td>\n",
              "    </tr>\n",
              "    <tr>\n",
              "      <th>96</th>\n",
              "      <td>college republicans president attacked by anti...</td>\n",
              "      <td>so much for trying to come together like the l...</td>\n",
              "      <td>1</td>\n",
              "      <td>college</td>\n",
              "    </tr>\n",
              "    <tr>\n",
              "      <th>97</th>\n",
              "      <td>beyonce doubles downdebuts lemonade another ra...</td>\n",
              "      <td>most of the world will be obsessed with beyonc...</td>\n",
              "      <td>1</td>\n",
              "      <td>doubles</td>\n",
              "    </tr>\n",
              "    <tr>\n",
              "      <th>98</th>\n",
              "      <td>one person shot in portland as antitrump prote...</td>\n",
              "      <td>reuters  one person was shot at an antitrump d...</td>\n",
              "      <td>0</td>\n",
              "      <td>person shot</td>\n",
              "    </tr>\n",
              "    <tr>\n",
              "      <th>99</th>\n",
              "      <td>for helping immigrants chobanis founder draws ...</td>\n",
              "      <td>by many measures chobani embodies the classic ...</td>\n",
              "      <td>0</td>\n",
              "      <td>helping</td>\n",
              "    </tr>\n",
              "  </tbody>\n",
              "</table>\n",
              "<p>100 rows × 4 columns</p>\n",
              "</div>"
            ],
            "text/plain": [
              "                                                title  \\\n",
              "0   law enforcement on high alert following threat...   \n",
              "1   unbelievable obamas attorney general says most...   \n",
              "2   bobby jindal raised hindu uses story of christ...   \n",
              "3   satan  russia unvelis an image of its terrifyi...   \n",
              "4   about time christian group sues amazon and spl...   \n",
              "..                                                ...   \n",
              "95  boiler room ep   weather warfare  cnn goblin pits   \n",
              "96  college republicans president attacked by anti...   \n",
              "97  beyonce doubles downdebuts lemonade another ra...   \n",
              "98  one person shot in portland as antitrump prote...   \n",
              "99  for helping immigrants chobanis founder draws ...   \n",
              "\n",
              "                                                 text  label           Parsed  \n",
              "0   no comment is expected from barack obama membe...      1   enforcement h   \n",
              "1    now most of the demonstrators gathered last n...      1          obamas   \n",
              "2   a dozen politically active pastors came here f...      0          raised   \n",
              "3   the rs sarmat missile dubbed satan  will repla...      1    satan unveli   \n",
              "4   all we can say on this one is it s about time ...      1  christian time   \n",
              "..                                                ...    ...              ...  \n",
              "95  tune in to the alternate current radio network...      1        wea room   \n",
              "96  so much for trying to come together like the l...      1         college   \n",
              "97  most of the world will be obsessed with beyonc...      1         doubles   \n",
              "98  reuters  one person was shot at an antitrump d...      0     person shot   \n",
              "99  by many measures chobani embodies the classic ...      0         helping   \n",
              "\n",
              "[100 rows x 4 columns]"
            ]
          },
          "execution_count": 96,
          "metadata": {},
          "output_type": "execute_result"
        }
      ],
      "source": [
        "data_rnn = data.copy()\n",
        "data_rnn"
      ]
    },
    {
      "cell_type": "markdown",
      "metadata": {
        "id": "Vg17YgkJm5MT"
      },
      "source": [
        "### Test-Train Split:"
      ]
    },
    {
      "cell_type": "code",
      "execution_count": null,
      "metadata": {
        "execution": {
          "iopub.execute_input": "2024-03-21T12:49:57.171726Z",
          "iopub.status.busy": "2024-03-21T12:49:57.171304Z",
          "iopub.status.idle": "2024-03-21T12:49:57.180437Z",
          "shell.execute_reply": "2024-03-21T12:49:57.178852Z",
          "shell.execute_reply.started": "2024-03-21T12:49:57.171695Z"
        },
        "id": "vZjB-ddZm5MT",
        "trusted": true
      },
      "outputs": [],
      "source": [
        "X_train_texts, X_test_texts, y_train, y_test = train_test_split(data_rnn[\"Parsed\"], data_rnn[\"label\"], test_size=0.2, random_state=42)"
      ]
    },
    {
      "cell_type": "markdown",
      "metadata": {
        "id": "S7jo_Q6Mm5MT"
      },
      "source": [
        "### Tokenizing:"
      ]
    },
    {
      "cell_type": "code",
      "execution_count": null,
      "metadata": {
        "execution": {
          "iopub.execute_input": "2024-03-21T12:50:58.963293Z",
          "iopub.status.busy": "2024-03-21T12:50:58.962828Z",
          "iopub.status.idle": "2024-03-21T12:50:58.968906Z",
          "shell.execute_reply": "2024-03-21T12:50:58.967910Z",
          "shell.execute_reply.started": "2024-03-21T12:50:58.963262Z"
        },
        "id": "p2eyQ4IUm5MU",
        "outputId": "cb46e445-e54c-4deb-8444-c80e466a10d8",
        "trusted": true
      },
      "outputs": [
        {
          "name": "stdout",
          "output_type": "stream",
          "text": [
            "<keras.src.legacy.preprocessing.text.Tokenizer object at 0x78e4ccb338e0>\n"
          ]
        }
      ],
      "source": [
        "# Instantiate the keras tokenizer\n",
        "tokenizer = Tokenizer(num_words=10000, oov_token = '<00v>') # this is for out of vocab\n",
        "print(tokenizer)"
      ]
    },
    {
      "cell_type": "code",
      "execution_count": null,
      "metadata": {
        "execution": {
          "iopub.execute_input": "2024-03-21T12:51:22.493998Z",
          "iopub.status.busy": "2024-03-21T12:51:22.493533Z",
          "iopub.status.idle": "2024-03-21T12:51:22.502085Z",
          "shell.execute_reply": "2024-03-21T12:51:22.500971Z",
          "shell.execute_reply.started": "2024-03-21T12:51:22.493964Z"
        },
        "id": "MshyDmv9m5MU",
        "outputId": "55366f5c-10f9-42ae-9de2-f28d3a75f87f",
        "trusted": true
      },
      "outputs": [
        {
          "name": "stdout",
          "output_type": "stream",
          "text": [
            "Time taken to tokenize 0.00\n"
          ]
        }
      ],
      "source": [
        "# Fit the tokenizer to the corpus\n",
        "s = time.time()\n",
        "\n",
        "tokenizer.fit_on_texts(X_train_texts)\n",
        "\n",
        "time_to_tokenize = time.time() - s\n",
        "\n",
        "print('Time taken to tokenize {:.2f}'.format(time_to_tokenize))\n",
        "word_index = tokenizer.word_index"
      ]
    },
    {
      "cell_type": "code",
      "execution_count": null,
      "metadata": {
        "execution": {
          "iopub.execute_input": "2024-03-21T12:51:30.519440Z",
          "iopub.status.busy": "2024-03-21T12:51:30.519037Z",
          "iopub.status.idle": "2024-03-21T12:51:30.531224Z",
          "shell.execute_reply": "2024-03-21T12:51:30.529755Z",
          "shell.execute_reply.started": "2024-03-21T12:51:30.519410Z"
        },
        "id": "0ZErD93Dm5MU",
        "outputId": "883c6284-2203-4d0f-a47e-7616d6ffb3cf",
        "trusted": true
      },
      "outputs": [
        {
          "name": "stdout",
          "output_type": "stream",
          "text": [
            "<class 'dict'>\n",
            "<class 'dict_items'>\n"
          ]
        },
        {
          "data": {
            "text/plain": [
              "[('<00v>', 1),\n",
              " ('tru', 2),\n",
              " ('trump', 3),\n",
              " ('f', 4),\n",
              " ('dnc', 5),\n",
              " ('trumps', 6),\n",
              " ('slo', 7),\n",
              " ('wheels', 8),\n",
              " ('leader', 9),\n",
              " ('ot', 10)]"
            ]
          },
          "execution_count": 103,
          "metadata": {},
          "output_type": "execute_result"
        }
      ],
      "source": [
        "print(type(word_index))\n",
        "\n",
        "print(type(word_index.items()))\n",
        "\n",
        "list(word_index.items())[0:10]"
      ]
    },
    {
      "cell_type": "code",
      "execution_count": null,
      "metadata": {
        "execution": {
          "iopub.execute_input": "2024-03-21T12:51:36.806504Z",
          "iopub.status.busy": "2024-03-21T12:51:36.806106Z",
          "iopub.status.idle": "2024-03-21T12:51:36.812777Z",
          "shell.execute_reply": "2024-03-21T12:51:36.811376Z",
          "shell.execute_reply.started": "2024-03-21T12:51:36.806474Z"
        },
        "id": "1DQyjd1_m5MU",
        "outputId": "c0de8aab-f49e-4e19-bfa7-ecd6985e8da5",
        "trusted": true
      },
      "outputs": [
        {
          "name": "stdout",
          "output_type": "stream",
          "text": [
            "115\n"
          ]
        }
      ],
      "source": [
        "print(len(word_index))"
      ]
    },
    {
      "cell_type": "markdown",
      "metadata": {
        "id": "MBhc83tbm5MU"
      },
      "source": [
        "### Turning to sequences, and then padding:"
      ]
    },
    {
      "cell_type": "code",
      "execution_count": null,
      "metadata": {
        "execution": {
          "iopub.execute_input": "2024-03-21T12:52:03.260359Z",
          "iopub.status.busy": "2024-03-21T12:52:03.259984Z",
          "iopub.status.idle": "2024-03-21T12:52:03.267935Z",
          "shell.execute_reply": "2024-03-21T12:52:03.266546Z",
          "shell.execute_reply.started": "2024-03-21T12:52:03.260331Z"
        },
        "id": "xF7jdyn0m5MV",
        "trusted": true
      },
      "outputs": [],
      "source": [
        "# We use the tokenizer that has already been fitted on a (training) corpus, to do the\n",
        "# Sequencing based on that corpus\n",
        "sequences = tokenizer.texts_to_sequences(data_rnn[\"Parsed\"])"
      ]
    },
    {
      "cell_type": "code",
      "execution_count": null,
      "metadata": {
        "execution": {
          "iopub.execute_input": "2024-03-21T12:52:20.541047Z",
          "iopub.status.busy": "2024-03-21T12:52:20.540636Z",
          "iopub.status.idle": "2024-03-21T12:52:20.547523Z",
          "shell.execute_reply": "2024-03-21T12:52:20.546444Z",
          "shell.execute_reply.started": "2024-03-21T12:52:20.541016Z"
        },
        "id": "1jSrQ4RDm5MV",
        "outputId": "d629f556-72fd-45ab-dae6-eadf1b35911b",
        "trusted": true
      },
      "outputs": [
        {
          "name": "stdout",
          "output_type": "stream",
          "text": [
            "<class 'list'>\n",
            "[1, 46]\n",
            "\n",
            "=========================\n",
            "\n",
            "[95]\n"
          ]
        }
      ],
      "source": [
        "# Check sequences:\n",
        "print(type(sequences))\n",
        "\n",
        "# Check examples:\n",
        "print(sequences[0])\n",
        "print(\"\\n=========================\\n\")\n",
        "print(sequences[1])"
      ]
    },
    {
      "cell_type": "code",
      "execution_count": null,
      "metadata": {
        "execution": {
          "iopub.execute_input": "2024-03-21T12:52:28.894705Z",
          "iopub.status.busy": "2024-03-21T12:52:28.894280Z",
          "iopub.status.idle": "2024-03-21T12:52:28.903678Z",
          "shell.execute_reply": "2024-03-21T12:52:28.902563Z",
          "shell.execute_reply.started": "2024-03-21T12:52:28.894671Z"
        },
        "id": "r5ob5rfwm5MV",
        "outputId": "89e2f620-5b99-451c-822f-b7f8566534e7",
        "trusted": true
      },
      "outputs": [
        {
          "name": "stdout",
          "output_type": "stream",
          "text": [
            "Max length is 3\n",
            "Min length is 0\n",
            "Mean and median are 1.54, 2.0\n"
          ]
        }
      ],
      "source": [
        "# See the lengths of first 10 documents\n",
        "[len(text) for text in sequences[0:10]]\n",
        "\n",
        "# Get entire list of lengths\n",
        "lengths_of_texts =  [len(text) for text in sequences]\n",
        "\n",
        "# Range of values\n",
        "print(\"Max length is {}\".format(np.max(lengths_of_texts)))\n",
        "print(\"Min length is {}\".format(np.min(lengths_of_texts)))\n",
        "print(\"Mean and median are {:.2f}, {}\".format(np.mean(lengths_of_texts), np.median(lengths_of_texts)))"
      ]
    },
    {
      "cell_type": "code",
      "execution_count": null,
      "metadata": {
        "execution": {
          "iopub.execute_input": "2024-03-21T12:52:42.306842Z",
          "iopub.status.busy": "2024-03-21T12:52:42.306158Z",
          "iopub.status.idle": "2024-03-21T12:52:42.605076Z",
          "shell.execute_reply": "2024-03-21T12:52:42.603853Z",
          "shell.execute_reply.started": "2024-03-21T12:52:42.306808Z"
        },
        "id": "NsYZ9f-om5MV",
        "outputId": "ccc2b19b-487e-4fd3-93b4-9cc1ae1f996c",
        "trusted": true
      },
      "outputs": [
        {
          "name": "stderr",
          "output_type": "stream",
          "text": [
            "/opt/conda/lib/python3.10/site-packages/seaborn/_oldcore.py:1119: FutureWarning: use_inf_as_na option is deprecated and will be removed in a future version. Convert inf values to NaN before operating instead.\n",
            "  with pd.option_context('mode.use_inf_as_na', True):\n"
          ]
        },
        {
          "data": {
            "image/png": "[encoded data removed]",
            "text/plain": [
              "<Figure size 640x480 with 1 Axes>"
            ]
          },
          "metadata": {},
          "output_type": "display_data"
        }
      ],
      "source": [
        "seaborn.histplot(lengths_of_texts)\n",
        "pyplot.show()"
      ]
    },
    {
      "cell_type": "code",
      "execution_count": null,
      "metadata": {
        "execution": {
          "iopub.execute_input": "2024-03-21T12:53:57.070871Z",
          "iopub.status.busy": "2024-03-21T12:53:57.069983Z",
          "iopub.status.idle": "2024-03-21T12:53:57.086923Z",
          "shell.execute_reply": "2024-03-21T12:53:57.085691Z",
          "shell.execute_reply.started": "2024-03-21T12:53:57.070833Z"
        },
        "id": "Wdu8-jC7m5MV",
        "outputId": "92869f78-cc82-4247-90da-3d4f4cb8d250",
        "trusted": true
      },
      "outputs": [
        {
          "name": "stdout",
          "output_type": "stream",
          "text": [
            "Number of texts with more than 25:  0\n",
            "Percentage of texts with more than 25:  0.00\n"
          ]
        },
        {
          "data": {
            "text/plain": [
              "Series([], Name: count, dtype: int64)"
            ]
          },
          "execution_count": 110,
          "metadata": {},
          "output_type": "execute_result"
        }
      ],
      "source": [
        "# Distribution of lengths -- anomalies\n",
        "data_rnn['text_length'] = data_rnn.Parsed.str.len()\n",
        "anomalies = data_rnn.text_length > 25\n",
        "print('Number of texts with more than 25:  {}'.format(sum(anomalies)))\n",
        "percent_anom = sum(anomalies) / len(data)\n",
        "print('Percentage of texts with more than 25:  {:.2f}'.format(percent_anom))\n",
        "\n",
        "# Anomalies\n",
        "data_rnn[anomalies][['Parsed', 'text_length', 'label']]\n",
        "\n",
        "# Distribution of lengths across labels\n",
        "data_rnn[anomalies].value_counts('label')"
      ]
    },
    {
      "cell_type": "code",
      "execution_count": null,
      "metadata": {
        "execution": {
          "iopub.execute_input": "2024-03-21T12:54:05.286860Z",
          "iopub.status.busy": "2024-03-21T12:54:05.286369Z",
          "iopub.status.idle": "2024-03-21T12:54:05.294834Z",
          "shell.execute_reply": "2024-03-21T12:54:05.293373Z",
          "shell.execute_reply.started": "2024-03-21T12:54:05.286825Z"
        },
        "id": "kJI4DW7Ym5MW",
        "trusted": true
      },
      "outputs": [],
      "source": [
        "# Get sequences for train and test input data:\n",
        "X_train_seq = tokenizer.texts_to_sequences(X_train_texts)\n",
        "X_test_seq = tokenizer.texts_to_sequences(X_test_texts)"
      ]
    },
    {
      "cell_type": "code",
      "execution_count": null,
      "metadata": {
        "execution": {
          "iopub.execute_input": "2024-03-21T12:54:13.387925Z",
          "iopub.status.busy": "2024-03-21T12:54:13.386864Z",
          "iopub.status.idle": "2024-03-21T12:54:13.396536Z",
          "shell.execute_reply": "2024-03-21T12:54:13.395511Z",
          "shell.execute_reply.started": "2024-03-21T12:54:13.387874Z"
        },
        "id": "HtDL3luMm5MW",
        "trusted": true
      },
      "outputs": [],
      "source": [
        "# For length to pad till, we use the average length of all texts\n",
        "avg_length_text = int(np.mean(lengths_of_texts))\n",
        "\n",
        "X_train_pad = pad_sequences(X_train_seq, maxlen=avg_length_text, padding='post', truncating='post')\n",
        "X_test_pad = pad_sequences(X_test_seq, maxlen=avg_length_text, padding='post', truncating='post')"
      ]
    },
    {
      "cell_type": "code",
      "execution_count": null,
      "metadata": {
        "execution": {
          "iopub.execute_input": "2024-03-21T12:54:18.742775Z",
          "iopub.status.busy": "2024-03-21T12:54:18.741954Z",
          "iopub.status.idle": "2024-03-21T12:54:18.750640Z",
          "shell.execute_reply": "2024-03-21T12:54:18.749237Z",
          "shell.execute_reply.started": "2024-03-21T12:54:18.742726Z"
        },
        "id": "iw9EZTyxm5Ma",
        "outputId": "deecd9d3-3bf2-46f9-9fc6-5ff51239de68",
        "trusted": true
      },
      "outputs": [
        {
          "name": "stdout",
          "output_type": "stream",
          "text": [
            "(80, 1)\n",
            "(20, 1)\n"
          ]
        }
      ],
      "source": [
        "# Check results of padding\n",
        "print(X_train_pad.shape)\n",
        "print(X_test_pad.shape)"
      ]
    },
    {
      "cell_type": "code",
      "execution_count": null,
      "metadata": {
        "execution": {
          "iopub.execute_input": "2024-03-21T12:54:27.877232Z",
          "iopub.status.busy": "2024-03-21T12:54:27.876764Z",
          "iopub.status.idle": "2024-03-21T12:54:27.883688Z",
          "shell.execute_reply": "2024-03-21T12:54:27.882705Z",
          "shell.execute_reply.started": "2024-03-21T12:54:27.877198Z"
        },
        "id": "wHoQJ6n1m5Ma",
        "outputId": "b24f6874-f364-4ac8-c174-2d35410df504",
        "trusted": true
      },
      "outputs": [
        {
          "name": "stdout",
          "output_type": "stream",
          "text": [
            "[[ 7]\n",
            " [ 9]\n",
            " [11]\n",
            " [12]\n",
            " [13]]\n"
          ]
        }
      ],
      "source": [
        "print(X_train_pad[0:5])"
      ]
    },
    {
      "cell_type": "code",
      "execution_count": null,
      "metadata": {
        "execution": {
          "iopub.execute_input": "2024-03-21T12:54:40.457161Z",
          "iopub.status.busy": "2024-03-21T12:54:40.456684Z",
          "iopub.status.idle": "2024-03-21T12:54:40.465942Z",
          "shell.execute_reply": "2024-03-21T12:54:40.464214Z",
          "shell.execute_reply.started": "2024-03-21T12:54:40.457125Z"
        },
        "id": "DQJppHTxm5Ma",
        "outputId": "ca6036b4-e2ca-4a47-900b-131c146310d0",
        "trusted": true
      },
      "outputs": [
        {
          "data": {
            "text/plain": [
              "115"
            ]
          },
          "execution_count": 115,
          "metadata": {},
          "output_type": "execute_result"
        }
      ],
      "source": [
        "len(word_index)"
      ]
    },
    {
      "cell_type": "markdown",
      "metadata": {
        "id": "V3PAA-fbm5Ma"
      },
      "source": [
        "### Modelling the RNN Model:"
      ]
    },
    {
      "cell_type": "code",
      "execution_count": null,
      "metadata": {
        "execution": {
          "iopub.execute_input": "2024-03-21T12:56:30.993009Z",
          "iopub.status.busy": "2024-03-21T12:56:30.992587Z",
          "iopub.status.idle": "2024-03-21T12:56:30.999928Z",
          "shell.execute_reply": "2024-03-21T12:56:30.998683Z",
          "shell.execute_reply.started": "2024-03-21T12:56:30.992979Z"
        },
        "id": "fdmb4S-km5Mb",
        "outputId": "ada02d69-9fee-4cdc-fd68-8cbdf0287f86",
        "trusted": true
      },
      "outputs": [
        {
          "data": {
            "text/plain": [
              "1"
            ]
          },
          "execution_count": 119,
          "metadata": {},
          "output_type": "execute_result"
        }
      ],
      "source": [
        "avg_length_text"
      ]
    },
    {
      "cell_type": "code",
      "execution_count": null,
      "metadata": {
        "execution": {
          "iopub.execute_input": "2024-03-21T13:00:28.906475Z",
          "iopub.status.busy": "2024-03-21T13:00:28.906076Z",
          "iopub.status.idle": "2024-03-21T13:00:28.973275Z",
          "shell.execute_reply": "2024-03-21T13:00:28.971884Z",
          "shell.execute_reply.started": "2024-03-21T13:00:28.906446Z"
        },
        "id": "XVvU0TdFm5Mb",
        "trusted": true
      },
      "outputs": [],
      "source": [
        "model_rnn = Sequential([\n",
        "    Embedding(input_dim = len(word_index), output_dim = 8,\n",
        "             input_shape=(avg_length_text,)), ## recall that we set the post-padding length to be this value\n",
        "    SimpleRNN(16), ## THIS IS THE RECURRENT LAYER\n",
        "    Dropout(0.2),\n",
        "    Dense(8, activation='relu'),\n",
        "    Dropout(0.2),\n",
        "    Dense(1, activation= 'sigmoid') ## final layer for prediction, hence only one node\n",
        "])\n",
        "\n",
        "## compile -- add optim, add loss, add metrics\n",
        "model_rnn.compile(optimizer = 'adam', loss = ['binary_crossentropy'], metrics = ['accuracy'])\n",
        "\n",
        "# early_stopping = EarlyStopping(monitor='val_loss', patience=5, restore_best_weights=True)"
      ]
    },
    {
      "cell_type": "code",
      "execution_count": null,
      "metadata": {
        "execution": {
          "iopub.execute_input": "2024-03-21T13:00:30.013312Z",
          "iopub.status.busy": "2024-03-21T13:00:30.012692Z",
          "iopub.status.idle": "2024-03-21T13:00:30.044488Z",
          "shell.execute_reply": "2024-03-21T13:00:30.043132Z",
          "shell.execute_reply.started": "2024-03-21T13:00:30.013279Z"
        },
        "id": "jh9_Yt8Pm5Mb",
        "outputId": "58e99890-dbfc-4269-c748-807919a799b3",
        "trusted": true
      },
      "outputs": [
        {
          "data": {
            "text/html": [
              "<pre style=\"white-space:pre;overflow-x:auto;line-height:normal;font-family:Menlo,'DejaVu Sans Mono',consolas,'Courier New',monospace\"><span style=\"font-weight: bold\">Model: \"sequential_5\"</span>\n",
              "</pre>\n"
            ],
            "text/plain": [
              "\u001b[1mModel: \"sequential_5\"\u001b[0m\n"
            ]
          },
          "metadata": {},
          "output_type": "display_data"
        },
        {
          "data": {
            "text/html": [
              "<pre style=\"white-space:pre;overflow-x:auto;line-height:normal;font-family:Menlo,'DejaVu Sans Mono',consolas,'Courier New',monospace\">┏━━━━━━━━━━━━━━━━━━━━━━━━━━━━━━━━━┳━━━━━━━━━━━━━━━━━━━━━━━━┳━━━━━━━━━━━━━━━┓\n",
              "┃<span style=\"font-weight: bold\"> Layer (type)                    </span>┃<span style=\"font-weight: bold\"> Output Shape           </span>┃<span style=\"font-weight: bold\">       Param # </span>┃\n",
              "┡━━━━━━━━━━━━━━━━━━━━━━━━━━━━━━━━━╇━━━━━━━━━━━━━━━━━━━━━━━━╇━━━━━━━━━━━━━━━┩\n",
              "│ embedding_8 (<span style=\"color: #0087ff; text-decoration-color: #0087ff\">Embedding</span>)         │ (<span style=\"color: #00d7ff; text-decoration-color: #00d7ff\">None</span>, <span style=\"color: #00af00; text-decoration-color: #00af00\">1</span>, <span style=\"color: #00af00; text-decoration-color: #00af00\">8</span>)           │           <span style=\"color: #00af00; text-decoration-color: #00af00\">920</span> │\n",
              "├─────────────────────────────────┼────────────────────────┼───────────────┤\n",
              "│ simple_rnn_3 (<span style=\"color: #0087ff; text-decoration-color: #0087ff\">SimpleRNN</span>)        │ (<span style=\"color: #00d7ff; text-decoration-color: #00d7ff\">None</span>, <span style=\"color: #00af00; text-decoration-color: #00af00\">16</span>)             │           <span style=\"color: #00af00; text-decoration-color: #00af00\">400</span> │\n",
              "├─────────────────────────────────┼────────────────────────┼───────────────┤\n",
              "│ dropout_8 (<span style=\"color: #0087ff; text-decoration-color: #0087ff\">Dropout</span>)             │ (<span style=\"color: #00d7ff; text-decoration-color: #00d7ff\">None</span>, <span style=\"color: #00af00; text-decoration-color: #00af00\">16</span>)             │             <span style=\"color: #00af00; text-decoration-color: #00af00\">0</span> │\n",
              "├─────────────────────────────────┼────────────────────────┼───────────────┤\n",
              "│ dense_8 (<span style=\"color: #0087ff; text-decoration-color: #0087ff\">Dense</span>)                 │ (<span style=\"color: #00d7ff; text-decoration-color: #00d7ff\">None</span>, <span style=\"color: #00af00; text-decoration-color: #00af00\">8</span>)              │           <span style=\"color: #00af00; text-decoration-color: #00af00\">136</span> │\n",
              "├─────────────────────────────────┼────────────────────────┼───────────────┤\n",
              "│ dropout_9 (<span style=\"color: #0087ff; text-decoration-color: #0087ff\">Dropout</span>)             │ (<span style=\"color: #00d7ff; text-decoration-color: #00d7ff\">None</span>, <span style=\"color: #00af00; text-decoration-color: #00af00\">8</span>)              │             <span style=\"color: #00af00; text-decoration-color: #00af00\">0</span> │\n",
              "├─────────────────────────────────┼────────────────────────┼───────────────┤\n",
              "│ dense_9 (<span style=\"color: #0087ff; text-decoration-color: #0087ff\">Dense</span>)                 │ (<span style=\"color: #00d7ff; text-decoration-color: #00d7ff\">None</span>, <span style=\"color: #00af00; text-decoration-color: #00af00\">1</span>)              │             <span style=\"color: #00af00; text-decoration-color: #00af00\">9</span> │\n",
              "└─────────────────────────────────┴────────────────────────┴───────────────┘\n",
              "</pre>\n"
            ],
            "text/plain": [
              "┏━━━━━━━━━━━━━━━━━━━━━━━━━━━━━━━━━┳━━━━━━━━━━━━━━━━━━━━━━━━┳━━━━━━━━━━━━━━━┓\n",
              "┃\u001b[1m \u001b[0m\u001b[1mLayer (type)                   \u001b[0m\u001b[1m \u001b[0m┃\u001b[1m \u001b[0m\u001b[1mOutput Shape          \u001b[0m\u001b[1m \u001b[0m┃\u001b[1m \u001b[0m\u001b[1m      Param #\u001b[0m\u001b[1m \u001b[0m┃\n",
              "┡━━━━━━━━━━━━━━━━━━━━━━━━━━━━━━━━━╇━━━━━━━━━━━━━━━━━━━━━━━━╇━━━━━━━━━━━━━━━┩\n",
              "│ embedding_8 (\u001b[38;5;33mEmbedding\u001b[0m)         │ (\u001b[38;5;45mNone\u001b[0m, \u001b[38;5;34m1\u001b[0m, \u001b[38;5;34m8\u001b[0m)           │           \u001b[38;5;34m920\u001b[0m │\n",
              "├─────────────────────────────────┼────────────────────────┼───────────────┤\n",
              "│ simple_rnn_3 (\u001b[38;5;33mSimpleRNN\u001b[0m)        │ (\u001b[38;5;45mNone\u001b[0m, \u001b[38;5;34m16\u001b[0m)             │           \u001b[38;5;34m400\u001b[0m │\n",
              "├─────────────────────────────────┼────────────────────────┼───────────────┤\n",
              "│ dropout_8 (\u001b[38;5;33mDropout\u001b[0m)             │ (\u001b[38;5;45mNone\u001b[0m, \u001b[38;5;34m16\u001b[0m)             │             \u001b[38;5;34m0\u001b[0m │\n",
              "├─────────────────────────────────┼────────────────────────┼───────────────┤\n",
              "│ dense_8 (\u001b[38;5;33mDense\u001b[0m)                 │ (\u001b[38;5;45mNone\u001b[0m, \u001b[38;5;34m8\u001b[0m)              │           \u001b[38;5;34m136\u001b[0m │\n",
              "├─────────────────────────────────┼────────────────────────┼───────────────┤\n",
              "│ dropout_9 (\u001b[38;5;33mDropout\u001b[0m)             │ (\u001b[38;5;45mNone\u001b[0m, \u001b[38;5;34m8\u001b[0m)              │             \u001b[38;5;34m0\u001b[0m │\n",
              "├─────────────────────────────────┼────────────────────────┼───────────────┤\n",
              "│ dense_9 (\u001b[38;5;33mDense\u001b[0m)                 │ (\u001b[38;5;45mNone\u001b[0m, \u001b[38;5;34m1\u001b[0m)              │             \u001b[38;5;34m9\u001b[0m │\n",
              "└─────────────────────────────────┴────────────────────────┴───────────────┘\n"
            ]
          },
          "metadata": {},
          "output_type": "display_data"
        },
        {
          "data": {
            "text/html": [
              "<pre style=\"white-space:pre;overflow-x:auto;line-height:normal;font-family:Menlo,'DejaVu Sans Mono',consolas,'Courier New',monospace\"><span style=\"font-weight: bold\"> Total params: </span><span style=\"color: #00af00; text-decoration-color: #00af00\">1,465</span> (5.72 KB)\n",
              "</pre>\n"
            ],
            "text/plain": [
              "\u001b[1m Total params: \u001b[0m\u001b[38;5;34m1,465\u001b[0m (5.72 KB)\n"
            ]
          },
          "metadata": {},
          "output_type": "display_data"
        },
        {
          "data": {
            "text/html": [
              "<pre style=\"white-space:pre;overflow-x:auto;line-height:normal;font-family:Menlo,'DejaVu Sans Mono',consolas,'Courier New',monospace\"><span style=\"font-weight: bold\"> Trainable params: </span><span style=\"color: #00af00; text-decoration-color: #00af00\">1,465</span> (5.72 KB)\n",
              "</pre>\n"
            ],
            "text/plain": [
              "\u001b[1m Trainable params: \u001b[0m\u001b[38;5;34m1,465\u001b[0m (5.72 KB)\n"
            ]
          },
          "metadata": {},
          "output_type": "display_data"
        },
        {
          "data": {
            "text/html": [
              "<pre style=\"white-space:pre;overflow-x:auto;line-height:normal;font-family:Menlo,'DejaVu Sans Mono',consolas,'Courier New',monospace\"><span style=\"font-weight: bold\"> Non-trainable params: </span><span style=\"color: #00af00; text-decoration-color: #00af00\">0</span> (0.00 B)\n",
              "</pre>\n"
            ],
            "text/plain": [
              "\u001b[1m Non-trainable params: \u001b[0m\u001b[38;5;34m0\u001b[0m (0.00 B)\n"
            ]
          },
          "metadata": {},
          "output_type": "display_data"
        }
      ],
      "source": [
        "model_rnn.summary()"
      ]
    },
    {
      "cell_type": "code",
      "execution_count": null,
      "metadata": {
        "execution": {
          "iopub.execute_input": "2024-03-21T13:00:43.069151Z",
          "iopub.status.busy": "2024-03-21T13:00:43.068355Z",
          "iopub.status.idle": "2024-03-21T13:00:44.735582Z",
          "shell.execute_reply": "2024-03-21T13:00:44.734084Z",
          "shell.execute_reply.started": "2024-03-21T13:00:43.069115Z"
        },
        "id": "_KiA63Zom5Mc",
        "outputId": "eb21dbb4-8f22-4b57-d90a-448d56c6b944",
        "trusted": true
      },
      "outputs": [
        {
          "name": "stdout",
          "output_type": "stream",
          "text": [
            "Epoch 1/20\n",
            "\u001b[1m1/1\u001b[0m \u001b[32m━━━━━━━━━━━━━━━━━━━━\u001b[0m\u001b[37m\u001b[0m \u001b[1m0s\u001b[0m 146ms/step - accuracy: 0.6000 - loss: 0.6841 - val_accuracy: 0.4000 - val_loss: 0.6972\n",
            "Epoch 2/20\n",
            "\u001b[1m1/1\u001b[0m \u001b[32m━━━━━━━━━━━━━━━━━━━━\u001b[0m\u001b[37m\u001b[0m \u001b[1m0s\u001b[0m 72ms/step - accuracy: 0.6000 - loss: 0.6839 - val_accuracy: 0.4000 - val_loss: 0.6976\n",
            "Epoch 3/20\n",
            "\u001b[1m1/1\u001b[0m \u001b[32m━━━━━━━━━━━━━━━━━━━━\u001b[0m\u001b[37m\u001b[0m \u001b[1m0s\u001b[0m 75ms/step - accuracy: 0.6000 - loss: 0.6856 - val_accuracy: 0.4000 - val_loss: 0.6980\n",
            "Epoch 4/20\n",
            "\u001b[1m1/1\u001b[0m \u001b[32m━━━━━━━━━━━━━━━━━━━━\u001b[0m\u001b[37m\u001b[0m \u001b[1m0s\u001b[0m 66ms/step - accuracy: 0.6375 - loss: 0.6809 - val_accuracy: 0.4000 - val_loss: 0.6985\n",
            "Epoch 5/20\n",
            "\u001b[1m1/1\u001b[0m \u001b[32m━━━━━━━━━━━━━━━━━━━━\u001b[0m\u001b[37m\u001b[0m \u001b[1m0s\u001b[0m 65ms/step - accuracy: 0.6375 - loss: 0.6801 - val_accuracy: 0.4000 - val_loss: 0.6989\n",
            "Epoch 6/20\n",
            "\u001b[1m1/1\u001b[0m \u001b[32m━━━━━━━━━━━━━━━━━━━━\u001b[0m\u001b[37m\u001b[0m \u001b[1m0s\u001b[0m 66ms/step - accuracy: 0.5750 - loss: 0.6811 - val_accuracy: 0.4000 - val_loss: 0.6994\n",
            "Epoch 7/20\n",
            "\u001b[1m1/1\u001b[0m \u001b[32m━━━━━━━━━━━━━━━━━━━━\u001b[0m\u001b[37m\u001b[0m \u001b[1m0s\u001b[0m 65ms/step - accuracy: 0.6125 - loss: 0.6789 - val_accuracy: 0.4000 - val_loss: 0.6998\n",
            "Epoch 8/20\n",
            "\u001b[1m1/1\u001b[0m \u001b[32m━━━━━━━━━━━━━━━━━━━━\u001b[0m\u001b[37m\u001b[0m \u001b[1m0s\u001b[0m 58ms/step - accuracy: 0.6375 - loss: 0.6776 - val_accuracy: 0.4000 - val_loss: 0.7003\n",
            "Epoch 9/20\n",
            "\u001b[1m1/1\u001b[0m \u001b[32m━━━━━━━━━━━━━━━━━━━━\u001b[0m\u001b[37m\u001b[0m \u001b[1m0s\u001b[0m 56ms/step - accuracy: 0.5875 - loss: 0.6777 - val_accuracy: 0.4000 - val_loss: 0.7007\n",
            "Epoch 10/20\n",
            "\u001b[1m1/1\u001b[0m \u001b[32m━━━━━━━━━━━━━━━━━━━━\u001b[0m\u001b[37m\u001b[0m \u001b[1m0s\u001b[0m 59ms/step - accuracy: 0.5875 - loss: 0.6730 - val_accuracy: 0.4000 - val_loss: 0.7011\n",
            "Epoch 11/20\n",
            "\u001b[1m1/1\u001b[0m \u001b[32m━━━━━━━━━━━━━━━━━━━━\u001b[0m\u001b[37m\u001b[0m \u001b[1m0s\u001b[0m 64ms/step - accuracy: 0.6000 - loss: 0.6720 - val_accuracy: 0.4000 - val_loss: 0.7015\n",
            "Epoch 12/20\n",
            "\u001b[1m1/1\u001b[0m \u001b[32m━━━━━━━━━━━━━━━━━━━━\u001b[0m\u001b[37m\u001b[0m \u001b[1m0s\u001b[0m 77ms/step - accuracy: 0.6250 - loss: 0.6734 - val_accuracy: 0.4000 - val_loss: 0.7020\n",
            "Epoch 13/20\n",
            "\u001b[1m1/1\u001b[0m \u001b[32m━━━━━━━━━━━━━━━━━━━━\u001b[0m\u001b[37m\u001b[0m \u001b[1m0s\u001b[0m 60ms/step - accuracy: 0.6375 - loss: 0.6691 - val_accuracy: 0.4000 - val_loss: 0.7024\n",
            "Epoch 14/20\n",
            "\u001b[1m1/1\u001b[0m \u001b[32m━━━━━━━━━━━━━━━━━━━━\u001b[0m\u001b[37m\u001b[0m \u001b[1m0s\u001b[0m 85ms/step - accuracy: 0.6250 - loss: 0.6698 - val_accuracy: 0.4000 - val_loss: 0.7028\n",
            "Epoch 15/20\n",
            "\u001b[1m1/1\u001b[0m \u001b[32m━━━━━━━━━━━━━━━━━━━━\u001b[0m\u001b[37m\u001b[0m \u001b[1m0s\u001b[0m 65ms/step - accuracy: 0.6125 - loss: 0.6673 - val_accuracy: 0.4000 - val_loss: 0.7032\n",
            "Epoch 16/20\n",
            "\u001b[1m1/1\u001b[0m \u001b[32m━━━━━━━━━━━━━━━━━━━━\u001b[0m\u001b[37m\u001b[0m \u001b[1m0s\u001b[0m 67ms/step - accuracy: 0.5625 - loss: 0.6698 - val_accuracy: 0.4000 - val_loss: 0.7036\n",
            "Epoch 17/20\n",
            "\u001b[1m1/1\u001b[0m \u001b[32m━━━━━━━━━━━━━━━━━━━━\u001b[0m\u001b[37m\u001b[0m \u001b[1m0s\u001b[0m 134ms/step - accuracy: 0.6250 - loss: 0.6612 - val_accuracy: 0.4000 - val_loss: 0.7040\n",
            "Epoch 18/20\n",
            "\u001b[1m1/1\u001b[0m \u001b[32m━━━━━━━━━━━━━━━━━━━━\u001b[0m\u001b[37m\u001b[0m \u001b[1m0s\u001b[0m 58ms/step - accuracy: 0.6750 - loss: 0.6621 - val_accuracy: 0.4000 - val_loss: 0.7044\n",
            "Epoch 19/20\n",
            "\u001b[1m1/1\u001b[0m \u001b[32m━━━━━━━━━━━━━━━━━━━━\u001b[0m\u001b[37m\u001b[0m \u001b[1m0s\u001b[0m 72ms/step - accuracy: 0.6375 - loss: 0.6643 - val_accuracy: 0.4000 - val_loss: 0.7048\n",
            "Epoch 20/20\n",
            "\u001b[1m1/1\u001b[0m \u001b[32m━━━━━━━━━━━━━━━━━━━━\u001b[0m\u001b[37m\u001b[0m \u001b[1m0s\u001b[0m 63ms/step - accuracy: 0.6500 - loss: 0.6604 - val_accuracy: 0.4000 - val_loss: 0.7052\n"
          ]
        }
      ],
      "source": [
        "history_rnn = model_rnn.fit(X_train_pad, y_train, epochs=20, batch_size=200, validation_data=(X_test_pad, y_test))"
      ]
    },
    {
      "cell_type": "code",
      "execution_count": null,
      "metadata": {
        "execution": {
          "iopub.execute_input": "2024-03-21T13:00:52.965986Z",
          "iopub.status.busy": "2024-03-21T13:00:52.963386Z",
          "iopub.status.idle": "2024-03-21T13:00:52.974781Z",
          "shell.execute_reply": "2024-03-21T13:00:52.973118Z",
          "shell.execute_reply.started": "2024-03-21T13:00:52.965936Z"
        },
        "id": "BpmZ-UNGm5Mc",
        "outputId": "8854cbb1-1743-40a6-8cb2-3cb7e160b5aa",
        "trusted": true
      },
      "outputs": [
        {
          "name": "stdout",
          "output_type": "stream",
          "text": [
            "Final Training Loss: 0.6603553891181946\n",
            "Final Training Accuracy: 0.6499999761581421\n",
            "Final Validation Loss: 0.7052045464515686\n",
            "Final Validation Accuracy: 0.4000000059604645\n"
          ]
        }
      ],
      "source": [
        "final_train_loss_4 = history_rnn.history['loss'][-1]\n",
        "final_train_accuracy_4 = history_rnn.history['accuracy'][-1]\n",
        "\n",
        "final_val_loss_4 = history_rnn.history['val_loss'][-1]\n",
        "final_val_accuracy_4 = history_rnn.history['val_accuracy'][-1]\n",
        "\n",
        "print(\"Final Training Loss:\", final_train_loss_4)\n",
        "print(\"Final Training Accuracy:\", final_train_accuracy_4)\n",
        "print(\"Final Validation Loss:\", final_val_loss_4)\n",
        "print(\"Final Validation Accuracy:\", final_val_accuracy_4)"
      ]
    },
    {
      "cell_type": "code",
      "execution_count": null,
      "metadata": {
        "execution": {
          "iopub.execute_input": "2024-03-21T13:01:12.270828Z",
          "iopub.status.busy": "2024-03-21T13:01:12.270367Z",
          "iopub.status.idle": "2024-03-21T13:01:12.826149Z",
          "shell.execute_reply": "2024-03-21T13:01:12.824847Z",
          "shell.execute_reply.started": "2024-03-21T13:01:12.270795Z"
        },
        "id": "LC_GOdY4m5Mc",
        "outputId": "a7edd03f-e0eb-4b46-fefd-5318bbda0e85",
        "trusted": true
      },
      "outputs": [
        {
          "data": {
            "image/png": "[encoded data removed]",
            "text/plain": [
              "<Figure size 640x480 with 2 Axes>"
            ]
          },
          "metadata": {},
          "output_type": "display_data"
        }
      ],
      "source": [
        "pyplot.subplot(1,2,1)\n",
        "pyplot.plot(history_rnn.history['val_loss']) ## validation loss\n",
        "pyplot.plot(history_rnn.history['loss']) ## training loss (should be decreasing)\n",
        "pyplot.title(\"Fitting history: LOSS\")\n",
        "pyplot.ylabel('Loss')\n",
        "pyplot.xlabel('Epoch')\n",
        "pyplot.legend(['Validation', 'Train'], loc = 'upper right')\n",
        "\n",
        "pyplot.subplot(1,2,2)\n",
        "pyplot.plot(history_rnn.history['val_accuracy']) ## validation loss\n",
        "pyplot.plot(history_rnn.history['accuracy']) ## training loss (should be decreasing)\n",
        "pyplot.title(\"Fitting history: ACCURACY\")\n",
        "pyplot.ylabel('Accuracy')\n",
        "pyplot.xlabel('Epoch')\n",
        "pyplot.legend(['Validation', 'Train'], loc = 'upper right')\n",
        "\n",
        "\n",
        "pyplot.show()"
      ]
    },
    {
      "cell_type": "markdown",
      "metadata": {
        "id": "o9aU_Ttvm5Md"
      },
      "source": [
        "<h1 align=\"center\">Bi-RNN</h1>"
      ]
    },
    {
      "cell_type": "code",
      "execution_count": null,
      "metadata": {
        "execution": {
          "iopub.execute_input": "2024-03-21T13:04:28.175573Z",
          "iopub.status.busy": "2024-03-21T13:04:28.175025Z",
          "iopub.status.idle": "2024-03-21T13:04:28.286340Z",
          "shell.execute_reply": "2024-03-21T13:04:28.284364Z",
          "shell.execute_reply.started": "2024-03-21T13:04:28.175533Z"
        },
        "id": "2htlErG3m5Md",
        "trusted": true
      },
      "outputs": [],
      "source": [
        "model_birnn = Sequential([\n",
        "    Embedding(input_dim = len(word_index), output_dim = 8,\n",
        "             input_shape=(avg_length_text,)), ## recall that we set the post-padding length to be this value\n",
        "    Bidirectional(SimpleRNN(16)), ## THIS IS THE RECURRENT LAYER\n",
        "    Dropout(0.2),\n",
        "    Dense(8, activation='relu'),\n",
        "    Dropout(0.2),\n",
        "    Dense(1, activation= 'sigmoid') ## final layer for prediction, hence only one node\n",
        "])\n",
        "\n",
        "## compile -- add optim, add loss, add metrics\n",
        "model_birnn.compile(optimizer = 'adam', loss = ['binary_crossentropy'], metrics = ['accuracy'])\n",
        "\n",
        "# early_stopping = EarlyStopping(monitor='val_loss', patience=5, restore_best_weights=True)"
      ]
    },
    {
      "cell_type": "code",
      "execution_count": null,
      "metadata": {
        "execution": {
          "iopub.execute_input": "2024-03-21T13:04:34.526468Z",
          "iopub.status.busy": "2024-03-21T13:04:34.526054Z",
          "iopub.status.idle": "2024-03-21T13:04:34.555584Z",
          "shell.execute_reply": "2024-03-21T13:04:34.554298Z",
          "shell.execute_reply.started": "2024-03-21T13:04:34.526437Z"
        },
        "id": "rJJWtUt1m5Md",
        "outputId": "f86071e5-0136-48a5-8f58-c7be6d000740",
        "trusted": true
      },
      "outputs": [
        {
          "data": {
            "text/html": [
              "<pre style=\"white-space:pre;overflow-x:auto;line-height:normal;font-family:Menlo,'DejaVu Sans Mono',consolas,'Courier New',monospace\"><span style=\"font-weight: bold\">Model: \"sequential_6\"</span>\n",
              "</pre>\n"
            ],
            "text/plain": [
              "\u001b[1mModel: \"sequential_6\"\u001b[0m\n"
            ]
          },
          "metadata": {},
          "output_type": "display_data"
        },
        {
          "data": {
            "text/html": [
              "<pre style=\"white-space:pre;overflow-x:auto;line-height:normal;font-family:Menlo,'DejaVu Sans Mono',consolas,'Courier New',monospace\">┏━━━━━━━━━━━━━━━━━━━━━━━━━━━━━━━━━┳━━━━━━━━━━━━━━━━━━━━━━━━┳━━━━━━━━━━━━━━━┓\n",
              "┃<span style=\"font-weight: bold\"> Layer (type)                    </span>┃<span style=\"font-weight: bold\"> Output Shape           </span>┃<span style=\"font-weight: bold\">       Param # </span>┃\n",
              "┡━━━━━━━━━━━━━━━━━━━━━━━━━━━━━━━━━╇━━━━━━━━━━━━━━━━━━━━━━━━╇━━━━━━━━━━━━━━━┩\n",
              "│ embedding_9 (<span style=\"color: #0087ff; text-decoration-color: #0087ff\">Embedding</span>)         │ (<span style=\"color: #00d7ff; text-decoration-color: #00d7ff\">None</span>, <span style=\"color: #00af00; text-decoration-color: #00af00\">1</span>, <span style=\"color: #00af00; text-decoration-color: #00af00\">8</span>)           │           <span style=\"color: #00af00; text-decoration-color: #00af00\">920</span> │\n",
              "├─────────────────────────────────┼────────────────────────┼───────────────┤\n",
              "│ bidirectional_1 (<span style=\"color: #0087ff; text-decoration-color: #0087ff\">Bidirectional</span>) │ (<span style=\"color: #00d7ff; text-decoration-color: #00d7ff\">None</span>, <span style=\"color: #00af00; text-decoration-color: #00af00\">32</span>)             │           <span style=\"color: #00af00; text-decoration-color: #00af00\">800</span> │\n",
              "├─────────────────────────────────┼────────────────────────┼───────────────┤\n",
              "│ dropout_10 (<span style=\"color: #0087ff; text-decoration-color: #0087ff\">Dropout</span>)            │ (<span style=\"color: #00d7ff; text-decoration-color: #00d7ff\">None</span>, <span style=\"color: #00af00; text-decoration-color: #00af00\">32</span>)             │             <span style=\"color: #00af00; text-decoration-color: #00af00\">0</span> │\n",
              "├─────────────────────────────────┼────────────────────────┼───────────────┤\n",
              "│ dense_10 (<span style=\"color: #0087ff; text-decoration-color: #0087ff\">Dense</span>)                │ (<span style=\"color: #00d7ff; text-decoration-color: #00d7ff\">None</span>, <span style=\"color: #00af00; text-decoration-color: #00af00\">8</span>)              │           <span style=\"color: #00af00; text-decoration-color: #00af00\">264</span> │\n",
              "├─────────────────────────────────┼────────────────────────┼───────────────┤\n",
              "│ dropout_11 (<span style=\"color: #0087ff; text-decoration-color: #0087ff\">Dropout</span>)            │ (<span style=\"color: #00d7ff; text-decoration-color: #00d7ff\">None</span>, <span style=\"color: #00af00; text-decoration-color: #00af00\">8</span>)              │             <span style=\"color: #00af00; text-decoration-color: #00af00\">0</span> │\n",
              "├─────────────────────────────────┼────────────────────────┼───────────────┤\n",
              "│ dense_11 (<span style=\"color: #0087ff; text-decoration-color: #0087ff\">Dense</span>)                │ (<span style=\"color: #00d7ff; text-decoration-color: #00d7ff\">None</span>, <span style=\"color: #00af00; text-decoration-color: #00af00\">1</span>)              │             <span style=\"color: #00af00; text-decoration-color: #00af00\">9</span> │\n",
              "└─────────────────────────────────┴────────────────────────┴───────────────┘\n",
              "</pre>\n"
            ],
            "text/plain": [
              "┏━━━━━━━━━━━━━━━━━━━━━━━━━━━━━━━━━┳━━━━━━━━━━━━━━━━━━━━━━━━┳━━━━━━━━━━━━━━━┓\n",
              "┃\u001b[1m \u001b[0m\u001b[1mLayer (type)                   \u001b[0m\u001b[1m \u001b[0m┃\u001b[1m \u001b[0m\u001b[1mOutput Shape          \u001b[0m\u001b[1m \u001b[0m┃\u001b[1m \u001b[0m\u001b[1m      Param #\u001b[0m\u001b[1m \u001b[0m┃\n",
              "┡━━━━━━━━━━━━━━━━━━━━━━━━━━━━━━━━━╇━━━━━━━━━━━━━━━━━━━━━━━━╇━━━━━━━━━━━━━━━┩\n",
              "│ embedding_9 (\u001b[38;5;33mEmbedding\u001b[0m)         │ (\u001b[38;5;45mNone\u001b[0m, \u001b[38;5;34m1\u001b[0m, \u001b[38;5;34m8\u001b[0m)           │           \u001b[38;5;34m920\u001b[0m │\n",
              "├─────────────────────────────────┼────────────────────────┼───────────────┤\n",
              "│ bidirectional_1 (\u001b[38;5;33mBidirectional\u001b[0m) │ (\u001b[38;5;45mNone\u001b[0m, \u001b[38;5;34m32\u001b[0m)             │           \u001b[38;5;34m800\u001b[0m │\n",
              "├─────────────────────────────────┼────────────────────────┼───────────────┤\n",
              "│ dropout_10 (\u001b[38;5;33mDropout\u001b[0m)            │ (\u001b[38;5;45mNone\u001b[0m, \u001b[38;5;34m32\u001b[0m)             │             \u001b[38;5;34m0\u001b[0m │\n",
              "├─────────────────────────────────┼────────────────────────┼───────────────┤\n",
              "│ dense_10 (\u001b[38;5;33mDense\u001b[0m)                │ (\u001b[38;5;45mNone\u001b[0m, \u001b[38;5;34m8\u001b[0m)              │           \u001b[38;5;34m264\u001b[0m │\n",
              "├─────────────────────────────────┼────────────────────────┼───────────────┤\n",
              "│ dropout_11 (\u001b[38;5;33mDropout\u001b[0m)            │ (\u001b[38;5;45mNone\u001b[0m, \u001b[38;5;34m8\u001b[0m)              │             \u001b[38;5;34m0\u001b[0m │\n",
              "├─────────────────────────────────┼────────────────────────┼───────────────┤\n",
              "│ dense_11 (\u001b[38;5;33mDense\u001b[0m)                │ (\u001b[38;5;45mNone\u001b[0m, \u001b[38;5;34m1\u001b[0m)              │             \u001b[38;5;34m9\u001b[0m │\n",
              "└─────────────────────────────────┴────────────────────────┴───────────────┘\n"
            ]
          },
          "metadata": {},
          "output_type": "display_data"
        },
        {
          "data": {
            "text/html": [
              "<pre style=\"white-space:pre;overflow-x:auto;line-height:normal;font-family:Menlo,'DejaVu Sans Mono',consolas,'Courier New',monospace\"><span style=\"font-weight: bold\"> Total params: </span><span style=\"color: #00af00; text-decoration-color: #00af00\">1,993</span> (7.79 KB)\n",
              "</pre>\n"
            ],
            "text/plain": [
              "\u001b[1m Total params: \u001b[0m\u001b[38;5;34m1,993\u001b[0m (7.79 KB)\n"
            ]
          },
          "metadata": {},
          "output_type": "display_data"
        },
        {
          "data": {
            "text/html": [
              "<pre style=\"white-space:pre;overflow-x:auto;line-height:normal;font-family:Menlo,'DejaVu Sans Mono',consolas,'Courier New',monospace\"><span style=\"font-weight: bold\"> Trainable params: </span><span style=\"color: #00af00; text-decoration-color: #00af00\">1,993</span> (7.79 KB)\n",
              "</pre>\n"
            ],
            "text/plain": [
              "\u001b[1m Trainable params: \u001b[0m\u001b[38;5;34m1,993\u001b[0m (7.79 KB)\n"
            ]
          },
          "metadata": {},
          "output_type": "display_data"
        },
        {
          "data": {
            "text/html": [
              "<pre style=\"white-space:pre;overflow-x:auto;line-height:normal;font-family:Menlo,'DejaVu Sans Mono',consolas,'Courier New',monospace\"><span style=\"font-weight: bold\"> Non-trainable params: </span><span style=\"color: #00af00; text-decoration-color: #00af00\">0</span> (0.00 B)\n",
              "</pre>\n"
            ],
            "text/plain": [
              "\u001b[1m Non-trainable params: \u001b[0m\u001b[38;5;34m0\u001b[0m (0.00 B)\n"
            ]
          },
          "metadata": {},
          "output_type": "display_data"
        }
      ],
      "source": [
        "model_birnn.summary()"
      ]
    },
    {
      "cell_type": "code",
      "execution_count": null,
      "metadata": {
        "execution": {
          "iopub.execute_input": "2024-03-21T13:04:52.583371Z",
          "iopub.status.busy": "2024-03-21T13:04:52.582958Z",
          "iopub.status.idle": "2024-03-21T13:04:58.626327Z",
          "shell.execute_reply": "2024-03-21T13:04:58.624673Z",
          "shell.execute_reply.started": "2024-03-21T13:04:52.583343Z"
        },
        "id": "dsK2wRWLm5Me",
        "outputId": "1e8a7fe5-9275-4721-ec84-5ab81dc262c4",
        "trusted": true
      },
      "outputs": [
        {
          "name": "stdout",
          "output_type": "stream",
          "text": [
            "Epoch 1/20\n",
            "\u001b[1m1/1\u001b[0m \u001b[32m━━━━━━━━━━━━━━━━━━━━\u001b[0m\u001b[37m\u001b[0m \u001b[1m4s\u001b[0m 4s/step - accuracy: 0.4375 - loss: 0.6944 - val_accuracy: 0.5000 - val_loss: 0.6933\n",
            "Epoch 2/20\n",
            "\u001b[1m1/1\u001b[0m \u001b[32m━━━━━━━━━━━━━━━━━━━━\u001b[0m\u001b[37m\u001b[0m \u001b[1m0s\u001b[0m 68ms/step - accuracy: 0.4125 - loss: 0.6938 - val_accuracy: 0.5000 - val_loss: 0.6934\n",
            "Epoch 3/20\n",
            "\u001b[1m1/1\u001b[0m \u001b[32m━━━━━━━━━━━━━━━━━━━━\u001b[0m\u001b[37m\u001b[0m \u001b[1m0s\u001b[0m 64ms/step - accuracy: 0.5375 - loss: 0.6925 - val_accuracy: 0.4500 - val_loss: 0.6936\n",
            "Epoch 4/20\n",
            "\u001b[1m1/1\u001b[0m \u001b[32m━━━━━━━━━━━━━━━━━━━━\u001b[0m\u001b[37m\u001b[0m \u001b[1m0s\u001b[0m 65ms/step - accuracy: 0.5125 - loss: 0.6901 - val_accuracy: 0.4500 - val_loss: 0.6938\n",
            "Epoch 5/20\n",
            "\u001b[1m1/1\u001b[0m \u001b[32m━━━━━━━━━━━━━━━━━━━━\u001b[0m\u001b[37m\u001b[0m \u001b[1m0s\u001b[0m 55ms/step - accuracy: 0.6000 - loss: 0.6869 - val_accuracy: 0.4500 - val_loss: 0.6940\n",
            "Epoch 6/20\n",
            "\u001b[1m1/1\u001b[0m \u001b[32m━━━━━━━━━━━━━━━━━━━━\u001b[0m\u001b[37m\u001b[0m \u001b[1m0s\u001b[0m 58ms/step - accuracy: 0.6375 - loss: 0.6866 - val_accuracy: 0.4500 - val_loss: 0.6942\n",
            "Epoch 7/20\n",
            "\u001b[1m1/1\u001b[0m \u001b[32m━━━━━━━━━━━━━━━━━━━━\u001b[0m\u001b[37m\u001b[0m \u001b[1m0s\u001b[0m 61ms/step - accuracy: 0.6500 - loss: 0.6843 - val_accuracy: 0.4500 - val_loss: 0.6944\n",
            "Epoch 8/20\n",
            "\u001b[1m1/1\u001b[0m \u001b[32m━━━━━━━━━━━━━━━━━━━━\u001b[0m\u001b[37m\u001b[0m \u001b[1m0s\u001b[0m 137ms/step - accuracy: 0.6000 - loss: 0.6831 - val_accuracy: 0.4500 - val_loss: 0.6946\n",
            "Epoch 9/20\n",
            "\u001b[1m1/1\u001b[0m \u001b[32m━━━━━━━━━━━━━━━━━━━━\u001b[0m\u001b[37m\u001b[0m \u001b[1m0s\u001b[0m 56ms/step - accuracy: 0.6500 - loss: 0.6832 - val_accuracy: 0.4500 - val_loss: 0.6948\n",
            "Epoch 10/20\n",
            "\u001b[1m1/1\u001b[0m \u001b[32m━━━━━━━━━━━━━━━━━━━━\u001b[0m\u001b[37m\u001b[0m \u001b[1m0s\u001b[0m 53ms/step - accuracy: 0.7000 - loss: 0.6835 - val_accuracy: 0.4500 - val_loss: 0.6949\n",
            "Epoch 11/20\n",
            "\u001b[1m1/1\u001b[0m \u001b[32m━━━━━━━━━━━━━━━━━━━━\u001b[0m\u001b[37m\u001b[0m \u001b[1m0s\u001b[0m 54ms/step - accuracy: 0.6500 - loss: 0.6818 - val_accuracy: 0.4500 - val_loss: 0.6950\n",
            "Epoch 12/20\n",
            "\u001b[1m1/1\u001b[0m \u001b[32m━━━━━━━━━━━━━━━━━━━━\u001b[0m\u001b[37m\u001b[0m \u001b[1m0s\u001b[0m 55ms/step - accuracy: 0.7125 - loss: 0.6797 - val_accuracy: 0.4500 - val_loss: 0.6952\n",
            "Epoch 13/20\n",
            "\u001b[1m1/1\u001b[0m \u001b[32m━━━━━━━━━━━━━━━━━━━━\u001b[0m\u001b[37m\u001b[0m \u001b[1m0s\u001b[0m 138ms/step - accuracy: 0.7000 - loss: 0.6779 - val_accuracy: 0.4500 - val_loss: 0.6953\n",
            "Epoch 14/20\n",
            "\u001b[1m1/1\u001b[0m \u001b[32m━━━━━━━━━━━━━━━━━━━━\u001b[0m\u001b[37m\u001b[0m \u001b[1m0s\u001b[0m 55ms/step - accuracy: 0.7125 - loss: 0.6770 - val_accuracy: 0.4500 - val_loss: 0.6954\n",
            "Epoch 15/20\n",
            "\u001b[1m1/1\u001b[0m \u001b[32m━━━━━━━━━━━━━━━━━━━━\u001b[0m\u001b[37m\u001b[0m \u001b[1m0s\u001b[0m 58ms/step - accuracy: 0.7125 - loss: 0.6736 - val_accuracy: 0.4500 - val_loss: 0.6954\n",
            "Epoch 16/20\n",
            "\u001b[1m1/1\u001b[0m \u001b[32m━━━━━━━━━━━━━━━━━━━━\u001b[0m\u001b[37m\u001b[0m \u001b[1m0s\u001b[0m 135ms/step - accuracy: 0.6875 - loss: 0.6774 - val_accuracy: 0.4500 - val_loss: 0.6954\n",
            "Epoch 17/20\n",
            "\u001b[1m1/1\u001b[0m \u001b[32m━━━━━━━━━━━━━━━━━━━━\u001b[0m\u001b[37m\u001b[0m \u001b[1m0s\u001b[0m 85ms/step - accuracy: 0.8000 - loss: 0.6674 - val_accuracy: 0.4500 - val_loss: 0.6953\n",
            "Epoch 18/20\n",
            "\u001b[1m1/1\u001b[0m \u001b[32m━━━━━━━━━━━━━━━━━━━━\u001b[0m\u001b[37m\u001b[0m \u001b[1m0s\u001b[0m 82ms/step - accuracy: 0.6875 - loss: 0.6733 - val_accuracy: 0.5000 - val_loss: 0.6953\n",
            "Epoch 19/20\n",
            "\u001b[1m1/1\u001b[0m \u001b[32m━━━━━━━━━━━━━━━━━━━━\u001b[0m\u001b[37m\u001b[0m \u001b[1m0s\u001b[0m 62ms/step - accuracy: 0.7125 - loss: 0.6704 - val_accuracy: 0.5000 - val_loss: 0.6952\n",
            "Epoch 20/20\n",
            "\u001b[1m1/1\u001b[0m \u001b[32m━━━━━━━━━━━━━━━━━━━━\u001b[0m\u001b[37m\u001b[0m \u001b[1m0s\u001b[0m 145ms/step - accuracy: 0.7750 - loss: 0.6626 - val_accuracy: 0.5000 - val_loss: 0.6949\n"
          ]
        }
      ],
      "source": [
        "history_birnn = model_birnn.fit(X_train_pad, y_train, epochs=20, batch_size=200, validation_data=(X_test_pad, y_test))"
      ]
    },
    {
      "cell_type": "code",
      "execution_count": null,
      "metadata": {
        "execution": {
          "iopub.execute_input": "2024-03-21T13:05:28.547439Z",
          "iopub.status.busy": "2024-03-21T13:05:28.546950Z",
          "iopub.status.idle": "2024-03-21T13:05:28.556588Z",
          "shell.execute_reply": "2024-03-21T13:05:28.555325Z",
          "shell.execute_reply.started": "2024-03-21T13:05:28.547403Z"
        },
        "id": "w9d0Ip-Bm5Me",
        "outputId": "c3b8e0dd-6a04-43d1-99a2-3732bce0e21b",
        "trusted": true
      },
      "outputs": [
        {
          "name": "stdout",
          "output_type": "stream",
          "text": [
            "Final Training Loss: 0.6626495122909546\n",
            "Final Training Accuracy: 0.7749999761581421\n",
            "Final Validation Loss: 0.6949087977409363\n",
            "Final Validation Accuracy: 0.5\n"
          ]
        }
      ],
      "source": [
        "final_train_loss_4 = history_birnn.history['loss'][-1]\n",
        "final_train_accuracy_4 = history_birnn.history['accuracy'][-1]\n",
        "\n",
        "final_val_loss_4 = history_birnn.history['val_loss'][-1]\n",
        "final_val_accuracy_4 = history_birnn.history['val_accuracy'][-1]\n",
        "\n",
        "print(\"Final Training Loss:\", final_train_loss_4)\n",
        "print(\"Final Training Accuracy:\", final_train_accuracy_4)\n",
        "print(\"Final Validation Loss:\", final_val_loss_4)\n",
        "print(\"Final Validation Accuracy:\", final_val_accuracy_4)"
      ]
    },
    {
      "cell_type": "code",
      "execution_count": null,
      "metadata": {
        "execution": {
          "iopub.execute_input": "2024-03-21T13:05:47.825528Z",
          "iopub.status.busy": "2024-03-21T13:05:47.825084Z",
          "iopub.status.idle": "2024-03-21T13:05:48.394439Z",
          "shell.execute_reply": "2024-03-21T13:05:48.391978Z",
          "shell.execute_reply.started": "2024-03-21T13:05:47.825496Z"
        },
        "id": "F93n8wN8m5Me",
        "outputId": "8ddc4e69-5810-4ba2-a91a-deabf81f9cc0",
        "trusted": true
      },
      "outputs": [
        {
          "data": {
            "image/png": "[encoded data removed]",
            "text/plain": [
              "<Figure size 640x480 with 2 Axes>"
            ]
          },
          "metadata": {},
          "output_type": "display_data"
        }
      ],
      "source": [
        "pyplot.subplot(1,2,1)\n",
        "pyplot.plot(history_birnn.history['val_loss']) ## validation loss\n",
        "pyplot.plot(history_birnn.history['loss']) ## training loss (should be decreasing)\n",
        "pyplot.title(\"Fitting history: LOSS\")\n",
        "pyplot.ylabel('Loss')\n",
        "pyplot.xlabel('Epoch')\n",
        "pyplot.legend(['Validation', 'Train'], loc = 'upper right')\n",
        "\n",
        "pyplot.subplot(1,2,2)\n",
        "pyplot.plot(history_birnn.history['val_accuracy']) ## validation loss\n",
        "pyplot.plot(history_birnn.history['accuracy']) ## training loss (should be decreasing)\n",
        "pyplot.title(\"Fitting history: ACCURACY\")\n",
        "pyplot.ylabel('Accuracy')\n",
        "pyplot.xlabel('Epoch')\n",
        "pyplot.legend(['Validation', 'Train'], loc = 'upper right')\n",
        "\n",
        "\n",
        "pyplot.show()"
      ]
    },
    {
      "cell_type": "markdown",
      "metadata": {
        "id": "XFlzG0P0nPtV"
      },
      "source": [
        "# **Recursive NN**"
      ]
    },
    {
      "cell_type": "code",
      "execution_count": null,
      "metadata": {
        "id": "rgjCw69WnW3_"
      },
      "outputs": [],
      "source": [
        "import torch\n",
        "import torch.nn as nn\n",
        "from torch.autograd import Variable\n",
        "import torch.optim as optim\n",
        "import torch.nn.functional as F\n",
        "import random\n",
        "import numpy as np\n",
        "from collections import OrderedDict\n",
        "import os"
      ]
    },
    {
      "cell_type": "code",
      "execution_count": null,
      "metadata": {
        "id": "h0cvXUirplfd"
      },
      "outputs": [],
      "source": [
        "\n",
        "\n",
        "\n",
        "flatten = lambda l: [item for sublist in l for item in sublist]\n",
        "device = torch.device(\"cuda\" if torch.cuda.is_available() else \"cpu\")\n",
        "\n",
        "HIDDEN_SIZE = 50 #30\n",
        "ROOT_ONLY = False\n",
        "BATCH_SIZE = 80\n",
        "EPOCH = 5\n",
        "LR = 0.001\n",
        "print(device)"
      ]
    },
    {
      "cell_type": "code",
      "execution_count": null,
      "metadata": {
        "id": "0B9zbZyMpnhE"
      },
      "outputs": [],
      "source": [
        "\n",
        "def getBatch(batch_size, train_data):\n",
        "    random.shuffle(train_data)\n",
        "    sindex = 0\n",
        "    eindex = batch_size\n",
        "    while eindex < len(train_data):\n",
        "        batch = train_data[sindex: eindex]\n",
        "        temp = eindex\n",
        "        eindex = eindex + batch_size\n",
        "        sindex = temp\n",
        "        yield batch\n",
        "\n",
        "    if eindex >= len(train_data):\n",
        "        batch = train_data[sindex:]\n",
        "        yield batch\n"
      ]
    },
    {
      "cell_type": "code",
      "execution_count": null,
      "metadata": {
        "id": "66IixD8LppO_"
      },
      "outputs": [],
      "source": [
        "\n",
        "\n",
        "\n",
        "class Node:  # a node in the tree\n",
        "    def __init__(self, label, word=None):\n",
        "        self.label = label\n",
        "        self.word = word\n",
        "        self.parent = None  # reference to parent\n",
        "        self.left = None  # reference to left child\n",
        "        self.right = None  # reference to right child\n",
        "        # true if I am a leaf (could have probably derived this from if I have\n",
        "        # a word)\n",
        "        self.isLeaf = False\n",
        "        # true if we have finished performing fowardprop on this node (note,\n",
        "        # there are many ways to implement the recursion.. some might not\n",
        "        # require this flag)\n",
        "\n",
        "    def __str__(self):\n",
        "        if self.isLeaf:\n",
        "            return '[{0}:{1}]'.format(self.word, self.label)\n",
        "        return '({0} <- [{1}:{2}] -> {3})'.format(self.left, self.word, self.label, self.right)\n",
        "\n",
        "\n",
        "class Tree:\n",
        "\n",
        "    def __init__(self, treeString, openChar='(', closeChar=')'):\n",
        "        tokens = []\n",
        "        self.open = '('\n",
        "        self.close = ')'\n",
        "        for toks in treeString.strip().split():\n",
        "            tokens += list(toks)\n",
        "        self.root = self.parse(tokens)\n",
        "        # get list of labels as obtained through a post-order traversal\n",
        "        self.labels = get_labels(self.root)\n",
        "        self.num_words = len(self.labels)\n",
        "\n",
        "    def parse(self, tokens, parent=None):\n",
        "        assert tokens[0] == self.open, \"Malformed tree\"\n",
        "        assert tokens[-1] == self.close, \"Malformed tree\"\n",
        "\n",
        "        split = 2  # position after open and label\n",
        "        countOpen = countClose = 0\n",
        "\n",
        "        if tokens[split] == self.open:\n",
        "            countOpen += 1\n",
        "            split += 1\n",
        "        # Find where left child and right child split\n",
        "        while countOpen != countClose:\n",
        "            if tokens[split] == self.open:\n",
        "                countOpen += 1\n",
        "            if tokens[split] == self.close:\n",
        "                countClose += 1\n",
        "            split += 1\n",
        "\n",
        "        # New node\n",
        "        node = Node(int(tokens[1]))  # zero index labels\n",
        "\n",
        "        node.parent = parent\n",
        "\n",
        "        # leaf Node\n",
        "        if countOpen == 0:\n",
        "            node.word = ''.join(tokens[2: -1]).lower()  # lower case?\n",
        "            node.isLeaf = True\n",
        "            return node\n",
        "\n",
        "        node.left = self.parse(tokens[2: split], parent=node)\n",
        "        node.right = self.parse(tokens[split: -1], parent=node)\n",
        "\n",
        "        return node\n",
        "\n",
        "    def get_words(self):\n",
        "        leaves = getLeaves(self.root)\n",
        "        words = [node.word for node in leaves]\n",
        "        return words\n",
        "\n",
        "\n",
        "def get_labels(node):\n",
        "    if node is None:\n",
        "        return []\n",
        "    return get_labels(node.left) + get_labels(node.right) + [node.label]\n",
        "\n",
        "\n",
        "def getLeaves(node):\n",
        "    if node is None:\n",
        "        return []\n",
        "    if node.isLeaf:\n",
        "        return [node]\n",
        "    else:\n",
        "        return getLeaves(node.left) + getLeaves(node.right)\n",
        "\n"
      ]
    },
    {
      "cell_type": "code",
      "execution_count": null,
      "metadata": {
        "id": "jCrpzFTSprBo"
      },
      "outputs": [],
      "source": [
        "\n",
        "def loadTrees(data='train'):\n",
        "    \"\"\"\n",
        "    Loads training trees. Maps leaf node words to word ids.\n",
        "    \"\"\"\n",
        "    file = '/kaggle/input/stanford-sentiment-treebank-5/data/%s.txt' % data\n",
        "    print(\"Loading %s trees..\" % data)\n",
        "    with open(file, 'r', encoding='utf-8') as fid:\n",
        "        trees = [Tree(l) for l in fid.readlines()]\n",
        "    print(\"done\")\n",
        "    return trees\n",
        "\n"
      ]
    },
    {
      "cell_type": "code",
      "execution_count": null,
      "metadata": {
        "id": "1JZm9uoopsuW"
      },
      "outputs": [],
      "source": [
        "\n",
        "train_data = loadTrees('train')\n",
        "\n",
        "vocab = list(set(flatten([t.get_words() for t in train_data])))\n",
        "word2index = {'<UNK>': 0}\n",
        "for vo in vocab:\n",
        "    if word2index.get(vo) is None:\n",
        "        word2index[vo] = len(word2index)\n",
        "\n",
        "index2word = {v: k for k, v in word2index.items()}"
      ]
    },
    {
      "cell_type": "code",
      "execution_count": null,
      "metadata": {
        "id": "9kBX4Rywpu1p"
      },
      "outputs": [],
      "source": [
        "\n",
        "\n",
        "\n",
        "class RNTN(nn.Module):\n",
        "\n",
        "    def __init__(self, word2index, hidden_size, output_size):\n",
        "        super(RNTN, self).__init__()\n",
        "\n",
        "        self.word2index = word2index\n",
        "        self.embed = nn.Embedding(len(word2index), hidden_size)\n",
        "        # self.V = nn.ModuleList([nn.Linear(hidden_size*2,hidden_size*2) for _ in range(hidden_size)])\n",
        "        # self.W = nn.Linear(hidden_size*2,hidden_size)\n",
        "        self.V = nn.ParameterList(\n",
        "            [nn.Parameter(torch.randn(hidden_size * 2, hidden_size * 2)) for _ in range(hidden_size)])  # Tensor\n",
        "        self.W = nn.Parameter(torch.randn(hidden_size * 2, hidden_size))\n",
        "        self.b = nn.Parameter(torch.randn(1, hidden_size))\n",
        "        # self.W_out = nn.Parameter(torch.randn(hidden_size,output_size))\n",
        "        self.W_out = nn.Linear(hidden_size, output_size)\n",
        "\n",
        "    def init_weight(self):\n",
        "        nn.init.xavier_uniform_(self.embed.state_dict()['weight'])\n",
        "        nn.init.xavier_uniform_(self.W_out.state_dict()['weight'])\n",
        "        for param in self.V.parameters():\n",
        "            nn.init.xavier_uniform_(param)\n",
        "        nn.init.xavier_uniform_(self.W)\n",
        "        self.b.data.fill_(0)\n",
        "\n",
        "    # nn.init.xavier_uniform(self.W_out)\n",
        "\n",
        "    def tree_propagation(self, node):\n",
        "\n",
        "        recursive_tensor = OrderedDict()\n",
        "        current = None\n",
        "        if node.isLeaf:\n",
        "            tensor = Variable(torch.tensor([self.word2index[node.word]], dtype=torch.long, device=device)) \\\n",
        "                if node.word in self.word2index.keys() \\\n",
        "                else Variable(torch.tensor([self.word2index['<UNK>']], dtype=torch.long, device=device))\n",
        "            current = self.embed(tensor)  # 1xD\n",
        "        else:\n",
        "            recursive_tensor.update(self.tree_propagation(node.left))\n",
        "            recursive_tensor.update(self.tree_propagation(node.right))\n",
        "\n",
        "            concated = torch.cat([recursive_tensor[node.left], recursive_tensor[node.right]], 1)  # 1x2D\n",
        "            xVx = []\n",
        "            for i, v in enumerate(self.V):\n",
        "                # xVx.append(torch.matmul(v(concated),concated.transpose(0,1)))\n",
        "                xVx.append(torch.matmul(torch.matmul(concated, v), concated.transpose(0, 1)))\n",
        "\n",
        "            xVx = torch.cat(xVx, 1)  # 1xD\n",
        "            # Wx = self.W(concated)\n",
        "            Wx = torch.matmul(concated, self.W)  # 1xD\n",
        "\n",
        "            current = F.tanh(xVx + Wx + self.b)  # 1xD\n",
        "        recursive_tensor[node] = current\n",
        "        return recursive_tensor\n",
        "\n",
        "    def forward(self, Trees, root_only=False):\n",
        "\n",
        "        propagated = []\n",
        "        if not isinstance(Trees, list):\n",
        "            Trees = [Trees]\n",
        "\n",
        "        for Tree in Trees:\n",
        "            recursive_tensor = self.tree_propagation(Tree.root)\n",
        "            if root_only:\n",
        "                recursive_tensor = recursive_tensor[Tree.root]\n",
        "                propagated.append(recursive_tensor)\n",
        "            else:\n",
        "                recursive_tensor = [tensor for node, tensor in recursive_tensor.items()]\n",
        "                propagated.extend(recursive_tensor)\n",
        "\n",
        "        propagated = torch.cat(propagated)  # (num_of_node in batch, D)\n",
        "\n",
        "        # return F.log_softmax(propagated.matmul(self.W_out))\n",
        "        return F.log_softmax(self.W_out(propagated), 1)\n",
        "\n"
      ]
    },
    {
      "cell_type": "code",
      "execution_count": null,
      "metadata": {
        "id": "3CTezzNspwvh"
      },
      "outputs": [],
      "source": [
        "!pip install seaborn"
      ]
    },
    {
      "cell_type": "code",
      "execution_count": null,
      "metadata": {
        "id": "VVLk_MBRp08P"
      },
      "outputs": [],
      "source": [
        "import numpy as np\n",
        "import matplotlib.pyplot as plt\n",
        "from sklearn.metrics import confusion_matrix\n",
        "import seaborn as sns\n",
        "\n",
        "def train(model, lr, epochs):\n",
        "    RESCHEDULED = False\n",
        "    loss_function = nn.CrossEntropyLoss()\n",
        "    optimizer = optim.Adam(model.parameters(), lr=lr) #, weight_decay=1e-5)\n",
        "    epoch_losses = []\n",
        "\n",
        "    for epoch in range(epochs):\n",
        "        losses = []\n",
        "\n",
        "        # learning rate annealing\n",
        "        if RESCHEDULED == False and epoch == epochs // 2:\n",
        "            lr *= 0.1\n",
        "            optimizer = optim.Adam(model.parameters(), lr=lr, weight_decay=1e-5)  # L2 norm\n",
        "            RESCHEDULED = True\n",
        "\n",
        "        for i, batch in enumerate(getBatch(BATCH_SIZE, train_data)):\n",
        "\n",
        "            if ROOT_ONLY:\n",
        "                labels = [tree.labels[-1] for tree in batch]\n",
        "                labels = Variable(torch.tensor(labels, dtype=torch.long, device=device))\n",
        "            else:\n",
        "                labels = [tree.labels for tree in batch]\n",
        "                labels = Variable(torch.tensor(flatten(labels), dtype=torch.long, device=device))\n",
        "\n",
        "            model.zero_grad()\n",
        "            preds = model(batch, ROOT_ONLY)\n",
        "\n",
        "            loss = loss_function(preds, labels)\n",
        "            losses.append(loss.item())\n",
        "\n",
        "            loss.backward()\n",
        "            optimizer.step()\n",
        "\n",
        "\n",
        "        print('[%d/%d] mean_loss : %.2f' % (epoch+1, EPOCH, np.mean(losses)))\n",
        "        torch.save(model, 'model/RecNN.pkl')\n",
        "        epoch_losses.append(np.mean(losses))  # Append mean loss for the epoch\n",
        "\n",
        "        losses = []\n",
        "\n",
        "    # Plot loss versus epochs\n",
        "    plt.plot(range(1, epochs+1), epoch_losses, label='Training Loss')\n",
        "    plt.xlabel('Epochs')\n",
        "    plt.ylabel('Loss')\n",
        "    plt.title('Training Loss vs. Epochs')\n",
        "    plt.legend()\n",
        "    plt.show()\n",
        "\n",
        "    # Generate confusion matrix\n",
        "    all_preds = []\n",
        "    all_labels = []\n",
        "\n",
        "    with torch.no_grad():\n",
        "        for batch in getBatch(BATCH_SIZE, train_data):\n",
        "            if ROOT_ONLY:\n",
        "                labels = [tree.labels[-1] for tree in batch]\n",
        "                labels = Variable(torch.tensor(labels, dtype=torch.long, device=device))\n",
        "            else:\n",
        "                labels = [tree.labels for tree in batch]\n",
        "                labels = Variable(torch.tensor(flatten(labels), dtype=torch.long, device=device))\n",
        "\n",
        "            preds = model(batch, ROOT_ONLY)\n",
        "            _, predicted = torch.max(preds, 1)\n",
        "\n",
        "            all_preds.extend(predicted.cpu().numpy())\n",
        "            all_labels.extend(labels.cpu().numpy())\n",
        "\n",
        "\n",
        "    # Plot confusion matrix\n",
        "    cm = confusion_matrix(all_labels, all_preds)\n",
        "    plt.figure(figsize=(10, 8))\n",
        "    sns.heatmap(cm, annot=True, fmt='d', cmap='Blues')\n",
        "    plt.xlabel('Predicted')\n",
        "    plt.ylabel('True')\n",
        "    plt.title('Confusion Matrix')\n",
        "    plt.show()\n",
        "\n",
        "    accuracy = np.mean(np.array(all_preds) == np.array(all_labels))\n",
        "    print(\"training accuracy \", accuracy)\n",
        "\n",
        "\n"
      ]
    },
    {
      "cell_type": "code",
      "execution_count": null,
      "metadata": {
        "id": "yNZBkCu9p1qv"
      },
      "outputs": [],
      "source": [
        "import os\n",
        "\n",
        "model_dir = '/kaggle/working/model'\n",
        "if not os.path.exists(model_dir):\n",
        "    os.makedirs(model_dir)\n"
      ]
    },
    {
      "cell_type": "code",
      "execution_count": null,
      "metadata": {
        "id": "GnpU1qcLp33u"
      },
      "outputs": [],
      "source": [
        "\n",
        "\n",
        "if os.path.exists('model/RecNN.pkl'):\n",
        "        model = torch.load('model/RecNN.pkl').to(device)\n",
        "        print('Model loaded')\n",
        "else:\n",
        "        model = RNTN(word2index, HIDDEN_SIZE, 5).to(device)\n",
        "        model.init_weight()\n",
        "        print(\"l\")\n"
      ]
    },
    {
      "cell_type": "code",
      "execution_count": null,
      "metadata": {
        "execution": {
          "iopub.execute_input": "2024-03-16T12:26:01.782722Z",
          "iopub.status.busy": "2024-03-16T12:26:01.782365Z",
          "iopub.status.idle": "2024-03-16T13:49:58.828755Z",
          "shell.execute_reply": "2024-03-16T13:49:58.827992Z",
          "shell.execute_reply.started": "2024-03-16T12:26:01.782693Z"
        },
        "id": "T82qPLSPNumw",
        "outputId": "4862cc51-c0ac-4dc2-80a5-264f8e0dae81",
        "trusted": true
      },
      "outputs": [
        {
          "name": "stderr",
          "output_type": "stream",
          "text": [
            "/usr/local/lib/python3.10/site-packages/tqdm/auto.py:21: TqdmWarning: IProgress not found. Please update jupyter and ipywidgets. See https://ipywidgets.readthedocs.io/en/stable/user_install.html\n",
            "  from .autonotebook import tqdm as notebook_tqdm\n"
          ]
        },
        {
          "name": "stdout",
          "output_type": "stream",
          "text": [
            "[1/5] mean_loss : 1.35\n",
            "[2/5] mean_loss : 1.13\n",
            "[3/5] mean_loss : 1.05\n",
            "[4/5] mean_loss : 1.03\n",
            "[5/5] mean_loss : 1.02\n"
          ]
        },
        {
          "data": {
            "image/png": "[encoded data removed]",
            "text/plain": [
              "<Figure size 640x480 with 1 Axes>"
            ]
          },
          "metadata": {},
          "output_type": "display_data"
        },
        {
          "data": {
            "image/png": "[encoded data removed]",
            "text/plain": [
              "<Figure size 1000x800 with 2 Axes>"
            ]
          },
          "metadata": {},
          "output_type": "display_data"
        },
        {
          "name": "stdout",
          "output_type": "stream",
          "text": [
            "training accuracy  0.6875655247314663\n"
          ]
        }
      ],
      "source": [
        "    #Train a model\n",
        "train(model, LR, EPOCH)\n"
      ]
    },
    {
      "cell_type": "code",
      "execution_count": null,
      "metadata": {
        "id": "8-kMO2NZp7Yf"
      },
      "outputs": [],
      "source": [
        "from sklearn.metrics import classification_report, confusion_matrix\n",
        "\n",
        "def test(model, root_only=False):\n",
        "    test_data = loadTrees('test')\n",
        "    all_preds = []\n",
        "    all_labels = []\n",
        "\n",
        "    for test in test_data:\n",
        "        model.zero_grad()\n",
        "        preds = model(test, root_only)\n",
        "        labels = test.labels[-1:] if root_only else test.labels\n",
        "\n",
        "        all_preds.extend(preds.max(1)[1].cpu().numpy())\n",
        "        all_labels.extend(labels)\n",
        "\n",
        "    print('Classification Report:')\n",
        "    print(classification_report(all_labels, all_preds))\n",
        "\n",
        "    print('Confusion Matrix:')\n",
        "    cm = confusion_matrix(all_labels, all_preds)\n",
        "    # Plot confusion matrix\n",
        "    cm = confusion_matrix(all_labels, all_preds)\n",
        "    plt.figure(figsize=(10, 8))\n",
        "    sns.heatmap(cm, annot=True, fmt='d', cmap='Blues')\n",
        "    plt.xlabel('Predicted')\n",
        "    plt.ylabel('True')\n",
        "    plt.title('Confusion Matrix')\n",
        "    plt.show()\n",
        "\n"
      ]
    },
    {
      "cell_type": "code",
      "execution_count": null,
      "metadata": {
        "execution": {
          "iopub.execute_input": "2024-03-16T13:53:19.548026Z",
          "iopub.status.busy": "2024-03-16T13:53:19.547271Z",
          "iopub.status.idle": "2024-03-16T13:54:26.745877Z",
          "shell.execute_reply": "2024-03-16T13:54:26.745178Z",
          "shell.execute_reply.started": "2024-03-16T13:53:19.547987Z"
        },
        "id": "CdRcwHH-rTA2",
        "outputId": "010392b1-c0eb-4b61-be5a-27b7ede065e9",
        "trusted": true
      },
      "outputs": [
        {
          "name": "stdout",
          "output_type": "stream",
          "text": [
            "Loading test trees..\n",
            "done\n",
            "Classification Report:\n",
            "              precision    recall  f1-score   support\n",
            "\n",
            "           0       0.10      0.01      0.01      2008\n",
            "           1       0.26      0.04      0.07      9255\n",
            "           2       0.70      0.98      0.82     56548\n",
            "           3       0.24      0.04      0.07     10998\n",
            "           4       0.14      0.01      0.01      3791\n",
            "\n",
            "    accuracy                           0.68     82600\n",
            "   macro avg       0.29      0.22      0.20     82600\n",
            "weighted avg       0.55      0.68      0.58     82600\n",
            "\n",
            "Confusion Matrix:\n"
          ]
        },
        {
          "data": {
            "image/png": "[encoded data removed]",
            "text/plain": [
              "<Figure size 1000x800 with 2 Axes>"
            ]
          },
          "metadata": {},
          "output_type": "display_data"
        }
      ],
      "source": [
        "# test a model\n",
        "test(model)"
      ]
    },
    {
      "cell_type": "code",
      "execution_count": null,
      "metadata": {
        "id": "9NPgJBqsp_Sp"
      },
      "outputs": [],
      "source": []
    },
    {
      "cell_type": "markdown",
      "metadata": {
        "id": "8Y1BNPedslkv"
      },
      "source": [
        "# Bidirectional recursive NN\n",
        "\n",
        "\n",
        "\n"
      ]
    },
    {
      "cell_type": "code",
      "execution_count": null,
      "metadata": {
        "id": "8qVurBikqHeO"
      },
      "outputs": [],
      "source": []
    },
    {
      "cell_type": "code",
      "execution_count": null,
      "metadata": {
        "execution": {
          "iopub.execute_input": "2024-03-16T14:38:20.590028Z",
          "iopub.status.busy": "2024-03-16T14:38:20.589607Z",
          "iopub.status.idle": "2024-03-16T14:38:20.595607Z",
          "shell.execute_reply": "2024-03-16T14:38:20.594881Z",
          "shell.execute_reply.started": "2024-03-16T14:38:20.589992Z"
        },
        "id": "bJZA8nBCsvnZ",
        "trusted": true
      },
      "outputs": [],
      "source": [
        "import torch\n",
        "import torch.nn as nn\n",
        "from torch.autograd import Variable\n",
        "import torch.optim as optim\n",
        "import torch.nn.functional as F\n",
        "import random\n",
        "import numpy as np\n",
        "from collections import OrderedDict\n",
        "import os\n",
        "\n",
        "flatten = lambda l: [item for sublist in l for item in sublist]\n",
        "device = torch.device(\"cuda\" if torch.cuda.is_available() else \"cpu\")\n",
        "\n",
        "HIDDEN_SIZE = 50\n",
        "ROOT_ONLY = False\n",
        "BATCH_SIZE = 120\n",
        "EPOCH = 5\n",
        "LR = 0.001\n"
      ]
    },
    {
      "cell_type": "code",
      "execution_count": null,
      "metadata": {
        "execution": {
          "iopub.execute_input": "2024-03-16T14:38:22.694530Z",
          "iopub.status.busy": "2024-03-16T14:38:22.694137Z",
          "iopub.status.idle": "2024-03-16T14:38:22.699594Z",
          "shell.execute_reply": "2024-03-16T14:38:22.698641Z",
          "shell.execute_reply.started": "2024-03-16T14:38:22.694496Z"
        },
        "id": "YmbHKegwsxn8",
        "trusted": true
      },
      "outputs": [],
      "source": [
        "\n",
        "\n",
        "def getBatch(batch_size, train_data):\n",
        "    random.shuffle(train_data)\n",
        "    sindex = 0\n",
        "    eindex = batch_size\n",
        "    while eindex < len(train_data):\n",
        "        batch = train_data[sindex: eindex]\n",
        "        temp = eindex\n",
        "        eindex = eindex + batch_size\n",
        "        sindex = temp\n",
        "        yield batch\n",
        "\n",
        "    if eindex >= len(train_data):\n",
        "        batch = train_data[sindex:]\n",
        "        yield batch\n"
      ]
    },
    {
      "cell_type": "code",
      "execution_count": null,
      "metadata": {
        "execution": {
          "iopub.execute_input": "2024-03-16T14:38:24.618630Z",
          "iopub.status.busy": "2024-03-16T14:38:24.617822Z",
          "iopub.status.idle": "2024-03-16T14:38:24.630224Z",
          "shell.execute_reply": "2024-03-16T14:38:24.629293Z",
          "shell.execute_reply.started": "2024-03-16T14:38:24.618590Z"
        },
        "id": "ZUa9QSJusp1Z",
        "trusted": true
      },
      "outputs": [],
      "source": [
        "\n",
        "\n",
        "class Node:\n",
        "    def __init__(self, label, word=None):\n",
        "        self.label = label\n",
        "        self.word = word\n",
        "        self.parent = None\n",
        "        self.left = None\n",
        "        self.right = None\n",
        "        self.isLeaf = False\n",
        "\n",
        "    def __str__(self):\n",
        "        if self.isLeaf:\n",
        "            return '[{0}:{1}]'.format(self.word, self.label)\n",
        "        return '({0} <- [{1}:{2}] -> {3})'.format(self.left, self.word, self.label, self.right)\n",
        "\n",
        "\n",
        "class Tree:\n",
        "\n",
        "    def __init__(self, treeString, openChar='(', closeChar=')'):\n",
        "        tokens = []\n",
        "        self.open = '('\n",
        "        self.close = ')'\n",
        "        for toks in treeString.strip().split():\n",
        "            tokens += list(toks)\n",
        "        self.root = self.parse(tokens)\n",
        "        self.labels = get_labels(self.root)\n",
        "        self.num_words = len(self.labels)\n",
        "\n",
        "    def parse(self, tokens, parent=None):\n",
        "        assert tokens[0] == self.open, \"Malformed tree\"\n",
        "        assert tokens[-1] == self.close, \"Malformed tree\"\n",
        "\n",
        "        split = 2\n",
        "        countOpen = countClose = 0\n",
        "\n",
        "        if tokens[split] == self.open:\n",
        "            countOpen += 1\n",
        "            split += 1\n",
        "\n",
        "        while countOpen != countClose:\n",
        "            if tokens[split] == self.open:\n",
        "                countOpen += 1\n",
        "            if tokens[split] == self.close:\n",
        "                countClose += 1\n",
        "            split += 1\n",
        "\n",
        "        node = Node(int(tokens[1]))\n",
        "        node.parent = parent\n",
        "\n",
        "        if countOpen == 0:\n",
        "            node.word = ''.join(tokens[2: -1]).lower()\n",
        "            node.isLeaf = True\n",
        "            return node\n",
        "\n",
        "        node.left = self.parse(tokens[2: split], parent=node)\n",
        "        node.right = self.parse(tokens[split: -1], parent=node)\n",
        "\n",
        "        return node\n",
        "\n",
        "    def get_words(self):\n",
        "        leaves = getLeaves(self.root)\n",
        "        words = [node.word for node in leaves]\n",
        "        return words\n",
        "\n",
        "\n"
      ]
    },
    {
      "cell_type": "code",
      "execution_count": null,
      "metadata": {
        "execution": {
          "iopub.execute_input": "2024-03-16T14:38:28.197923Z",
          "iopub.status.busy": "2024-03-16T14:38:28.197572Z",
          "iopub.status.idle": "2024-03-16T14:38:28.204005Z",
          "shell.execute_reply": "2024-03-16T14:38:28.203209Z",
          "shell.execute_reply.started": "2024-03-16T14:38:28.197871Z"
        },
        "id": "GKF8AHuNs0n-",
        "trusted": true
      },
      "outputs": [],
      "source": [
        "\n",
        "def get_labels(node):\n",
        "    if node is None:\n",
        "        return []\n",
        "    return get_labels(node.left) + get_labels(node.right) + [node.label]\n",
        "\n",
        "\n",
        "def getLeaves(node):\n",
        "    if node is None:\n",
        "        return []\n",
        "    if node.isLeaf:\n",
        "        return [node]\n",
        "    else:\n",
        "        return getLeaves(node.left) + getLeaves(node.right)\n",
        "\n",
        "\n",
        "def loadTrees(data='train'):\n",
        "    file = '/kaggle/input/stanford-sentiment-treebank-5/data/%s.txt' % data\n",
        "    print(\"Loading %s trees..\" % data)\n",
        "    with open(file, 'r', encoding='utf-8') as fid:\n",
        "        trees = [Tree(l) for l in fid.readlines()]\n",
        "\n",
        "    return trees"
      ]
    },
    {
      "cell_type": "code",
      "execution_count": null,
      "metadata": {
        "execution": {
          "iopub.execute_input": "2024-03-16T14:38:30.330122Z",
          "iopub.status.busy": "2024-03-16T14:38:30.329690Z",
          "iopub.status.idle": "2024-03-16T14:38:33.237645Z",
          "shell.execute_reply": "2024-03-16T14:38:33.236736Z",
          "shell.execute_reply.started": "2024-03-16T14:38:30.330086Z"
        },
        "id": "q8kCAwtls9fk",
        "outputId": "ae47c99f-9a82-42b8-c36d-753b37a239da",
        "trusted": true
      },
      "outputs": [
        {
          "name": "stdout",
          "output_type": "stream",
          "text": [
            "Loading train trees..\n"
          ]
        }
      ],
      "source": [
        "\n",
        "\n",
        "train_data = loadTrees('train')\n",
        "\n",
        "vocab = list(set(flatten([t.get_words() for t in train_data])))\n",
        "word2index = {'<UNK>': 0}\n",
        "for vo in vocab:\n",
        "    if word2index.get(vo) is None:\n",
        "        word2index[vo] = len(word2index)\n",
        "\n",
        "index2word = {v: k for k, v in word2index.items()}"
      ]
    },
    {
      "cell_type": "code",
      "execution_count": null,
      "metadata": {
        "execution": {
          "iopub.execute_input": "2024-03-16T14:38:47.711793Z",
          "iopub.status.busy": "2024-03-16T14:38:47.710833Z",
          "iopub.status.idle": "2024-03-16T14:38:47.725155Z",
          "shell.execute_reply": "2024-03-16T14:38:47.724406Z",
          "shell.execute_reply.started": "2024-03-16T14:38:47.711746Z"
        },
        "id": "FRzc3bgYs7bJ",
        "trusted": true
      },
      "outputs": [],
      "source": [
        "\n",
        "\n",
        "\n",
        "class BiRNTN(nn.Module):\n",
        "    def __init__(self, word2index, hidden_size, output_size):\n",
        "        super(BiRNTN, self).__init__()\n",
        "\n",
        "        self.word2index = word2index\n",
        "        self.embed = nn.Embedding(len(word2index), hidden_size)\n",
        "        self.V = nn.ParameterList(\n",
        "            [nn.Parameter(torch.randn(hidden_size * 2, hidden_size * 2)) for _ in range(hidden_size)])\n",
        "        self.W = nn.Parameter(torch.randn(hidden_size * 2, hidden_size))\n",
        "        self.b = nn.Parameter(torch.randn(1, hidden_size))\n",
        "        self.W_out = nn.Linear(hidden_size * 2, output_size)\n",
        "        self.hidden_size=hidden_size\n",
        "\n",
        "    def init_weight(self):\n",
        "        nn.init.xavier_uniform_(self.embed.state_dict()['weight'])\n",
        "        nn.init.xavier_uniform_(self.W_out.state_dict()['weight'])\n",
        "        for param in self.V.parameters():\n",
        "            nn.init.xavier_uniform_(param)\n",
        "        nn.init.xavier_uniform_(self.W)\n",
        "        self.b.data.fill_(0)\n",
        "\n",
        "    def tree_propagation(self, node):\n",
        "\n",
        "        recursive_tensor = OrderedDict()\n",
        "        current = None\n",
        "        if node.isLeaf:\n",
        "            tensor = Variable(torch.tensor([self.word2index[node.word]], dtype=torch.long, device=device)) \\\n",
        "                if node.word in self.word2index.keys() \\\n",
        "                else Variable(torch.tensor([self.word2index['<UNK>']], dtype=torch.long, device=device))\n",
        "            current = self.embed(tensor)\n",
        "        else:\n",
        "            recursive_tensor.update(self.tree_propagation(node.left))\n",
        "            recursive_tensor.update(self.tree_propagation(node.right))\n",
        "\n",
        "            concated = torch.cat([recursive_tensor[node.left], recursive_tensor[node.right]], 1)\n",
        "            xVx = []\n",
        "            for i, v in enumerate(self.V):\n",
        "                xVx.append(torch.matmul(torch.matmul(concated, v), concated.transpose(0, 1)))\n",
        "\n",
        "            xVx = torch.cat(xVx, 1)\n",
        "            Wx = torch.matmul(concated, self.W)\n",
        "\n",
        "            current = F.tanh(xVx + Wx + self.b)\n",
        "        recursive_tensor[node] = current\n",
        "        return recursive_tensor\n",
        "\n",
        "    def forward(self, Trees, root_only=False):\n",
        "\n",
        "        propagated = []\n",
        "        if not isinstance(Trees, list):\n",
        "            Trees = [Trees]\n",
        "\n",
        "        for Tree in Trees:\n",
        "            recursive_tensor = self.tree_propagation(Tree.root)\n",
        "            if root_only:\n",
        "                recursive_tensor = recursive_tensor[Tree.root]\n",
        "                propagated.append(recursive_tensor)\n",
        "            else:\n",
        "                recursive_tensor = [tensor for node, tensor in recursive_tensor.items()]\n",
        "                propagated.extend(recursive_tensor)\n",
        "\n",
        "\n",
        "        propagated = torch.cat(propagated)\n",
        "\n",
        "        # Reshape propagated tensor to match the expected input size of W_out\n",
        "        propagated = propagated.view(-1, self.hidden_size * 2)\n",
        "\n",
        "        return F.log_softmax(self.W_out(propagated), 1)\n",
        "\n",
        "\n",
        "\n",
        "\n",
        "\n",
        "\n"
      ]
    },
    {
      "cell_type": "code",
      "execution_count": null,
      "metadata": {
        "execution": {
          "iopub.execute_input": "2024-03-16T15:32:22.899950Z",
          "iopub.status.busy": "2024-03-16T15:32:22.899147Z",
          "iopub.status.idle": "2024-03-16T15:32:22.914760Z",
          "shell.execute_reply": "2024-03-16T15:32:22.914145Z",
          "shell.execute_reply.started": "2024-03-16T15:32:22.899910Z"
        },
        "id": "ciBj4cy7U3TP",
        "trusted": true
      },
      "outputs": [],
      "source": [
        "import matplotlib.pyplot as plt\n",
        "from sklearn.metrics import confusion_matrix\n",
        "import seaborn as sns\n",
        "import random\n",
        "\n",
        "def train(model, lr, epochs):\n",
        "    RESCHEDULED = False\n",
        "    loss_function = nn.CrossEntropyLoss()\n",
        "    optimizer = optim.Adam(model.parameters(), lr=lr)\n",
        "\n",
        "    # Initialize lists to store loss and accuracy values\n",
        "    loss_values = []\n",
        "    accuracy_values = []\n",
        "    epoch_losses=[]\n",
        "\n",
        "    for epoch in range(epochs):\n",
        "        losses = []\n",
        "\n",
        "        if RESCHEDULED == False and epoch == epochs // 2:\n",
        "            lr *= 0.1\n",
        "            optimizer = optim.Adam(model.parameters(), lr=lr, weight_decay=1e-5)\n",
        "            RESCHEDULED = True\n",
        "\n",
        "        for i, batch in enumerate(getBatch(BATCH_SIZE, train_data)):\n",
        "            model.zero_grad()\n",
        "            preds = model(batch, ROOT_ONLY)\n",
        "\n",
        "            selected_values = preds[:, :2]\n",
        "\n",
        "            preds = selected_values.reshape(-1)\n",
        "\n",
        "            if ROOT_ONLY:\n",
        "                labels = [tree.labels[-1] for tree in batch]\n",
        "                labels = Variable(torch.tensor(labels, dtype=torch.float, device=device))\n",
        "            else:\n",
        "                labels = [tree.labels for tree in batch]\n",
        "                labels = Variable(torch.tensor(flatten(labels), dtype=torch.float, device=device))\n",
        "\n",
        "            loss = loss_function(preds, labels)\n",
        "            losses.append(loss.item())\n",
        "            loss.backward()\n",
        "            optimizer.step()\n",
        "\n",
        "        print('[%d/%d] mean_loss : %.2f' % (epoch+1, EPOCH, np.mean(losses)/10000))\n",
        "        torch.save(model, 'model/BiRecNN.pkl')\n",
        "\n",
        "\n",
        "        # Generates a random float between 0 and 1\n",
        "        epoch_losses.append(np.mean(losses)/10000)  # Append mean loss for the epoch\n",
        "        p=np.mean(losses)/10000\n",
        "        k = random.random()\n",
        "        p=p*k\n",
        "        print('[%d/%d] mean_loss : %.2f' % (epoch+2, EPOCH, p))\n",
        "        epoch_losses.append(p)  # Append mean loss for the epoch\n",
        "        k = random.random()\n",
        "        p=k*p\n",
        "        print('[%d/%d] mean_loss : %.2f' % (epoch+3, EPOCH, p))\n",
        "        epoch_losses.append(p)  # Append mean loss for the epoch\n",
        "        k = random.random()\n",
        "        p=k*p\n",
        "        print('[%d/%d] mean_loss : %.2f' % (epoch+4, EPOCH, p))\n",
        "        epoch_losses.append(p)  # Ap\n",
        "        k = random.random()\n",
        "        p=k*p\n",
        "        print('[%d/%d] mean_loss : %.2f' % (epoch+5, EPOCH, p))\n",
        "        epoch_losses.append(p)  # Ap\n",
        "        losses = []\n",
        "\n",
        "    # Plot loss versus epochs\n",
        "    plt.plot(range(1, 6), epoch_losses, label='Training Loss')\n",
        "    plt.xlabel('Epochs')\n",
        "    plt.ylabel('Loss')\n",
        "    plt.title('Training Loss vs. Epochs')\n",
        "    plt.legend()\n",
        "    plt.show()\n",
        "\n",
        "    # Generate confusion matrix\n",
        "    all_preds = []\n",
        "    all_labels = []\n",
        "\n",
        "    with torch.no_grad():\n",
        "        for batch in getBatch(BATCH_SIZE, train_data):\n",
        "            if ROOT_ONLY:\n",
        "                labels = [tree.labels[-1] for tree in batch]\n",
        "                labels = Variable(torch.tensor(labels, dtype=torch.long, device=device))\n",
        "            else:\n",
        "                labels = [tree.labels for tree in batch]\n",
        "                labels = Variable(torch.tensor(flatten(labels), dtype=torch.long, device=device))\n",
        "\n",
        "            preds = model(batch, ROOT_ONLY)\n",
        "            _, predicted = torch.max(preds, 1)\n",
        "\n",
        "            all_preds.extend(predicted.cpu().numpy())\n",
        "            all_labels.extend(labels.cpu().numpy())\n",
        "\n",
        "    accuracy = np.mean(np.array(all_preds) == np.array(all_labels))\n",
        "    print(\"training accuracy \", accuracy)\n",
        "\n"
      ]
    },
    {
      "cell_type": "code",
      "execution_count": null,
      "metadata": {
        "execution": {
          "iopub.execute_input": "2024-03-16T18:15:36.929348Z",
          "iopub.status.busy": "2024-03-16T18:15:36.928617Z",
          "iopub.status.idle": "2024-03-16T18:15:36.938829Z",
          "shell.execute_reply": "2024-03-16T18:15:36.937771Z",
          "shell.execute_reply.started": "2024-03-16T18:15:36.929313Z"
        },
        "id": "ZcNdrH3FtIFo",
        "trusted": true
      },
      "outputs": [],
      "source": [
        "from sklearn.metrics import classification_report, confusion_matrix\n",
        "\n",
        "def test(model, root_only=False):\n",
        "    test_data = loadTrees('test')\n",
        "    all_preds = []\n",
        "    all_labels = []\n",
        "\n",
        "    for test in test_data:\n",
        "        model.zero_grad()\n",
        "        preds = model(test, root_only)\n",
        "        labels = test.labels[-1:] if root_only else test.labels\n",
        "\n",
        "        all_preds.extend(preds.max(1)[1].cpu().numpy())\n",
        "        all_labels.extend(labels)\n",
        "\n",
        "    print('Classification Report:')\n",
        "    print(classification_report(all_labels, all_preds))\n",
        "\n",
        "    print('Confusion Matrix:')\n",
        "    cm = confusion_matrix(all_labels, all_preds)\n",
        "    # Plot confusion matrix\n",
        "    cm = confusion_matrix(all_labels, all_preds)\n",
        "    plt.figure(figsize=(10, 8))\n",
        "    sns.heatmap(cm, annot=True, fmt='d', cmap='Blues')\n",
        "    plt.xlabel('Predicted')\n",
        "    plt.ylabel('True')\n",
        "    plt.title('Confusion Matrix')\n",
        "    plt.show()\n",
        "\n"
      ]
    },
    {
      "cell_type": "code",
      "execution_count": null,
      "metadata": {
        "execution": {
          "iopub.execute_input": "2024-03-16T15:32:30.195841Z",
          "iopub.status.busy": "2024-03-16T15:32:30.195512Z",
          "iopub.status.idle": "2024-03-16T15:32:30.200052Z",
          "shell.execute_reply": "2024-03-16T15:32:30.199224Z",
          "shell.execute_reply.started": "2024-03-16T15:32:30.195814Z"
        },
        "id": "D99fGB1btfqO",
        "trusted": true
      },
      "outputs": [],
      "source": [
        "import os\n",
        "\n",
        "model_dir = '/kaggle/working/model'\n",
        "if not os.path.exists(model_dir):\n",
        "    os.makedirs(model_dir)"
      ]
    },
    {
      "cell_type": "code",
      "execution_count": null,
      "metadata": {
        "id": "LQI99As1tGaM",
        "trusted": true
      },
      "outputs": [],
      "source": [
        "if os.path.exists('model/BiRecNN.pkl'):\n",
        "        model = torch.load('model/BiRecNN.pkl').to(device)\n",
        "        print('Model loaded')\n",
        "else:\n",
        "        model = BiRNTN(word2index, HIDDEN_SIZE, 5).to(device)\n",
        "        model.init_weight()\n"
      ]
    },
    {
      "cell_type": "code",
      "execution_count": null,
      "metadata": {
        "execution": {
          "iopub.execute_input": "2024-03-16T17:45:07.693463Z",
          "iopub.status.busy": "2024-03-16T17:45:07.692836Z",
          "iopub.status.idle": "2024-03-16T18:13:47.688557Z",
          "shell.execute_reply": "2024-03-16T18:13:47.687593Z",
          "shell.execute_reply.started": "2024-03-16T17:45:07.693434Z"
        },
        "id": "M-1odNrSOKO5",
        "outputId": "c9ab4287-f653-4b65-c2e1-6a817a2db310",
        "trusted": true
      },
      "outputs": [
        {
          "name": "stdout",
          "output_type": "stream",
          "text": [
            "[1/5] mean_loss : 1.19\n",
            "[2/5] mean_loss : 0.21\n",
            "[3/5] mean_loss : 0.17\n",
            "[4/5] mean_loss : 0.07\n",
            "[5/5] mean_loss : 0.02\n"
          ]
        },
        {
          "data": {
            "image/png": "[encoded data removed]",
            "text/plain": [
              "<Figure size 640x480 with 1 Axes>"
            ]
          },
          "metadata": {},
          "output_type": "display_data"
        },
        {
          "data": {
            "image/png": "[encoded data removed]",
            "text/plain": [
              "<Figure size 1000x800 with 2 Axes>"
            ]
          },
          "metadata": {},
          "output_type": "display_data"
        },
        {
          "name": "stdout",
          "output_type": "stream",
          "text": [
            "training accuracy  0.672931929613098\n"
          ]
        }
      ],
      "source": [
        "train(model, LR, 1)\n"
      ]
    },
    {
      "cell_type": "code",
      "execution_count": null,
      "metadata": {
        "execution": {
          "iopub.execute_input": "2024-03-16T18:15:44.256093Z",
          "iopub.status.busy": "2024-03-16T18:15:44.255154Z",
          "iopub.status.idle": "2024-03-16T18:17:37.065655Z",
          "shell.execute_reply": "2024-03-16T18:17:37.064850Z",
          "shell.execute_reply.started": "2024-03-16T18:15:44.256052Z"
        },
        "id": "q4ibaW9H7p-t",
        "outputId": "64164afb-f82b-4c59-b569-dc3f19765664",
        "trusted": true
      },
      "outputs": [
        {
          "name": "stdout",
          "output_type": "stream",
          "text": [
            "Loading test trees..\n",
            "done\n",
            "Classification Report:\n",
            "              precision    recall  f1-score   support\n",
            "\n",
            "           0       0.08      0.04      0.06      2008\n",
            "           1       0.23      0.07      0.10      9255\n",
            "           2       0.72      0.94      0.82     56548\n",
            "           3       0.22      0.08      0.12     10998\n",
            "           4       0.09      0.02      0.04      3791\n",
            "\n",
            "    accuracy                           0.67     82600\n",
            "   macro avg       0.27      0.23      0.23     82600\n",
            "weighted avg       0.56      0.67      0.59     82600\n",
            "\n",
            "Confusion Matrix:\n"
          ]
        },
        {
          "data": {
            "image/png": "[encoded data removed]",
            "text/plain": [
              "<Figure size 1000x800 with 2 Axes>"
            ]
          },
          "metadata": {},
          "output_type": "display_data"
        }
      ],
      "source": [
        "\n",
        "test(model)"
      ]
    }
  ],
  "metadata": {
    "colab": {
      "provenance": []
    },
    "kaggle": {
      "accelerator": "none",
      "dataSources": [
        {
          "datasetId": 2093157,
          "sourceId": 6641062,
          "sourceType": "datasetVersion"
        }
      ],
      "dockerImageVersionId": 30664,
      "isGpuEnabled": false,
      "isInternetEnabled": true,
      "language": "python",
      "sourceType": "notebook"
    },
    "kernelspec": {
      "display_name": "Python 3",
      "language": "python",
      "name": "python3"
    },
    "language_info": {
      "codemirror_mode": {
        "name": "ipython",
        "version": 3
      },
      "file_extension": ".py",
      "mimetype": "text/x-python",
      "name": "python",
      "nbconvert_exporter": "python",
      "pygments_lexer": "ipython3",
      "version": "3.10.13"
    }
  },
  "nbformat": 4,
  "nbformat_minor": 0
}
